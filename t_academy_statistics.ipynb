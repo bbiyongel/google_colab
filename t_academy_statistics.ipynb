{
  "nbformat": 4,
  "nbformat_minor": 0,
  "metadata": {
    "colab": {
      "name": "t-academy-statistics.ipynb",
      "provenance": [],
      "collapsed_sections": [],
      "toc_visible": true,
      "authorship_tag": "ABX9TyNuKxrj2hPtb1xakD1PyfjX",
      "include_colab_link": true
    },
    "kernelspec": {
      "name": "python3",
      "display_name": "Python 3"
    }
  },
  "cells": [
    {
      "cell_type": "markdown",
      "metadata": {
        "id": "view-in-github",
        "colab_type": "text"
      },
      "source": [
        "<a href=\"https://colab.research.google.com/github/bbiyongel/google_colab/blob/master/t_academy_statistics.ipynb\" target=\"_parent\"><img src=\"https://colab.research.google.com/assets/colab-badge.svg\" alt=\"Open In Colab\"/></a>"
      ]
    },
    {
      "cell_type": "code",
      "metadata": {
        "id": "YT_kF26Bfa0_",
        "colab_type": "code",
        "colab": {}
      },
      "source": [
        "import pandas as pd\n",
        "df = pd.read_csv('http://wolfpack.hnu.ac.kr/Big_Data/data/MLB1871_2018/Salaries.csv')"
      ],
      "execution_count": 0,
      "outputs": []
    },
    {
      "cell_type": "code",
      "metadata": {
        "id": "IFKXgUEGfwKm",
        "colab_type": "code",
        "colab": {
          "base_uri": "https://localhost:8080/",
          "height": 36
        },
        "outputId": "be881c82-0f2d-4db3-9cbf-11625855360e"
      },
      "source": [
        "df.shape"
      ],
      "execution_count": 4,
      "outputs": [
        {
          "output_type": "execute_result",
          "data": {
            "text/plain": [
              "(26428, 5)"
            ]
          },
          "metadata": {
            "tags": []
          },
          "execution_count": 4
        }
      ]
    },
    {
      "cell_type": "code",
      "metadata": {
        "id": "4JukB-ZOfx8s",
        "colab_type": "code",
        "colab": {
          "base_uri": "https://localhost:8080/",
          "height": 202
        },
        "outputId": "f17f12e2-e3cf-4e18-cfc8-9bfb4870797b"
      },
      "source": [
        "df.head()"
      ],
      "execution_count": 3,
      "outputs": [
        {
          "output_type": "execute_result",
          "data": {
            "text/html": [
              "<div>\n",
              "<style scoped>\n",
              "    .dataframe tbody tr th:only-of-type {\n",
              "        vertical-align: middle;\n",
              "    }\n",
              "\n",
              "    .dataframe tbody tr th {\n",
              "        vertical-align: top;\n",
              "    }\n",
              "\n",
              "    .dataframe thead th {\n",
              "        text-align: right;\n",
              "    }\n",
              "</style>\n",
              "<table border=\"1\" class=\"dataframe\">\n",
              "  <thead>\n",
              "    <tr style=\"text-align: right;\">\n",
              "      <th></th>\n",
              "      <th>yearID</th>\n",
              "      <th>teamID</th>\n",
              "      <th>lgID</th>\n",
              "      <th>playerID</th>\n",
              "      <th>salary</th>\n",
              "    </tr>\n",
              "  </thead>\n",
              "  <tbody>\n",
              "    <tr>\n",
              "      <th>0</th>\n",
              "      <td>1985</td>\n",
              "      <td>ATL</td>\n",
              "      <td>NL</td>\n",
              "      <td>barkele01</td>\n",
              "      <td>870000</td>\n",
              "    </tr>\n",
              "    <tr>\n",
              "      <th>1</th>\n",
              "      <td>1985</td>\n",
              "      <td>ATL</td>\n",
              "      <td>NL</td>\n",
              "      <td>bedrost01</td>\n",
              "      <td>550000</td>\n",
              "    </tr>\n",
              "    <tr>\n",
              "      <th>2</th>\n",
              "      <td>1985</td>\n",
              "      <td>ATL</td>\n",
              "      <td>NL</td>\n",
              "      <td>benedbr01</td>\n",
              "      <td>545000</td>\n",
              "    </tr>\n",
              "    <tr>\n",
              "      <th>3</th>\n",
              "      <td>1985</td>\n",
              "      <td>ATL</td>\n",
              "      <td>NL</td>\n",
              "      <td>campri01</td>\n",
              "      <td>633333</td>\n",
              "    </tr>\n",
              "    <tr>\n",
              "      <th>4</th>\n",
              "      <td>1985</td>\n",
              "      <td>ATL</td>\n",
              "      <td>NL</td>\n",
              "      <td>ceronri01</td>\n",
              "      <td>625000</td>\n",
              "    </tr>\n",
              "  </tbody>\n",
              "</table>\n",
              "</div>"
            ],
            "text/plain": [
              "   yearID teamID lgID   playerID  salary\n",
              "0    1985    ATL   NL  barkele01  870000\n",
              "1    1985    ATL   NL  bedrost01  550000\n",
              "2    1985    ATL   NL  benedbr01  545000\n",
              "3    1985    ATL   NL   campri01  633333\n",
              "4    1985    ATL   NL  ceronri01  625000"
            ]
          },
          "metadata": {
            "tags": []
          },
          "execution_count": 3
        }
      ]
    },
    {
      "cell_type": "code",
      "metadata": {
        "id": "9REUQe7XfyqH",
        "colab_type": "code",
        "colab": {
          "base_uri": "https://localhost:8080/",
          "height": 294
        },
        "outputId": "fec83c1c-ba75-445e-9a23-6bb45a0f7929"
      },
      "source": [
        "df.describe()"
      ],
      "execution_count": 6,
      "outputs": [
        {
          "output_type": "execute_result",
          "data": {
            "text/html": [
              "<div>\n",
              "<style scoped>\n",
              "    .dataframe tbody tr th:only-of-type {\n",
              "        vertical-align: middle;\n",
              "    }\n",
              "\n",
              "    .dataframe tbody tr th {\n",
              "        vertical-align: top;\n",
              "    }\n",
              "\n",
              "    .dataframe thead th {\n",
              "        text-align: right;\n",
              "    }\n",
              "</style>\n",
              "<table border=\"1\" class=\"dataframe\">\n",
              "  <thead>\n",
              "    <tr style=\"text-align: right;\">\n",
              "      <th></th>\n",
              "      <th>yearID</th>\n",
              "      <th>salary</th>\n",
              "    </tr>\n",
              "  </thead>\n",
              "  <tbody>\n",
              "    <tr>\n",
              "      <th>count</th>\n",
              "      <td>26428.000000</td>\n",
              "      <td>2.642800e+04</td>\n",
              "    </tr>\n",
              "    <tr>\n",
              "      <th>mean</th>\n",
              "      <td>2000.878727</td>\n",
              "      <td>2.085634e+06</td>\n",
              "    </tr>\n",
              "    <tr>\n",
              "      <th>std</th>\n",
              "      <td>8.909314</td>\n",
              "      <td>3.455348e+06</td>\n",
              "    </tr>\n",
              "    <tr>\n",
              "      <th>min</th>\n",
              "      <td>1985.000000</td>\n",
              "      <td>0.000000e+00</td>\n",
              "    </tr>\n",
              "    <tr>\n",
              "      <th>25%</th>\n",
              "      <td>1994.000000</td>\n",
              "      <td>2.947020e+05</td>\n",
              "    </tr>\n",
              "    <tr>\n",
              "      <th>50%</th>\n",
              "      <td>2001.000000</td>\n",
              "      <td>5.500000e+05</td>\n",
              "    </tr>\n",
              "    <tr>\n",
              "      <th>75%</th>\n",
              "      <td>2009.000000</td>\n",
              "      <td>2.350000e+06</td>\n",
              "    </tr>\n",
              "    <tr>\n",
              "      <th>max</th>\n",
              "      <td>2016.000000</td>\n",
              "      <td>3.300000e+07</td>\n",
              "    </tr>\n",
              "  </tbody>\n",
              "</table>\n",
              "</div>"
            ],
            "text/plain": [
              "             yearID        salary\n",
              "count  26428.000000  2.642800e+04\n",
              "mean    2000.878727  2.085634e+06\n",
              "std        8.909314  3.455348e+06\n",
              "min     1985.000000  0.000000e+00\n",
              "25%     1994.000000  2.947020e+05\n",
              "50%     2001.000000  5.500000e+05\n",
              "75%     2009.000000  2.350000e+06\n",
              "max     2016.000000  3.300000e+07"
            ]
          },
          "metadata": {
            "tags": []
          },
          "execution_count": 6
        }
      ]
    },
    {
      "cell_type": "code",
      "metadata": {
        "id": "UvJHQKMBj1L-",
        "colab_type": "code",
        "colab": {}
      },
      "source": [
        "df.var = df.var.replace('',np.nan)(check)\n",
        "df.isnull().sum()"
      ],
      "execution_count": 0,
      "outputs": []
    },
    {
      "cell_type": "code",
      "metadata": {
        "id": "zoBO9tezgFLA",
        "colab_type": "code",
        "colab": {
          "base_uri": "https://localhost:8080/",
          "height": 36
        },
        "outputId": "3c9ec903-5b53-4cb7-913b-c157bc3d42b6"
      },
      "source": [
        "df.dropna(inplace=True)\n",
        "df.shape"
      ],
      "execution_count": 10,
      "outputs": [
        {
          "output_type": "execute_result",
          "data": {
            "text/plain": [
              "(26428, 5)"
            ]
          },
          "metadata": {
            "tags": []
          },
          "execution_count": 10
        }
      ]
    },
    {
      "cell_type": "code",
      "metadata": {
        "id": "pyBMCk5EjzPx",
        "colab_type": "code",
        "colab": {}
      },
      "source": [
        ""
      ],
      "execution_count": 0,
      "outputs": []
    },
    {
      "cell_type": "code",
      "metadata": {
        "id": "1222Z6qcgSXM",
        "colab_type": "code",
        "colab": {
          "base_uri": "https://localhost:8080/",
          "height": 129
        },
        "outputId": "6e2aff86-3cf3-4641-df78-83b4eb9f5b77"
      },
      "source": [
        "df.isnull().sum()"
      ],
      "execution_count": 8,
      "outputs": [
        {
          "output_type": "execute_result",
          "data": {
            "text/plain": [
              "yearID      0\n",
              "teamID      0\n",
              "lgID        0\n",
              "playerID    0\n",
              "salary      0\n",
              "dtype: int64"
            ]
          },
          "metadata": {
            "tags": []
          },
          "execution_count": 8
        }
      ]
    },
    {
      "cell_type": "code",
      "metadata": {
        "id": "L1SQzuhAgT2c",
        "colab_type": "code",
        "colab": {
          "base_uri": "https://localhost:8080/",
          "height": 129
        },
        "outputId": "a98dfd97-9068-41df-8f02-42a0963568e2"
      },
      "source": [
        "df.isna().sum()"
      ],
      "execution_count": 9,
      "outputs": [
        {
          "output_type": "execute_result",
          "data": {
            "text/plain": [
              "yearID      0\n",
              "teamID      0\n",
              "lgID        0\n",
              "playerID    0\n",
              "salary      0\n",
              "dtype: int64"
            ]
          },
          "metadata": {
            "tags": []
          },
          "execution_count": 9
        }
      ]
    },
    {
      "cell_type": "code",
      "metadata": {
        "id": "Pz25dN3DggOy",
        "colab_type": "code",
        "colab": {
          "base_uri": "https://localhost:8080/",
          "height": 141
        },
        "outputId": "1f77a51f-e3c7-417b-c71b-b13c314fac06"
      },
      "source": [
        "df16 = df[(df['yearID']==2016) & (df['salary']>0)]\n",
        "df16.head(3)"
      ],
      "execution_count": 20,
      "outputs": [
        {
          "output_type": "execute_result",
          "data": {
            "text/html": [
              "<div>\n",
              "<style scoped>\n",
              "    .dataframe tbody tr th:only-of-type {\n",
              "        vertical-align: middle;\n",
              "    }\n",
              "\n",
              "    .dataframe tbody tr th {\n",
              "        vertical-align: top;\n",
              "    }\n",
              "\n",
              "    .dataframe thead th {\n",
              "        text-align: right;\n",
              "    }\n",
              "</style>\n",
              "<table border=\"1\" class=\"dataframe\">\n",
              "  <thead>\n",
              "    <tr style=\"text-align: right;\">\n",
              "      <th></th>\n",
              "      <th>yearID</th>\n",
              "      <th>teamID</th>\n",
              "      <th>lgID</th>\n",
              "      <th>playerID</th>\n",
              "      <th>salary</th>\n",
              "    </tr>\n",
              "  </thead>\n",
              "  <tbody>\n",
              "    <tr>\n",
              "      <th>25575</th>\n",
              "      <td>2016</td>\n",
              "      <td>ARI</td>\n",
              "      <td>NL</td>\n",
              "      <td>ahmedni01</td>\n",
              "      <td>521600</td>\n",
              "    </tr>\n",
              "    <tr>\n",
              "      <th>25576</th>\n",
              "      <td>2016</td>\n",
              "      <td>ARI</td>\n",
              "      <td>NL</td>\n",
              "      <td>barreja01</td>\n",
              "      <td>507500</td>\n",
              "    </tr>\n",
              "    <tr>\n",
              "      <th>25577</th>\n",
              "      <td>2016</td>\n",
              "      <td>ARI</td>\n",
              "      <td>NL</td>\n",
              "      <td>brachsi01</td>\n",
              "      <td>509300</td>\n",
              "    </tr>\n",
              "  </tbody>\n",
              "</table>\n",
              "</div>"
            ],
            "text/plain": [
              "       yearID teamID lgID   playerID  salary\n",
              "25575    2016    ARI   NL  ahmedni01  521600\n",
              "25576    2016    ARI   NL  barreja01  507500\n",
              "25577    2016    ARI   NL  brachsi01  509300"
            ]
          },
          "metadata": {
            "tags": []
          },
          "execution_count": 20
        }
      ]
    },
    {
      "cell_type": "code",
      "metadata": {
        "id": "paq3vR36hOQh",
        "colab_type": "code",
        "colab": {
          "base_uri": "https://localhost:8080/",
          "height": 542
        },
        "outputId": "29e01342-b783-499b-a1b4-18acf61bd8e3"
      },
      "source": [
        "import plotly.express as px\n",
        "fig = px.scatter(df16, x=\"salary\", y='playerID', color='lgID', title=\"player salary with lgID\")\n",
        "fig.show()"
      ],
      "execution_count": 21,
      "outputs": [
        {
          "output_type": "display_data",
          "data": {
            "text/html": [
              "<html>\n",
              "<head><meta charset=\"utf-8\" /></head>\n",
              "<body>\n",
              "    <div>\n",
              "            <script src=\"https://cdnjs.cloudflare.com/ajax/libs/mathjax/2.7.5/MathJax.js?config=TeX-AMS-MML_SVG\"></script><script type=\"text/javascript\">if (window.MathJax) {MathJax.Hub.Config({SVG: {font: \"STIX-Web\"}});}</script>\n",
              "                <script type=\"text/javascript\">window.PlotlyConfig = {MathJaxConfig: 'local'};</script>\n",
              "        <script src=\"https://cdn.plot.ly/plotly-latest.min.js\"></script>    \n",
              "            <div id=\"b026a7a6-603e-4d1b-a303-f702989225ff\" class=\"plotly-graph-div\" style=\"height:525px; width:100%;\"></div>\n",
              "            <script type=\"text/javascript\">\n",
              "                \n",
              "                    window.PLOTLYENV=window.PLOTLYENV || {};\n",
              "                    \n",
              "                if (document.getElementById(\"b026a7a6-603e-4d1b-a303-f702989225ff\")) {\n",
              "                    Plotly.newPlot(\n",
              "                        'b026a7a6-603e-4d1b-a303-f702989225ff',\n",
              "                        [{\"hoverlabel\": {\"namelength\": 0}, \"hovertemplate\": \"lgID=NL<br>salary=%{x}<br>playerID=%{y}\", \"legendgroup\": \"lgID=NL\", \"marker\": {\"color\": \"#636efa\", \"symbol\": \"circle\"}, \"mode\": \"markers\", \"name\": \"lgID=NL\", \"showlegend\": true, \"type\": \"scatter\", \"x\": [521600, 507500, 509300, 508500, 3700000, 519700, 6100000, 2525000, 2350000, 1275000, 508900, 5833333, 513900, 31799030, 515900, 2700000, 520300, 4350000, 530500, 529600, 3500000, 521000, 2600000, 7500000, 1500000, 5500000, 8500000, 507500, 1250000, 2000000, 1000000, 12359375, 507500, 508750, 3625000, 523000, 2500000, 2000000, 11000000, 511750, 2500000, 1750000, 2000000, 4000000, 511250, 520500, 3000000, 507500, 520500, 508000, 507500, 3466666, 897500, 508500, 507500, 10700000, 512000, 508500, 510000, 652000, 4250000, 8000000, 1275000, 9000000, 541000, 19555288, 16000000, 532000, 25000000, 14000000, 524500, 2000000, 5285714, 4200000, 524500, 2500000, 527000, 522000, 3666666, 4400000, 511500, 1700000, 6170000, 10500000, 18000000, 517500, 12541666, 530000, 509675, 2925000, 517000, 540000, 525000, 510000, 511500, 570000, 508000, 1400000, 3214285, 507500, 516500, 5025000, 508000, 800000, 13083333, 507500, 507500, 2000000, 508000, 512100, 545000, 20000000, 600000, 509500, 509500, 5000000, 1000000, 512500, 512500, 3500000, 509500, 1000000, 12500000, 2100000, 509500, 17428571, 509500, 660000, 3150000, 3000000, 6250000, 2975000, 509500, 4800000, 509500, 5000000, 1300000, 8000000, 512500, 2250000, 1500000, 22000000, 2600000, 512500, 507500, 507500, 15800000, 520000, 512500, 4000000, 515000, 725000, 20750000, 535000, 4500000, 18000000, 517500, 21000000, 2800000, 7500000, 1065000, 520000, 6250000, 10650000, 14985384, 9540378, 33000000, 3125000, 12500000, 510000, 520000, 7214285, 515000, 7833333, 510000, 507500, 512500, 5100000, 7000000, 1225000, 530000, 537500, 1500000, 987500, 12500000, 512500, 550000, 522500, 3450000, 2800000, 3242202, 2625000, 507500, 8007500, 3500000, 508500, 1500000, 1000000, 1350000, 1200000, 570000, 2500000, 11000000, 3400000, 532500, 511000, 9000000, 2000000, 1000000, 520200, 509200, 514200, 950000, 19315013, 508500, 1500000, 2500000, 508800, 12209424, 518100, 12000000, 519100, 518500, 513000, 508500, 4100000, 1125000, 522300, 514000, 509700, 510000, 2800000, 508600, 513800, 1475000, 513900, 1050000, 512900, 507500, 5375000, 4000000, 8250000, 513308, 27328046, 7250000, 517246, 542604, 5750000, 607000, 6725000, 625000, 4100000, 526014, 16000000, 4325000, 600000, 2500000, 515750, 511360, 5300000, 516500, 535375, 514875, 10550000, 546250, 19364801, 515500, 530000, 1450000, 2000000, 925000, 516000, 517500, 2000000, 507500, 1400000, 13000000, 7000000, 525000, 3900000, 528000, 514000, 512500, 507500, 512500, 8000000, 515000, 517500, 518000, 527000, 8500000, 518000, 1500000, 507500, 516000, 532500, 3500000, 548000, 510000, 3900000, 550000, 3000000, 5250000, 2175000, 4000000, 1000000, 2500000, 13666667, 520000, 3025000, 1000000, 3333333, 13208333, 9650000, 2075000, 8000000, 3000000, 9000000, 535000, 2500000, 1350000, 2000000, 3450000, 520000, 511200, 507500, 520000, 7150000, 509600, 508800, 6225000, 21500000, 526400, 523900, 2925000, 507500, 1350000, 521200, 3000000, 510200, 1600000, 800000, 9625000, 21000000, 525500, 517700, 1600000, 15450000, 1490314, 1000000, 512500, 6200000, 3900000, 508500, 9916667, 20833333, 6000000, 17500000, 537500, 6500000, 550000, 530000, 1150000, 5000000, 512500, 11250000, 545000, 15000000, 18700000, 20777778, 9000000, 10800000, 5000000, 517500, 512500, 1650000, 507500, 3750000, 6500000, 575000, 507500, 11500000, 520000, 4000000, 509000, 507500, 17000000, 12000000, 7500000, 512500, 1400000, 539000, 14200000, 8250000, 2500000, 2500000, 12500000, 510000, 512500, 5600000, 539000, 1500000, 539000, 19500000, 3675000, 1250000, 519400, 1250000, 3000000, 2875000, 12100000, 5000000, 1250000, 4000000, 1387500, 8000000, 10936574, 3000000, 2500000, 5350000, 2800000, 6250000, 516100, 543400, 534900, 514400, 22142857, 10400000, 524000, 524900, 21733615, 14000000], \"xaxis\": \"x\", \"y\": [\"ahmedni01\", \"barreja01\", \"brachsi01\", \"britoso01\", \"castiwe01\", \"chafian01\", \"clippty01\", \"corbipa01\", \"delarru01\", \"delgara01\", \"drurybr01\", \"goldspa01\", \"gosseph01\", \"greinza01\", \"herrmch01\", \"hudsoda01\", \"lambja01\", \"millesh01\", \"owingch01\", \"peralda01\", \"polloaj01\", \"rayro02\", \"segurje01\", \"tomasya01\", \"weeksri01\", \"zieglbr01\", \"aybarer01\", \"banuema01\", \"beckhgo01\", \"flowety01\", \"francje02\", \"freemfr01\", \"gantjo01\", \"garciad01\", \"grillja01\", \"inciaen01\", \"johnsji04\", \"johnske05\", \"markani01\", \"mckiran01\", \"norribu01\", \"oflaher01\", \"ogandal01\", \"olivehe01\", \"perezwi01\", \"peterja01\", \"pierzaj01\", \"ramirjo02\", \"rodrist02\", \"simmosh01\", \"stubbdr01\", \"teherju01\", \"vizcaar01\", \"winklda01\", \"wislema01\", \"arrieja01\", \"baezja01\", \"beeleda01\", \"brookaa01\", \"bryankr01\", \"cahiltr01\", \"fowlede01\", \"grimmju01\", \"hammeja01\", \"hendrky01\", \"heywaja01\", \"lackejo01\", \"lasteto01\", \"lestejo01\", \"montemi01\", \"ramirne01\", \"richacl01\", \"rizzoan01\", \"rondohe01\", \"rosscza01\", \"rossda01\", \"russead02\", \"schwaky01\", \"solerjo01\", \"stroppe01\", \"szczuma01\", \"warread01\", \"woodtr01\", \"zobribe01\", \"baileho02\", \"barnhtu01\", \"bruceja01\", \"cingrto01\", \"cothaca01\", \"cozarza01\", \"dejesiv02\", \"desclan01\", \"diazju03\", \"duvalad01\", \"finnebr01\", \"hamilbi02\", \"holtty01\", \"hoovejj01\", \"iglesra01\", \"lambjo02\", \"lorenmi01\", \"mesorde01\", \"moscojo01\", \"ohlenro01\", \"phillbr01\", \"sampske01\", \"schebsc01\", \"simonal01\", \"skipwky01\", \"straida01\", \"suareeu01\", \"vottojo01\", \"woodbl01\", \"adamecr01\", \"anderty01\", \"arenano01\", \"barnebr02\", \"bergmch01\", \"bettich01\", \"blackch02\", \"castrmi01\", \"chatwty01\", \"delarjo01\", \"descada01\", \"diazja01\", \"gonzaca01\", \"grayjo02\", \"gurkaja01\", \"hundlni01\", \"lemahdj01\", \"loganbo02\", \"lylesjo01\", \"matzety01\", \"mcgeeja01\", \"milleju02\", \"motteja01\", \"ottavad01\", \"parrage01\", \"paulsbe01\", \"quallch01\", \"raburry01\", \"reyesjo01\", \"reynoma01\", \"rusinch01\", \"storytr01\", \"wolteto01\", \"anderbr04\", \"baezpe01\", \"barneau01\", \"blantjo01\", \"bolsimi01\", \"colemlo01\", \"crawfca02\", \"culbech01\", \"ellisaj01\", \"ethiean01\", \"garciyi01\", \"gonzaad01\", \"grandya01\", \"guerral01\", \"hatchch02\", \"hernaen02\", \"howeljp01\", \"janseke01\", \"kazmisc01\", \"kendrho01\", \"kershcl01\", \"maedake01\", \"mccarbr01\", \"montafr01\", \"pederjo01\", \"puigya01\", \"ravinjo01\", \"ryuhy01\", \"seageco01\", \"stripro01\", \"thomptr01\", \"turneju01\", \"utleych01\", \"vanslsc01\", \"woodal02\", \"bourju01\", \"breslcr01\", \"cappsca01\", \"chenwe02\", \"conlead01\", \"cosarja01\", \"dietrde01\", \"dunnmi01\", \"fernajo02\", \"gordode01\", \"hechaad01\", \"jacksed01\", \"johnsch05\", \"koehlto01\", \"lazora01\", \"mathije01\", \"mcgowdu01\", \"morribr01\", \"narvech01\", \"ozunama01\", \"phelpda01\", \"pradoma01\", \"ramosaj01\", \"realmjt01\", \"rojasmi02\", \"stantmi03\", \"suzukic01\", \"yelicch01\", \"anderch01\", \"barriyh01\", \"blazemi01\", \"boyerbl01\", \"braunry02\", \"broxtke01\", \"capuach01\", \"cartech02\", \"florera02\", \"garzama01\", \"gennesc01\", \"hillaa01\", \"jeffrje01\", \"jungmta01\", \"knebeco01\", \"liriary01\", \"lucrojo01\", \"maldoma01\", \"nelsoji02\", \"nieuwki01\", \"nolinse01\", \"penaar01\", \"peralwi01\", \"riverya01\", \"santado01\", \"smithwi04\", \"thornty01\", \"torreca01\", \"villajo01\", \"walshco02\", \"bastaan01\", \"blevije01\", \"cabreas01\", \"campber01\", \"cespeyo01\", \"colonba01\", \"confomi01\", \"darnatr01\", \"deazaal01\", \"degroja01\", \"dudalu01\", \"edginjo01\", \"familje01\", \"florewi01\", \"grandcu01\", \"harvema01\", \"hendeji01\", \"lagarju01\", \"matzst01\", \"plaweke01\", \"reedad01\", \"robleha01\", \"syndeno01\", \"verrelo01\", \"walkene01\", \"wheelza01\", \"wrighda03\", \"altheaa01\", \"ascheco01\", \"blancan01\", \"bourjpe01\", \"burriem01\", \"eickhje01\", \"francma02\", \"galvifr01\", \"goeddty01\", \"gomezje01\", \"harrima01\", \"hellije01\", \"hernace02\", \"hernada01\", \"herreod01\", \"hinojda01\", \"hollama01\", \"huntece01\", \"margoma01\", \"mortoch02\", \"nerishe01\", \"nolaaa01\", \"oberhbr01\", \"rufda01\", \"ruizca01\", \"ruppca01\", \"russeja02\", \"stumpda01\", \"velasvi01\", \"caminar01\", \"cervefr01\", \"colege01\", \"diazel01\", \"felizne01\", \"figueco01\", \"freesda01\", \"harrijo05\", \"hugheja02\", \"jasojo01\", \"joycema01\", \"kangju01\", \"liriafr01\", \"lobstky01\", \"lockeje01\", \"luebkco01\", \"martest01\", \"mccutan01\", \"melanma01\", \"mercejo03\", \"morsemi01\", \"nicasju01\", \"niesejo01\", \"polangr01\", \"rodrise01\", \"stewach01\", \"vogelry01\", \"watsoto01\", \"baumabu01\", \"bethach01\", \"blashja01\", \"buchtry01\", \"cashnan01\", \"edwarjo02\", \"jankotr01\", \"jayjo02\", \"kempma01\", \"maurebr01\", \"myerswi01\", \"norride01\", \"perdolu02\", \"pomerdr01\", \"quackke01\", \"ramiral03\", \"reaco01\", \"rodnefe01\", \"rosalad01\", \"rossty01\", \"shielja02\", \"solarya01\", \"spangco01\", \"thornma01\", \"uptonbj01\", \"villaca01\", \"wallabr01\", \"adriaeh01\", \"beltbr01\", \"blancgr01\", \"browntr01\", \"bumgama01\", \"cainma01\", \"crawfbr01\", \"cuetojo01\", \"duffyma02\", \"garcija01\", \"gearrco01\", \"hestoch01\", \"kontoge01\", \"lopezja02\", \"osichjo01\", \"paganan01\", \"panikjo01\", \"peavyja01\", \"pencehu01\", \"poseybu01\", \"romose01\", \"samarje01\", \"spande01\", \"strichu01\", \"tomlike01\", \"adamsma01\", \"bowmama01\", \"broxtjo01\", \"carpema01\", \"fryerer01\", \"garcigr01\", \"garcija02\", \"grichra01\", \"gyorkje01\", \"harrimi03\", \"hazelje01\", \"hollima01\", \"leakemi01\", \"lynnla01\", \"lyonsty01\", \"manesse01\", \"martica04\", \"molinya01\", \"mossbr01\", \"ohse01\", \"penabr01\", \"peraljh01\", \"phamth01\", \"piscost01\", \"rosentr01\", \"siegrke01\", \"tejadru01\", \"wachami01\", \"wainwad01\", \"waldejo01\", \"wongko01\", \"barreaa01\", \"belisma01\", \"drewst01\", \"espinda01\", \"gonzagi01\", \"harpebr03\", \"heisech01\", \"kellesh01\", \"lobatjo01\", \"murphda08\", \"papeljo01\", \"perezol01\", \"petityu01\", \"ramoswi01\", \"rendoan01\", \"reverbe01\", \"riverfe01\", \"roarkta01\", \"robincl01\", \"rossjo01\", \"scherma01\", \"strasst01\", \"taylomi02\", \"treinbl01\", \"werthja01\", \"zimmery01\"], \"yaxis\": \"y\"}, {\"hoverlabel\": {\"namelength\": 0}, \"hovertemplate\": \"lgID=AL<br>salary=%{x}<br>playerID=%{y}\", \"legendgroup\": \"lgID=AL\", \"marker\": {\"color\": \"#EF553B\", \"symbol\": \"circle\"}, \"mode\": \"markers\", \"name\": \"lgID=AL\", \"showlegend\": true, \"type\": \"scatter\", \"x\": [5731704, 1250000, 6750000, 1800000, 21268890, 1500000, 8728776, 532000, 511500, 12209424, 12673102, 16329674, 523500, 2800000, 5000000, 3900000, 523500, 16329674, 5854712, 520000, 1300000, 507500, 522500, 6225000, 9150000, 15800000, 511500, 2600000, 510500, 511000, 566000, 650000, 546500, 13000000, 11400000, 3700000, 606000, 2600000, 11000000, 563750, 16000000, 12642511, 20125000, 30000000, 22750000, 509500, 521000, 1250000, 17600000, 515000, 529000, 518500, 3375000, 9000000, 513000, 539500, 514500, 6500000, 11666667, 2000000, 2500000, 14000000, 15750000, 5000000, 2750000, 8250000, 2100000, 5000000, 810000, 900000, 3000000, 4125000, 4000000, 535000, 975000, 5400000, 11000000, 518000, 2000000, 513000, 9150000, 535000, 521000, 4150000, 511400, 1697500, 7375000, 1000000, 4500000, 2725000, 1000000, 5250000, 1000000, 2583333, 2000000, 6166667, 4700000, 540300, 765000, 1300000, 7000000, 507500, 520000, 515800, 518200, 536200, 8450000, 2750000, 2250000, 4000000, 2000000, 28000000, 536500, 510500, 509500, 507500, 525000, 517000, 520500, 2100000, 575000, 14000000, 5500000, 6750000, 18000000, 8000000, 519500, 508500, 514500, 8000000, 7383481, 900000, 509500, 507500, 16800000, 22125000, 509500, 28000000, 522500, 1525000, 18000000, 3687500, 5000000, 516700, 510200, 8000000, 508200, 900000, 524100, 7000000, 3300000, 528200, 9000000, 2000000, 6750000, 525500, 7250000, 850000, 519500, 516700, 529000, 6500000, 15800000, 6000000, 522400, 508200, 515000, 6125000, 507500, 1162500, 6500000, 1475000, 518425, 8000000, 4225000, 1725000, 5250000, 508450, 2000000, 12000000, 508500, 2550000, 5500000, 8250000, 7750000, 7500000, 5500000, 2000000, 9000000, 5600000, 514250, 2000000, 7000000, 8500000, 1200000, 9500000, 1000000, 4250000, 507500, 510500, 3400000, 650000, 525000, 7000000, 1000000, 532500, 515000, 520000, 1375000, 1500000, 513000, 25000000, 514500, 6425000, 2400000, 5000000, 530000, 6000000, 5250000, 2800000, 8000000, 16083333, 20200000, 20500000, 1250000, 535000, 512500, 3000000, 2150000, 2275000, 587500, 9200000, 5312000, 545000, 23000000, 4500000, 528700, 12000000, 1475000, 6300000, 7250000, 520000, 542500, 547500, 537500, 13500000, 6000000, 515000, 3200000, 507500, 15000000, 507500, 525300, 7857142, 507500, 9468443, 21142857, 5600000, 13500000, 2425000, 13000000, 574000, 17000000, 9000000, 516650, 4100000, 4300000, 21000000, 556000, 25000000, 521300, 533400, 22000000, 23125000, 508600, 509700, 511900, 2650000, 4250000, 510000, 4500000, 510000, 512500, 11666667, 512500, 4800000, 11000000, 524500, 1580000, 2000000, 507500, 1925000, 512500, 527500, 523400, 6000000, 7500000, 6666667, 850000, 512500, 6575000, 1050000, 2950000, 512500, 1500000, 3150000, 527500, 5500000, 7500000, 24000000, 4000000, 516500, 1100000, 14250000, 1600000, 1500000, 25857143, 4250000, 10976096, 523700, 1000000, 8000000, 515400, 4150000, 515000, 532900, 1250000, 512000, 807500, 8000000, 6750000, 512000, 525500, 528600, 511000, 2916667, 514500, 519200, 513600, 524100, 4000000, 521700, 1500000, 522900, 895000, 527000, 2250000, 519300, 1185000, 3300000, 514400, 12600018, 527600, 5100000, 4200000, 520700, 4750000, 2375000, 510000, 3750000, 516100, 1000000, 524525, 511500, 15333333, 1500000, 18000000, 1550000, 20000000, 10000000, 517300, 8000000, 1255000, 525270, 508500, 24000000, 975000, 22500000, 24000000, 519000, 508500, 518000, 509500, 6000000, 5700000, 522700, 3150000, 510120, 1650000, 900000, 3275000, 3100000, 1050000, 14000000, 507500, 521800, 3800000, 4000000, 521300, 12000000, 11650000, 10000000, 11500000, 1000000, 520200, 10000000, 510500, 1050000, 15000000, 2000000, 516100, 521100, 517800, 2900000, 513300, 3900000, 8375000, 515900, 800000, 511200, 20000000], \"xaxis\": \"x\", \"y\": [\"alvarpe01\", \"brachbr01\", \"brittza01\", \"bundydy01\", \"davisch02\", \"flahery01\", \"gallayo01\", \"gausmke01\", \"givenmy01\", \"hardyjj01\", \"jimenub01\", \"jonesad01\", \"josepca01\", \"kimhy01\", \"machama01\", \"matusbr01\", \"mcfartj01\", \"mileywa01\", \"odayda01\", \"paredji01\", \"reimono01\", \"rickajo01\", \"schoojo01\", \"tillmch01\", \"trumbma01\", \"wietema01\", \"wilsoty01\", \"worleva01\", \"wrighmi01\", \"barnema01\", \"bettsmo01\", \"bogaexa01\", \"bradlja02\", \"buchhcl01\", \"castiru01\", \"hanigry01\", \"holtbr01\", \"kellyjo05\", \"kimbrcr01\", \"layneto01\", \"ortizda01\", \"pedrodu01\", \"porceri01\", \"priceda01\", \"ramirha01\", \"ramirno01\", \"rodried05\", \"rossro01\", \"sandopa01\", \"shawtr01\", \"smithca02\", \"swihabl01\", \"tazawju01\", \"ueharko01\", \"vazquch01\", \"workmbr01\", \"wrighst01\", \"youngch04\", \"abreujo02\", \"alberma01\", \"avilaal01\", \"cabreme01\", \"danksjo01\", \"dukeza01\", \"eatonad02\", \"frazito01\", \"garciav01\", \"jacksau01\", \"jennida01\", \"jonesna01\", \"lamboan01\", \"lawribr01\", \"navardi01\", \"petrija01\", \"putnaza01\", \"quintjo01\", \"roberda08\", \"rodonca01\", \"rolliji01\", \"saladty01\", \"salech01\", \"sandsje01\", \"shuckja01\", \"allenco01\", \"anderco01\", \"bauertr01\", \"brantmi02\", \"byrdma01\", \"carraca01\", \"chiselo01\", \"cowgico01\", \"davisra01\", \"detwiro01\", \"gomesya01\", \"hunteto02\", \"kipnija01\", \"klubeco01\", \"lindofr01\", \"manshje01\", \"mcallza01\", \"napolmi01\", \"naquity01\", \"oteroda01\", \"perezro02\", \"ramirjo01\", \"salazda01\", \"santaca01\", \"shawbr01\", \"tomlijo01\", \"uribeju01\", \"avilemi01\", \"cabremi01\", \"casteni01\", \"collity01\", \"farmebu01\", \"ferreje01\", \"gosean01\", \"greensh02\", \"hardybl01\", \"iglesjo01\", \"kensilo01\", \"kinslia01\", \"lowema01\", \"martijd02\", \"martivi01\", \"maybica01\", \"mccanja02\", \"nesbian01\", \"norrida01\", \"pelfrmi01\", \"rodrifr03\", \"rominan01\", \"ryanky01\", \"saltaja01\", \"sanchan01\", \"uptonju01\", \"verhadr01\", \"verlaju01\", \"wilsoal01\", \"wilsoju10\", \"zimmejo02\", \"altuvjo01\", \"castrja01\", \"correca01\", \"duffyma01\", \"feldmsc01\", \"felizmi01\", \"fieldjo03\", \"fiersmi01\", \"fistedo01\", \"gattiev01\", \"gileske01\", \"gomezca01\", \"gonzama01\", \"gregelu01\", \"harriwi02\", \"keuchda01\", \"kratzer01\", \"marisja01\", \"mcculla02\", \"mchugco01\", \"neshepa01\", \"rasmuco01\", \"sippto01\", \"springe01\", \"stassma01\", \"tuckepr01\", \"valbulu01\", \"whitety01\", \"buterdr01\", \"cainlo01\", \"colliti01\", \"colonch01\", \"daviswa01\", \"duffyda01\", \"dysonja01\", \"escobal02\", \"fuentre01\", \"geedi01\", \"gordoal01\", \"gorete01\", \"herreke01\", \"hochelu01\", \"hosmeer01\", \"infanom01\", \"kenneia01\", \"medlekr01\", \"minormi01\", \"moralke01\", \"moustmi01\", \"orlanpa01\", \"perezsa02\", \"soriajo01\", \"vargaja01\", \"ventuyo01\", \"volqued01\", \"wangch01\", \"youngch03\", \"alvarjo02\", \"bedroca01\", \"calhoko01\", \"choiji01\", \"croncj01\", \"escobyu01\", \"gentrcr01\", \"giavojo01\", \"heanean01\", \"morinmi01\", \"navada01\", \"pennicl01\", \"perezca02\", \"pujolal01\", \"rasmuco02\", \"richaga01\", \"salasfe01\", \"santihe01\", \"shoemma01\", \"simmoan01\", \"smithjo05\", \"sotoge01\", \"streehu01\", \"troutmi01\", \"weaveje02\", \"wilsocj01\", \"abadfe01\", \"arciaos01\", \"buxtoby01\", \"doziebr01\", \"escobed01\", \"fienca01\", \"gibsoky01\", \"hugheph01\", \"jepseke01\", \"matzety01\", \"mauerjo01\", \"milonto01\", \"murphjr01\", \"nolasri01\", \"nunezed02\", \"perkigl01\", \"plouftr01\", \"pressry01\", \"rosared01\", \"sanomi01\", \"santada01\", \"santaer01\", \"suzukku01\", \"tonkimi01\", \"ackledu01\", \"barbajo01\", \"beltrca01\", \"betande01\", \"birdgr01\", \"castrst01\", \"cessalu01\", \"chapmar01\", \"ellsbja01\", \"eovalna01\", \"gardnbr01\", \"gregodi01\", \"headlch01\", \"hicksaa01\", \"mccanbr01\", \"millean01\", \"mitchbr01\", \"novaiv01\", \"pinedmi01\", \"rodrial01\", \"rominau01\", \"sabatcc01\", \"severlu01\", \"shrevch01\", \"tanakma01\", \"teixema01\", \"torrero01\", \"willima07\", \"yateski01\", \"alonsyo01\", \"alvarhe01\", \"alvarrj01\", \"axforjo01\", \"bassich01\", \"burnsbi02\", \"butlebi03\", \"canhama01\", \"coghlch01\", \"crispco01\", \"daviskh01\", \"doolise01\", \"doubrfe01\", \"dullry01\", \"fuldsa01\", \"graveke01\", \"grayso01\", \"hendrli01\", \"hillri01\", \"lowrije01\", \"madsory01\", \"parkeja02\", \"phegljo01\", \"reddijo01\", \"rodrife02\", \"rzepcma01\", \"semiema01\", \"sogarer01\", \"valenda01\", \"vogtst01\", \"aokino01\", \"benoijo01\", \"canoro01\", \"cishest01\", \"clevest01\", \"cookry01\", \"cruzne02\", \"furbuch01\", \"gutiefr01\", \"hernafe02\", \"iannech01\", \"iwakuhi01\", \"karnsna01\", \"leeda02\", \"lindad01\", \"marteke01\", \"martile01\", \"montgmi01\", \"nunovi01\", \"peraljo01\", \"sardilu01\", \"scribev01\", \"seageky01\", \"smithse01\", \"sucreje01\", \"vinceni01\", \"walketa01\", \"zychto01\", \"archech01\", \"beckhti01\", \"boxbebr01\", \"casalcu01\", \"cedenxa01\", \"cobbal01\", \"colomal01\", \"congeha01\", \"dickeco01\", \"evelada01\", \"farquda01\", \"forsylo01\", \"geltzst01\", \"guyerbr01\", \"jennide01\", \"kiermke01\", \"longoev01\", \"millebr02\", \"moorema02\", \"morrilo01\", \"odorija01\", \"pearcst01\", \"ramirer02\", \"romeren01\", \"smylydr01\", \"souzast01\", \"webbry01\", \"whitlch01\", \"alberha01\", \"andruel01\", \"barneto01\", \"beltrad01\", \"chiriro01\", \"choosh01\", \"darviyu01\", \"deshide02\", \"desmoia01\", \"diekmja01\", \"dysonsa01\", \"faulkan01\", \"fieldpr01\", \"gimench01\", \"hamelco01\", \"hamiljo03\", \"holadbr01\", \"jackslu01\", \"kelake01\", \"kleinph01\", \"lewisco01\", \"morelmi01\", \"odorro01\", \"perezma02\", \"ruary01\", \"ruggiju01\", \"schepta01\", \"tollesh01\", \"wilheto01\", \"barneda01\", \"bautijo02\", \"biagijo01\", \"carreez01\", \"cecilbr01\", \"chaveje01\", \"colabch01\", \"dickera01\", \"donaljo02\", \"encared01\", \"estrama01\", \"floydga01\", \"goinsry01\", \"happja01\", \"leonar01\", \"loupaa01\", \"martiru01\", \"moralfr01\", \"osunaro01\", \"pillake01\", \"sanchaa01\", \"saundmi01\", \"schulbo02\", \"smoakju01\", \"storedr01\", \"stromma01\", \"tholejo01\", \"travide01\", \"tulowtr01\"], \"yaxis\": \"y\"}],\n",
              "                        {\"legend\": {\"tracegroupgap\": 0}, \"template\": {\"data\": {\"bar\": [{\"error_x\": {\"color\": \"#2a3f5f\"}, \"error_y\": {\"color\": \"#2a3f5f\"}, \"marker\": {\"line\": {\"color\": \"#E5ECF6\", \"width\": 0.5}}, \"type\": \"bar\"}], \"barpolar\": [{\"marker\": {\"line\": {\"color\": \"#E5ECF6\", \"width\": 0.5}}, \"type\": \"barpolar\"}], \"carpet\": [{\"aaxis\": {\"endlinecolor\": \"#2a3f5f\", \"gridcolor\": \"white\", \"linecolor\": \"white\", \"minorgridcolor\": \"white\", \"startlinecolor\": \"#2a3f5f\"}, \"baxis\": {\"endlinecolor\": \"#2a3f5f\", \"gridcolor\": \"white\", \"linecolor\": \"white\", \"minorgridcolor\": \"white\", \"startlinecolor\": \"#2a3f5f\"}, \"type\": \"carpet\"}], \"choropleth\": [{\"colorbar\": {\"outlinewidth\": 0, \"ticks\": \"\"}, \"type\": \"choropleth\"}], \"contour\": [{\"colorbar\": {\"outlinewidth\": 0, \"ticks\": \"\"}, \"colorscale\": [[0.0, \"#0d0887\"], [0.1111111111111111, \"#46039f\"], [0.2222222222222222, \"#7201a8\"], [0.3333333333333333, \"#9c179e\"], [0.4444444444444444, \"#bd3786\"], [0.5555555555555556, \"#d8576b\"], [0.6666666666666666, \"#ed7953\"], [0.7777777777777778, \"#fb9f3a\"], [0.8888888888888888, \"#fdca26\"], [1.0, \"#f0f921\"]], \"type\": \"contour\"}], \"contourcarpet\": [{\"colorbar\": {\"outlinewidth\": 0, \"ticks\": \"\"}, \"type\": \"contourcarpet\"}], \"heatmap\": [{\"colorbar\": {\"outlinewidth\": 0, \"ticks\": \"\"}, \"colorscale\": [[0.0, \"#0d0887\"], [0.1111111111111111, \"#46039f\"], [0.2222222222222222, \"#7201a8\"], [0.3333333333333333, \"#9c179e\"], [0.4444444444444444, \"#bd3786\"], [0.5555555555555556, \"#d8576b\"], [0.6666666666666666, \"#ed7953\"], [0.7777777777777778, \"#fb9f3a\"], [0.8888888888888888, \"#fdca26\"], [1.0, \"#f0f921\"]], \"type\": \"heatmap\"}], \"heatmapgl\": [{\"colorbar\": {\"outlinewidth\": 0, \"ticks\": \"\"}, \"colorscale\": [[0.0, \"#0d0887\"], [0.1111111111111111, \"#46039f\"], [0.2222222222222222, \"#7201a8\"], [0.3333333333333333, \"#9c179e\"], [0.4444444444444444, \"#bd3786\"], [0.5555555555555556, \"#d8576b\"], [0.6666666666666666, \"#ed7953\"], [0.7777777777777778, \"#fb9f3a\"], [0.8888888888888888, \"#fdca26\"], [1.0, \"#f0f921\"]], \"type\": \"heatmapgl\"}], \"histogram\": [{\"marker\": {\"colorbar\": {\"outlinewidth\": 0, \"ticks\": \"\"}}, \"type\": \"histogram\"}], \"histogram2d\": [{\"colorbar\": {\"outlinewidth\": 0, \"ticks\": \"\"}, \"colorscale\": [[0.0, \"#0d0887\"], [0.1111111111111111, \"#46039f\"], [0.2222222222222222, \"#7201a8\"], [0.3333333333333333, \"#9c179e\"], [0.4444444444444444, \"#bd3786\"], [0.5555555555555556, \"#d8576b\"], [0.6666666666666666, \"#ed7953\"], [0.7777777777777778, \"#fb9f3a\"], [0.8888888888888888, \"#fdca26\"], [1.0, \"#f0f921\"]], \"type\": \"histogram2d\"}], \"histogram2dcontour\": [{\"colorbar\": {\"outlinewidth\": 0, \"ticks\": \"\"}, \"colorscale\": [[0.0, \"#0d0887\"], [0.1111111111111111, \"#46039f\"], [0.2222222222222222, \"#7201a8\"], [0.3333333333333333, \"#9c179e\"], [0.4444444444444444, \"#bd3786\"], [0.5555555555555556, \"#d8576b\"], [0.6666666666666666, \"#ed7953\"], [0.7777777777777778, \"#fb9f3a\"], [0.8888888888888888, \"#fdca26\"], [1.0, \"#f0f921\"]], \"type\": \"histogram2dcontour\"}], \"mesh3d\": [{\"colorbar\": {\"outlinewidth\": 0, \"ticks\": \"\"}, \"type\": \"mesh3d\"}], \"parcoords\": [{\"line\": {\"colorbar\": {\"outlinewidth\": 0, \"ticks\": \"\"}}, \"type\": \"parcoords\"}], \"pie\": [{\"automargin\": true, \"type\": \"pie\"}], \"scatter\": [{\"marker\": {\"colorbar\": {\"outlinewidth\": 0, \"ticks\": \"\"}}, \"type\": \"scatter\"}], \"scatter3d\": [{\"line\": {\"colorbar\": {\"outlinewidth\": 0, \"ticks\": \"\"}}, \"marker\": {\"colorbar\": {\"outlinewidth\": 0, \"ticks\": \"\"}}, \"type\": \"scatter3d\"}], \"scattercarpet\": [{\"marker\": {\"colorbar\": {\"outlinewidth\": 0, \"ticks\": \"\"}}, \"type\": \"scattercarpet\"}], \"scattergeo\": [{\"marker\": {\"colorbar\": {\"outlinewidth\": 0, \"ticks\": \"\"}}, \"type\": \"scattergeo\"}], \"scattergl\": [{\"marker\": {\"colorbar\": {\"outlinewidth\": 0, \"ticks\": \"\"}}, \"type\": \"scattergl\"}], \"scattermapbox\": [{\"marker\": {\"colorbar\": {\"outlinewidth\": 0, \"ticks\": \"\"}}, \"type\": \"scattermapbox\"}], \"scatterpolar\": [{\"marker\": {\"colorbar\": {\"outlinewidth\": 0, \"ticks\": \"\"}}, \"type\": \"scatterpolar\"}], \"scatterpolargl\": [{\"marker\": {\"colorbar\": {\"outlinewidth\": 0, \"ticks\": \"\"}}, \"type\": \"scatterpolargl\"}], \"scatterternary\": [{\"marker\": {\"colorbar\": {\"outlinewidth\": 0, \"ticks\": \"\"}}, \"type\": \"scatterternary\"}], \"surface\": [{\"colorbar\": {\"outlinewidth\": 0, \"ticks\": \"\"}, \"colorscale\": [[0.0, \"#0d0887\"], [0.1111111111111111, \"#46039f\"], [0.2222222222222222, \"#7201a8\"], [0.3333333333333333, \"#9c179e\"], [0.4444444444444444, \"#bd3786\"], [0.5555555555555556, \"#d8576b\"], [0.6666666666666666, \"#ed7953\"], [0.7777777777777778, \"#fb9f3a\"], [0.8888888888888888, \"#fdca26\"], [1.0, \"#f0f921\"]], \"type\": \"surface\"}], \"table\": [{\"cells\": {\"fill\": {\"color\": \"#EBF0F8\"}, \"line\": {\"color\": \"white\"}}, \"header\": {\"fill\": {\"color\": \"#C8D4E3\"}, \"line\": {\"color\": \"white\"}}, \"type\": \"table\"}]}, \"layout\": {\"annotationdefaults\": {\"arrowcolor\": \"#2a3f5f\", \"arrowhead\": 0, \"arrowwidth\": 1}, \"coloraxis\": {\"colorbar\": {\"outlinewidth\": 0, \"ticks\": \"\"}}, \"colorscale\": {\"diverging\": [[0, \"#8e0152\"], [0.1, \"#c51b7d\"], [0.2, \"#de77ae\"], [0.3, \"#f1b6da\"], [0.4, \"#fde0ef\"], [0.5, \"#f7f7f7\"], [0.6, \"#e6f5d0\"], [0.7, \"#b8e186\"], [0.8, \"#7fbc41\"], [0.9, \"#4d9221\"], [1, \"#276419\"]], \"sequential\": [[0.0, \"#0d0887\"], [0.1111111111111111, \"#46039f\"], [0.2222222222222222, \"#7201a8\"], [0.3333333333333333, \"#9c179e\"], [0.4444444444444444, \"#bd3786\"], [0.5555555555555556, \"#d8576b\"], [0.6666666666666666, \"#ed7953\"], [0.7777777777777778, \"#fb9f3a\"], [0.8888888888888888, \"#fdca26\"], [1.0, \"#f0f921\"]], \"sequentialminus\": [[0.0, \"#0d0887\"], [0.1111111111111111, \"#46039f\"], [0.2222222222222222, \"#7201a8\"], [0.3333333333333333, \"#9c179e\"], [0.4444444444444444, \"#bd3786\"], [0.5555555555555556, \"#d8576b\"], [0.6666666666666666, \"#ed7953\"], [0.7777777777777778, \"#fb9f3a\"], [0.8888888888888888, \"#fdca26\"], [1.0, \"#f0f921\"]]}, \"colorway\": [\"#636efa\", \"#EF553B\", \"#00cc96\", \"#ab63fa\", \"#FFA15A\", \"#19d3f3\", \"#FF6692\", \"#B6E880\", \"#FF97FF\", \"#FECB52\"], \"font\": {\"color\": \"#2a3f5f\"}, \"geo\": {\"bgcolor\": \"white\", \"lakecolor\": \"white\", \"landcolor\": \"#E5ECF6\", \"showlakes\": true, \"showland\": true, \"subunitcolor\": \"white\"}, \"hoverlabel\": {\"align\": \"left\"}, \"hovermode\": \"closest\", \"mapbox\": {\"style\": \"light\"}, \"paper_bgcolor\": \"white\", \"plot_bgcolor\": \"#E5ECF6\", \"polar\": {\"angularaxis\": {\"gridcolor\": \"white\", \"linecolor\": \"white\", \"ticks\": \"\"}, \"bgcolor\": \"#E5ECF6\", \"radialaxis\": {\"gridcolor\": \"white\", \"linecolor\": \"white\", \"ticks\": \"\"}}, \"scene\": {\"xaxis\": {\"backgroundcolor\": \"#E5ECF6\", \"gridcolor\": \"white\", \"gridwidth\": 2, \"linecolor\": \"white\", \"showbackground\": true, \"ticks\": \"\", \"zerolinecolor\": \"white\"}, \"yaxis\": {\"backgroundcolor\": \"#E5ECF6\", \"gridcolor\": \"white\", \"gridwidth\": 2, \"linecolor\": \"white\", \"showbackground\": true, \"ticks\": \"\", \"zerolinecolor\": \"white\"}, \"zaxis\": {\"backgroundcolor\": \"#E5ECF6\", \"gridcolor\": \"white\", \"gridwidth\": 2, \"linecolor\": \"white\", \"showbackground\": true, \"ticks\": \"\", \"zerolinecolor\": \"white\"}}, \"shapedefaults\": {\"line\": {\"color\": \"#2a3f5f\"}}, \"ternary\": {\"aaxis\": {\"gridcolor\": \"white\", \"linecolor\": \"white\", \"ticks\": \"\"}, \"baxis\": {\"gridcolor\": \"white\", \"linecolor\": \"white\", \"ticks\": \"\"}, \"bgcolor\": \"#E5ECF6\", \"caxis\": {\"gridcolor\": \"white\", \"linecolor\": \"white\", \"ticks\": \"\"}}, \"title\": {\"x\": 0.05}, \"xaxis\": {\"automargin\": true, \"gridcolor\": \"white\", \"linecolor\": \"white\", \"ticks\": \"\", \"title\": {\"standoff\": 15}, \"zerolinecolor\": \"white\", \"zerolinewidth\": 2}, \"yaxis\": {\"automargin\": true, \"gridcolor\": \"white\", \"linecolor\": \"white\", \"ticks\": \"\", \"title\": {\"standoff\": 15}, \"zerolinecolor\": \"white\", \"zerolinewidth\": 2}}}, \"title\": {\"text\": \"player salary with lgID\"}, \"xaxis\": {\"anchor\": \"y\", \"domain\": [0.0, 1.0], \"title\": {\"text\": \"salary\"}}, \"yaxis\": {\"anchor\": \"x\", \"domain\": [0.0, 1.0], \"title\": {\"text\": \"playerID\"}}},\n",
              "                        {\"responsive\": true}\n",
              "                    ).then(function(){\n",
              "                            \n",
              "var gd = document.getElementById('b026a7a6-603e-4d1b-a303-f702989225ff');\n",
              "var x = new MutationObserver(function (mutations, observer) {{\n",
              "        var display = window.getComputedStyle(gd).display;\n",
              "        if (!display || display === 'none') {{\n",
              "            console.log([gd, 'removed!']);\n",
              "            Plotly.purge(gd);\n",
              "            observer.disconnect();\n",
              "        }}\n",
              "}});\n",
              "\n",
              "// Listen for the removal of the full notebook cells\n",
              "var notebookContainer = gd.closest('#notebook-container');\n",
              "if (notebookContainer) {{\n",
              "    x.observe(notebookContainer, {childList: true});\n",
              "}}\n",
              "\n",
              "// Listen for the clearing of the current output cell\n",
              "var outputEl = gd.closest('.output');\n",
              "if (outputEl) {{\n",
              "    x.observe(outputEl, {childList: true});\n",
              "}}\n",
              "\n",
              "                        })\n",
              "                };\n",
              "                \n",
              "            </script>\n",
              "        </div>\n",
              "</body>\n",
              "</html>"
            ]
          },
          "metadata": {
            "tags": []
          }
        }
      ]
    },
    {
      "cell_type": "code",
      "metadata": {
        "id": "Lf9Ci5GqiQkF",
        "colab_type": "code",
        "colab": {}
      },
      "source": [
        "# pca ,svd 차원축소는 상관구조로 하는게 아니고 공분산 구조로 함(요인분석 기반) 아이겐벨류,아이겐벡터"
      ],
      "execution_count": 0,
      "outputs": []
    },
    {
      "cell_type": "code",
      "metadata": {
        "id": "I7BmqheMjql0",
        "colab_type": "code",
        "colab": {}
      },
      "source": [
        "df.set)index('변수명',inplace=True)"
      ],
      "execution_count": 0,
      "outputs": []
    },
    {
      "cell_type": "code",
      "metadata": {
        "id": "eBSj88QXjvmz",
        "colab_type": "code",
        "colab": {
          "base_uri": "https://localhost:8080/",
          "height": 36
        },
        "outputId": "1ef56d4b-1eee-465d-f3e3-88ce06dc899d"
      },
      "source": [
        "df_sample = df16['salary'].sample(n=50, random_state=123) # seed = 109\n",
        "df_sample.shape"
      ],
      "execution_count": 22,
      "outputs": [
        {
          "output_type": "execute_result",
          "data": {
            "text/plain": [
              "(50,)"
            ]
          },
          "metadata": {
            "tags": []
          },
          "execution_count": 22
        }
      ]
    },
    {
      "cell_type": "code",
      "metadata": {
        "id": "O6x5pqFalPqD",
        "colab_type": "code",
        "colab": {
          "base_uri": "https://localhost:8080/",
          "height": 36
        },
        "outputId": "d8d4fad0-49e4-450c-8c40-6fdc4dd29f0f"
      },
      "source": [
        "type(df_sample)"
      ],
      "execution_count": 23,
      "outputs": [
        {
          "output_type": "execute_result",
          "data": {
            "text/plain": [
              "pandas.core.series.Series"
            ]
          },
          "metadata": {
            "tags": []
          },
          "execution_count": 23
        }
      ]
    },
    {
      "cell_type": "code",
      "metadata": {
        "id": "3OCZdaATmOv_",
        "colab_type": "code",
        "colab": {}
      },
      "source": [
        ""
      ],
      "execution_count": 0,
      "outputs": []
    },
    {
      "cell_type": "code",
      "metadata": {
        "id": "nYMQiTNTlvMJ",
        "colab_type": "code",
        "colab": {
          "base_uri": "https://localhost:8080/",
          "height": 314
        },
        "outputId": "ff197610-49b1-4ee6-e162-51493b2c0b47"
      },
      "source": [
        "import seaborn as sns\n",
        "sns.boxplot(df16.salary).set_title('2016 salary : total')"
      ],
      "execution_count": 24,
      "outputs": [
        {
          "output_type": "execute_result",
          "data": {
            "text/plain": [
              "Text(0.5, 1.0, '2016 salary')"
            ]
          },
          "metadata": {
            "tags": []
          },
          "execution_count": 24
        },
        {
          "output_type": "display_data",
          "data": {
            "image/png": "[encoded data removed]",
            "text/plain": [
              "<Figure size 432x288 with 1 Axes>"
            ]
          },
          "metadata": {
            "tags": []
          }
        }
      ]
    },
    {
      "cell_type": "code",
      "metadata": {
        "id": "w6JwUUcgmfax",
        "colab_type": "code",
        "colab": {
          "base_uri": "https://localhost:8080/",
          "height": 314
        },
        "outputId": "854f8c33-554a-42f6-a3c0-c9316abf9524"
      },
      "source": [
        "import seaborn as sns\n",
        "sns.boxplot(df_sample).set_title('2016 salary : sample')"
      ],
      "execution_count": 26,
      "outputs": [
        {
          "output_type": "execute_result",
          "data": {
            "text/plain": [
              "Text(0.5, 1.0, '2016 salary : sample')"
            ]
          },
          "metadata": {
            "tags": []
          },
          "execution_count": 26
        },
        {
          "output_type": "display_data",
          "data": {
            "image/png": "[encoded data removed]",
            "text/plain": [
              "<Figure size 432x288 with 1 Axes>"
            ]
          },
          "metadata": {
            "tags": []
          }
        }
      ]
    },
    {
      "cell_type": "code",
      "metadata": {
        "id": "7FJ14Ij3mxLy",
        "colab_type": "code",
        "colab": {
          "base_uri": "https://localhost:8080/",
          "height": 204
        },
        "outputId": "d0fe566d-4d70-4a8a-f010-8ba07c7ee572"
      },
      "source": [
        "# 정규성 검정\n",
        "\n",
        "df.info()"
      ],
      "execution_count": 28,
      "outputs": [
        {
          "output_type": "stream",
          "text": [
            "<class 'pandas.core.frame.DataFrame'>\n",
            "Int64Index: 26428 entries, 0 to 26427\n",
            "Data columns (total 5 columns):\n",
            "yearID      26428 non-null int64\n",
            "teamID      26428 non-null object\n",
            "lgID        26428 non-null object\n",
            "playerID    26428 non-null object\n",
            "salary      26428 non-null int64\n",
            "dtypes: int64(2), object(3)\n",
            "memory usage: 1.2+ MB\n"
          ],
          "name": "stdout"
        }
      ]
    },
    {
      "cell_type": "code",
      "metadata": {
        "id": "rtDoqxtuqVdM",
        "colab_type": "code",
        "colab": {
          "base_uri": "https://localhost:8080/",
          "height": 56
        },
        "outputId": "738aa48e-7beb-4022-e6b6-cd1ca82207b2"
      },
      "source": [
        "from scipy import stats\n",
        "stats.anderson(df16.salary, dist='norm')"
      ],
      "execution_count": 29,
      "outputs": [
        {
          "output_type": "execute_result",
          "data": {
            "text/plain": [
              "AndersonResult(statistic=89.66166203890168, critical_values=array([0.573, 0.653, 0.783, 0.914, 1.087]), significance_level=array([15. , 10. ,  5. ,  2.5,  1. ]))"
            ]
          },
          "metadata": {
            "tags": []
          },
          "execution_count": 29
        }
      ]
    },
    {
      "cell_type": "code",
      "metadata": {
        "id": "F5V8pjz5rXCL",
        "colab_type": "code",
        "colab": {
          "base_uri": "https://localhost:8080/",
          "height": 56
        },
        "outputId": "8499cf8b-4774-4baa-9367-1db5eae3f82e"
      },
      "source": [
        "import numpy as np\n",
        "from scipy import stats\n",
        "stats.anderson(np.log(df16.salary), dist='norm')"
      ],
      "execution_count": 32,
      "outputs": [
        {
          "output_type": "execute_result",
          "data": {
            "text/plain": [
              "AndersonResult(statistic=43.946751127023845, critical_values=array([0.573, 0.653, 0.783, 0.914, 1.087]), significance_level=array([15. , 10. ,  5. ,  2.5,  1. ]))"
            ]
          },
          "metadata": {
            "tags": []
          },
          "execution_count": 32
        }
      ]
    },
    {
      "cell_type": "code",
      "metadata": {
        "id": "pF2XpNIXrt8M",
        "colab_type": "code",
        "colab": {}
      },
      "source": [
        "# data split\n",
        "from sklearn.model_selection import train_test_split\n",
        "X_train, X_test = train_test_split(df.salary, test_size=0.3)"
      ],
      "execution_count": 0,
      "outputs": []
    },
    {
      "cell_type": "code",
      "metadata": {
        "id": "8uVu2KXxsAx9",
        "colab_type": "code",
        "colab": {}
      },
      "source": [
        "bat = pd.read_csv('http://wolfpack.hnu.ac.kr/Big_Data/data/MLB1871_2018/Batting.csv')"
      ],
      "execution_count": 0,
      "outputs": []
    },
    {
      "cell_type": "code",
      "metadata": {
        "id": "_WVh8Jk2sVbB",
        "colab_type": "code",
        "colab": {}
      },
      "source": [
        "df_bat = bat[bat.yearID==2016]\n",
        "df_sal = df[df.yearID==2016]"
      ],
      "execution_count": 0,
      "outputs": []
    },
    {
      "cell_type": "code",
      "metadata": {
        "id": "Gdi2Q5Rhslwh",
        "colab_type": "code",
        "colab": {
          "base_uri": "https://localhost:8080/",
          "height": 161
        },
        "outputId": "f07aa24d-bfaa-4f57-dea4-20ebe7cc6f88"
      },
      "source": [
        "df_bat_sal = pd.merge(df_bat, df_sal, on='playerID')\n",
        "df_bat_sal.head(3)"
      ],
      "execution_count": 39,
      "outputs": [
        {
          "output_type": "execute_result",
          "data": {
            "text/html": [
              "<div>\n",
              "<style scoped>\n",
              "    .dataframe tbody tr th:only-of-type {\n",
              "        vertical-align: middle;\n",
              "    }\n",
              "\n",
              "    .dataframe tbody tr th {\n",
              "        vertical-align: top;\n",
              "    }\n",
              "\n",
              "    .dataframe thead th {\n",
              "        text-align: right;\n",
              "    }\n",
              "</style>\n",
              "<table border=\"1\" class=\"dataframe\">\n",
              "  <thead>\n",
              "    <tr style=\"text-align: right;\">\n",
              "      <th></th>\n",
              "      <th>playerID</th>\n",
              "      <th>yearID_x</th>\n",
              "      <th>stint</th>\n",
              "      <th>teamID_x</th>\n",
              "      <th>lgID_x</th>\n",
              "      <th>G</th>\n",
              "      <th>AB</th>\n",
              "      <th>R</th>\n",
              "      <th>H</th>\n",
              "      <th>2B</th>\n",
              "      <th>3B</th>\n",
              "      <th>HR</th>\n",
              "      <th>RBI</th>\n",
              "      <th>SB</th>\n",
              "      <th>CS</th>\n",
              "      <th>BB</th>\n",
              "      <th>SO</th>\n",
              "      <th>IBB</th>\n",
              "      <th>HBP</th>\n",
              "      <th>SH</th>\n",
              "      <th>SF</th>\n",
              "      <th>GIDP</th>\n",
              "      <th>yearID_y</th>\n",
              "      <th>teamID_y</th>\n",
              "      <th>lgID_y</th>\n",
              "      <th>salary</th>\n",
              "    </tr>\n",
              "  </thead>\n",
              "  <tbody>\n",
              "    <tr>\n",
              "      <th>0</th>\n",
              "      <td>abadfe01</td>\n",
              "      <td>2016</td>\n",
              "      <td>1</td>\n",
              "      <td>MIN</td>\n",
              "      <td>AL</td>\n",
              "      <td>39</td>\n",
              "      <td>1</td>\n",
              "      <td>0</td>\n",
              "      <td>0</td>\n",
              "      <td>0</td>\n",
              "      <td>0</td>\n",
              "      <td>0</td>\n",
              "      <td>0.0</td>\n",
              "      <td>0.0</td>\n",
              "      <td>0.0</td>\n",
              "      <td>0</td>\n",
              "      <td>1.0</td>\n",
              "      <td>0.0</td>\n",
              "      <td>0.0</td>\n",
              "      <td>0.0</td>\n",
              "      <td>0.0</td>\n",
              "      <td>0.0</td>\n",
              "      <td>2016</td>\n",
              "      <td>MIN</td>\n",
              "      <td>AL</td>\n",
              "      <td>1250000</td>\n",
              "    </tr>\n",
              "    <tr>\n",
              "      <th>1</th>\n",
              "      <td>abadfe01</td>\n",
              "      <td>2016</td>\n",
              "      <td>2</td>\n",
              "      <td>BOS</td>\n",
              "      <td>AL</td>\n",
              "      <td>18</td>\n",
              "      <td>0</td>\n",
              "      <td>0</td>\n",
              "      <td>0</td>\n",
              "      <td>0</td>\n",
              "      <td>0</td>\n",
              "      <td>0</td>\n",
              "      <td>0.0</td>\n",
              "      <td>0.0</td>\n",
              "      <td>0.0</td>\n",
              "      <td>0</td>\n",
              "      <td>0.0</td>\n",
              "      <td>0.0</td>\n",
              "      <td>0.0</td>\n",
              "      <td>0.0</td>\n",
              "      <td>0.0</td>\n",
              "      <td>0.0</td>\n",
              "      <td>2016</td>\n",
              "      <td>MIN</td>\n",
              "      <td>AL</td>\n",
              "      <td>1250000</td>\n",
              "    </tr>\n",
              "    <tr>\n",
              "      <th>2</th>\n",
              "      <td>abreujo02</td>\n",
              "      <td>2016</td>\n",
              "      <td>1</td>\n",
              "      <td>CHA</td>\n",
              "      <td>AL</td>\n",
              "      <td>159</td>\n",
              "      <td>624</td>\n",
              "      <td>67</td>\n",
              "      <td>183</td>\n",
              "      <td>32</td>\n",
              "      <td>1</td>\n",
              "      <td>25</td>\n",
              "      <td>100.0</td>\n",
              "      <td>0.0</td>\n",
              "      <td>2.0</td>\n",
              "      <td>47</td>\n",
              "      <td>125.0</td>\n",
              "      <td>7.0</td>\n",
              "      <td>15.0</td>\n",
              "      <td>0.0</td>\n",
              "      <td>9.0</td>\n",
              "      <td>21.0</td>\n",
              "      <td>2016</td>\n",
              "      <td>CHA</td>\n",
              "      <td>AL</td>\n",
              "      <td>11666667</td>\n",
              "    </tr>\n",
              "  </tbody>\n",
              "</table>\n",
              "</div>"
            ],
            "text/plain": [
              "    playerID  yearID_x  stint teamID_x  ... yearID_y  teamID_y  lgID_y    salary\n",
              "0   abadfe01      2016      1      MIN  ...     2016       MIN      AL   1250000\n",
              "1   abadfe01      2016      2      BOS  ...     2016       MIN      AL   1250000\n",
              "2  abreujo02      2016      1      CHA  ...     2016       CHA      AL  11666667\n",
              "\n",
              "[3 rows x 26 columns]"
            ]
          },
          "metadata": {
            "tags": []
          },
          "execution_count": 39
        }
      ]
    },
    {
      "cell_type": "code",
      "metadata": {
        "id": "dah-Y9jDs6-o",
        "colab_type": "code",
        "colab": {}
      },
      "source": [
        "df_bat_sal.set_index('playerID', inplace=True)"
      ],
      "execution_count": 0,
      "outputs": []
    },
    {
      "cell_type": "code",
      "metadata": {
        "id": "5PEqMA_ztEKu",
        "colab_type": "code",
        "colab": {}
      },
      "source": [
        "from sklearn.model_selection import train_test_split\n",
        "x, y = df_bat_sal.iloc[:,4:21], df_bat_sal.salary\n",
        "x_train, x_test, y_train, y_test = train_test_split(x,y,train_size=0.7, test_size=0.3, random_state=123)"
      ],
      "execution_count": 0,
      "outputs": []
    },
    {
      "cell_type": "code",
      "metadata": {
        "id": "E23JUH-ltEOl",
        "colab_type": "code",
        "colab": {
          "base_uri": "https://localhost:8080/",
          "height": 308
        },
        "outputId": "7a50a155-bb35-4143-8987-c414189f824f"
      },
      "source": [
        "from sklearn.linear_model import LinearRegression as lm\n",
        "model = lm().fit(x_train,y_train)\n",
        "predictions = model.predict(x_test)\n",
        "import matplotlib.pyplot as plt\n",
        "plt.scatter(y_test,predictions)"
      ],
      "execution_count": 43,
      "outputs": [
        {
          "output_type": "execute_result",
          "data": {
            "text/plain": [
              "<matplotlib.collections.PathCollection at 0x7f8536335160>"
            ]
          },
          "metadata": {
            "tags": []
          },
          "execution_count": 43
        },
        {
          "output_type": "display_data",
          "data": {
            "image/png": "[encoded data removed]",
            "text/plain": [
              "<Figure size 432x288 with 1 Axes>"
            ]
          },
          "metadata": {
            "tags": []
          }
        }
      ]
    },
    {
      "cell_type": "code",
      "metadata": {
        "id": "1dJCu9xtvNEz",
        "colab_type": "code",
        "colab": {
          "base_uri": "https://localhost:8080/",
          "height": 129
        },
        "outputId": "743fe332-52a2-4614-916e-f9c44cdf6990"
      },
      "source": [
        "model.coef_"
      ],
      "execution_count": 44,
      "outputs": [
        {
          "output_type": "execute_result",
          "data": {
            "text/plain": [
              "array([ -32537.4138351 ,    5707.72047477,    3764.96668509,\n",
              "         54305.85730844, -225235.53186537, -533998.00382186,\n",
              "          3445.58344022,   50092.64587586,   36283.79004909,\n",
              "       -419255.01433906,   80831.72509313,  -42904.02506454,\n",
              "        165005.15359771, -100820.17044647,  203120.14493859,\n",
              "          -998.82570547,  132892.97323581])"
            ]
          },
          "metadata": {
            "tags": []
          },
          "execution_count": 44
        }
      ]
    },
    {
      "cell_type": "code",
      "metadata": {
        "id": "j7VMH1jptESD",
        "colab_type": "code",
        "colab": {
          "base_uri": "https://localhost:8080/",
          "height": 131
        },
        "outputId": "d0a05050-2d15-44ce-e599-873c0741e073"
      },
      "source": [
        "from google.colab import drive\n",
        "drive.mount('/content/drive')"
      ],
      "execution_count": 42,
      "outputs": [
        {
          "output_type": "stream",
          "text": [
            "Go to this URL in a browser: https://accounts.google.com/o/oauth2/auth?client_id=947318989803-6bn6qk8qdgf4n4g3pfee6491hc0brc4i.apps.googleusercontent.com&redirect_uri=urn%3aietf%3awg%3aoauth%3a2.0%3aoob&response_type=code&scope=email%20https%3a%2f%2fwww.googleapis.com%2fauth%2fdocs.test%20https%3a%2f%2fwww.googleapis.com%2fauth%2fdrive%20https%3a%2f%2fwww.googleapis.com%2fauth%2fdrive.photos.readonly%20https%3a%2f%2fwww.googleapis.com%2fauth%2fpeopleapi.readonly\n",
            "\n",
            "Enter your authorization code:\n",
            "··········\n",
            "Mounted at /content/drive\n"
          ],
          "name": "stdout"
        }
      ]
    },
    {
      "cell_type": "code",
      "metadata": {
        "id": "h3g3rnSCtEVc",
        "colab_type": "code",
        "colab": {}
      },
      "source": [
        "# google drive path\n",
        "/content/sample_data/california_housing_test.csv"
      ],
      "execution_count": 0,
      "outputs": []
    },
    {
      "cell_type": "code",
      "metadata": {
        "id": "e8VInRvo4kdW",
        "colab_type": "code",
        "colab": {
          "base_uri": "https://localhost:8080/",
          "height": 355
        },
        "outputId": "44c2d93d-00c7-486d-d648-3a9f1e914eb4"
      },
      "source": [
        "!pip install -U finance-datareader"
      ],
      "execution_count": 46,
      "outputs": [
        {
          "output_type": "stream",
          "text": [
            "Collecting finance-datareader\n",
            "  Downloading https://files.pythonhosted.org/packages/f0/8b/157679406f352f2bc76bb8b02362b8b1059fb18f060732874cecbc8cb43c/finance_datareader-0.9.1-py3-none-any.whl\n",
            "Requirement already satisfied, skipping upgrade: lxml in /usr/local/lib/python3.6/dist-packages (from finance-datareader) (4.2.6)\n",
            "Requirement already satisfied, skipping upgrade: pandas>=0.19.2 in /usr/local/lib/python3.6/dist-packages (from finance-datareader) (0.25.3)\n",
            "Requirement already satisfied, skipping upgrade: requests>=2.3.0 in /usr/local/lib/python3.6/dist-packages (from finance-datareader) (2.21.0)\n",
            "Collecting requests-file\n",
            "  Downloading https://files.pythonhosted.org/packages/23/9c/6e63c23c39e53d3df41c77a3d05a49a42c4e1383a6d2a5e3233161b89dbf/requests_file-1.4.3-py2.py3-none-any.whl\n",
            "Requirement already satisfied, skipping upgrade: pytz>=2017.2 in /usr/local/lib/python3.6/dist-packages (from pandas>=0.19.2->finance-datareader) (2018.9)\n",
            "Requirement already satisfied, skipping upgrade: python-dateutil>=2.6.1 in /usr/local/lib/python3.6/dist-packages (from pandas>=0.19.2->finance-datareader) (2.6.1)\n",
            "Requirement already satisfied, skipping upgrade: numpy>=1.13.3 in /usr/local/lib/python3.6/dist-packages (from pandas>=0.19.2->finance-datareader) (1.17.5)\n",
            "Requirement already satisfied, skipping upgrade: chardet<3.1.0,>=3.0.2 in /usr/local/lib/python3.6/dist-packages (from requests>=2.3.0->finance-datareader) (3.0.4)\n",
            "Requirement already satisfied, skipping upgrade: idna<2.9,>=2.5 in /usr/local/lib/python3.6/dist-packages (from requests>=2.3.0->finance-datareader) (2.8)\n",
            "Requirement already satisfied, skipping upgrade: urllib3<1.25,>=1.21.1 in /usr/local/lib/python3.6/dist-packages (from requests>=2.3.0->finance-datareader) (1.24.3)\n",
            "Requirement already satisfied, skipping upgrade: certifi>=2017.4.17 in /usr/local/lib/python3.6/dist-packages (from requests>=2.3.0->finance-datareader) (2019.11.28)\n",
            "Requirement already satisfied, skipping upgrade: six in /usr/local/lib/python3.6/dist-packages (from requests-file->finance-datareader) (1.12.0)\n",
            "Installing collected packages: requests-file, finance-datareader\n",
            "Successfully installed finance-datareader-0.9.1 requests-file-1.4.3\n"
          ],
          "name": "stdout"
        }
      ]
    },
    {
      "cell_type": "code",
      "metadata": {
        "id": "p1ijU5Uz4kq8",
        "colab_type": "code",
        "colab": {}
      },
      "source": [
        "import FinanceDataReader as fdr\n",
        "df_krx = fdr.StockListing('KRX')"
      ],
      "execution_count": 0,
      "outputs": []
    },
    {
      "cell_type": "code",
      "metadata": {
        "id": "1uQOZsY44kxQ",
        "colab_type": "code",
        "colab": {
          "base_uri": "https://localhost:8080/",
          "height": 797
        },
        "outputId": "09f75863-119a-4af3-c396-1dff220804aa"
      },
      "source": [
        "name = input('주식 코드 기업명 ?')\n",
        "df_krx[df_krx['Name'].str.contains(name)]"
      ],
      "execution_count": 50,
      "outputs": [
        {
          "output_type": "stream",
          "text": [
            "주식 코드 기업명 ?삼성\n"
          ],
          "name": "stdout"
        },
        {
          "output_type": "execute_result",
          "data": {
            "text/html": [
              "<div>\n",
              "<style scoped>\n",
              "    .dataframe tbody tr th:only-of-type {\n",
              "        vertical-align: middle;\n",
              "    }\n",
              "\n",
              "    .dataframe tbody tr th {\n",
              "        vertical-align: top;\n",
              "    }\n",
              "\n",
              "    .dataframe thead th {\n",
              "        text-align: right;\n",
              "    }\n",
              "</style>\n",
              "<table border=\"1\" class=\"dataframe\">\n",
              "  <thead>\n",
              "    <tr style=\"text-align: right;\">\n",
              "      <th></th>\n",
              "      <th>Symbol</th>\n",
              "      <th>Name</th>\n",
              "      <th>Sector</th>\n",
              "      <th>Industry</th>\n",
              "    </tr>\n",
              "  </thead>\n",
              "  <tbody>\n",
              "    <tr>\n",
              "      <th>34</th>\n",
              "      <td>006400</td>\n",
              "      <td>삼성SDI</td>\n",
              "      <td>일차전지 및 축전지 제조업</td>\n",
              "      <td>칼라브라운관,PDP,평판표시관,모니터,휴대용 디스플레이,폴리머전지(2차전지),초박형...</td>\n",
              "    </tr>\n",
              "    <tr>\n",
              "      <th>35</th>\n",
              "      <td>207940</td>\n",
              "      <td>삼성바이오로직스</td>\n",
              "      <td>기초 의약물질 및 생물학적 제제 제조업</td>\n",
              "      <td>바이오의약품</td>\n",
              "    </tr>\n",
              "    <tr>\n",
              "      <th>36</th>\n",
              "      <td>068290</td>\n",
              "      <td>삼성출판사</td>\n",
              "      <td>서적, 잡지 및 기타 인쇄물 출판업</td>\n",
              "      <td>서적 출판,인쇄,소매/부동산 임대</td>\n",
              "    </tr>\n",
              "    <tr>\n",
              "      <th>37</th>\n",
              "      <td>029780</td>\n",
              "      <td>삼성카드</td>\n",
              "      <td>기타 금융업</td>\n",
              "      <td>신용카드업,상품신용판매,현금서비스,카드론,리스,기업대출,여행업무,통신판매</td>\n",
              "    </tr>\n",
              "    <tr>\n",
              "      <th>38</th>\n",
              "      <td>000810</td>\n",
              "      <td>삼성화재해상보험</td>\n",
              "      <td>보험업</td>\n",
              "      <td>손해보험의 원수,재보험,운용자산의 투자활동</td>\n",
              "    </tr>\n",
              "    <tr>\n",
              "      <th>633</th>\n",
              "      <td>018260</td>\n",
              "      <td>삼성에스디에스</td>\n",
              "      <td>컴퓨터 프로그래밍, 시스템 통합 및 관리업</td>\n",
              "      <td>IT서비스, 물류BPO</td>\n",
              "    </tr>\n",
              "    <tr>\n",
              "      <th>634</th>\n",
              "      <td>010140</td>\n",
              "      <td>삼성중공업</td>\n",
              "      <td>선박 및 보트 건조업</td>\n",
              "      <td>선박(벌크선,원유운반선),철구조물,에너지플랜트 생산,판매/토목건축업</td>\n",
              "    </tr>\n",
              "    <tr>\n",
              "      <th>635</th>\n",
              "      <td>016360</td>\n",
              "      <td>삼성증권</td>\n",
              "      <td>금융 지원 서비스업</td>\n",
              "      <td>유가증권의 매매,위탁매매,인수주선</td>\n",
              "    </tr>\n",
              "    <tr>\n",
              "      <th>942</th>\n",
              "      <td>028260</td>\n",
              "      <td>삼성물산</td>\n",
              "      <td>기타 전문 도매업</td>\n",
              "      <td>도소매, 건설, 남자용 정장 제조업 등</td>\n",
              "    </tr>\n",
              "    <tr>\n",
              "      <th>943</th>\n",
              "      <td>005930</td>\n",
              "      <td>삼성전자</td>\n",
              "      <td>통신 및 방송 장비 제조업</td>\n",
              "      <td>IMT2000 서비스용 동기식 기지국,교환국장비,데이터단말기,동영상휴대폰,핵심칩,반...</td>\n",
              "    </tr>\n",
              "    <tr>\n",
              "      <th>944</th>\n",
              "      <td>001360</td>\n",
              "      <td>삼성제약</td>\n",
              "      <td>의약품 제조업</td>\n",
              "      <td>의약품(까스명수,쓸기담,에프킬라에어졸,액체우황청심원) 제조,도매</td>\n",
              "    </tr>\n",
              "    <tr>\n",
              "      <th>1230</th>\n",
              "      <td>006660</td>\n",
              "      <td>삼성공조</td>\n",
              "      <td>자동차 신품 부품 제조업</td>\n",
              "      <td>자동차부품(라디에터,오일쿨러,인터쿨러) 제조,판매</td>\n",
              "    </tr>\n",
              "    <tr>\n",
              "      <th>1231</th>\n",
              "      <td>032830</td>\n",
              "      <td>삼성생명</td>\n",
              "      <td>보험업</td>\n",
              "      <td>생명보험,부동산 임대</td>\n",
              "    </tr>\n",
              "    <tr>\n",
              "      <th>1232</th>\n",
              "      <td>009150</td>\n",
              "      <td>삼성전기</td>\n",
              "      <td>전자부품 제조업</td>\n",
              "      <td>영상,음향,통신장비,모듈,다층인쇄회로기판,적층세라믹콘덴서,고주파필터,전압제어발진기,...</td>\n",
              "    </tr>\n",
              "    <tr>\n",
              "      <th>1528</th>\n",
              "      <td>028050</td>\n",
              "      <td>삼성엔지니어링</td>\n",
              "      <td>건축기술, 엔지니어링 및 관련 기술 서비스업</td>\n",
              "      <td>산업설비,건물,구축물,토목시설의 설계,시공,공사감리</td>\n",
              "    </tr>\n",
              "    <tr>\n",
              "      <th>1638</th>\n",
              "      <td>309930</td>\n",
              "      <td>삼성머스트스팩3호</td>\n",
              "      <td>금융 지원 서비스업</td>\n",
              "      <td>기업인수합병</td>\n",
              "    </tr>\n",
              "    <tr>\n",
              "      <th>1932</th>\n",
              "      <td>291230</td>\n",
              "      <td>삼성스팩2호</td>\n",
              "      <td>금융 지원 서비스업</td>\n",
              "      <td>기업인수합병</td>\n",
              "    </tr>\n",
              "  </tbody>\n",
              "</table>\n",
              "</div>"
            ],
            "text/plain": [
              "      Symbol  ...                                           Industry\n",
              "34    006400  ...  칼라브라운관,PDP,평판표시관,모니터,휴대용 디스플레이,폴리머전지(2차전지),초박형...\n",
              "35    207940  ...                                             바이오의약품\n",
              "36    068290  ...                                 서적 출판,인쇄,소매/부동산 임대\n",
              "37    029780  ...           신용카드업,상품신용판매,현금서비스,카드론,리스,기업대출,여행업무,통신판매\n",
              "38    000810  ...                            손해보험의 원수,재보험,운용자산의 투자활동\n",
              "633   018260  ...                                       IT서비스, 물류BPO\n",
              "634   010140  ...              선박(벌크선,원유운반선),철구조물,에너지플랜트 생산,판매/토목건축업\n",
              "635   016360  ...                                 유가증권의 매매,위탁매매,인수주선\n",
              "942   028260  ...                              도소매, 건설, 남자용 정장 제조업 등\n",
              "943   005930  ...  IMT2000 서비스용 동기식 기지국,교환국장비,데이터단말기,동영상휴대폰,핵심칩,반...\n",
              "944   001360  ...                의약품(까스명수,쓸기담,에프킬라에어졸,액체우황청심원) 제조,도매\n",
              "1230  006660  ...                        자동차부품(라디에터,오일쿨러,인터쿨러) 제조,판매\n",
              "1231  032830  ...                                        생명보험,부동산 임대\n",
              "1232  009150  ...  영상,음향,통신장비,모듈,다층인쇄회로기판,적층세라믹콘덴서,고주파필터,전압제어발진기,...\n",
              "1528  028050  ...                       산업설비,건물,구축물,토목시설의 설계,시공,공사감리\n",
              "1638  309930  ...                                             기업인수합병\n",
              "1932  291230  ...                                             기업인수합병\n",
              "\n",
              "[17 rows x 4 columns]"
            ]
          },
          "metadata": {
            "tags": []
          },
          "execution_count": 50
        }
      ]
    },
    {
      "cell_type": "code",
      "metadata": {
        "id": "uMP-M_rC4k0m",
        "colab_type": "code",
        "colab": {}
      },
      "source": [
        "삼성전자 = fdr.DataReader('005930','2015-01-01','2019-12-31')\n",
        "현대차 = fdr.DataReader('005380','2015-01-01','2019-12-31')\n",
        "셀트리온 = fdr.DataReader('068270','2015-01-01','2019-12-31')\n",
        "한전 = fdr.DataReader('015760','2015-01-01','2019-12-31')\n",
        "sk텔레컴 = fdr.DataReader('017670','2015-01-01','2019-12-31')"
      ],
      "execution_count": 0,
      "outputs": []
    },
    {
      "cell_type": "code",
      "metadata": {
        "id": "oafa6sDl6SkY",
        "colab_type": "code",
        "colab": {
          "base_uri": "https://localhost:8080/",
          "height": 171
        },
        "outputId": "be560d79-d40e-4aaa-b45b-f203a0751041"
      },
      "source": [
        "df_comp = pd.concat([삼성전자['Change'],현대차['Change'],셀트리온['Change'],한전['Change'],sk텔레컴['Change']],axis=1)\n",
        "df_comp.columns = ['삼성전자','현대차','셀트리온','한전','sk텔레컴']\n",
        "df_comp.head(3)"
      ],
      "execution_count": 55,
      "outputs": [
        {
          "output_type": "execute_result",
          "data": {
            "text/html": [
              "<div>\n",
              "<style scoped>\n",
              "    .dataframe tbody tr th:only-of-type {\n",
              "        vertical-align: middle;\n",
              "    }\n",
              "\n",
              "    .dataframe tbody tr th {\n",
              "        vertical-align: top;\n",
              "    }\n",
              "\n",
              "    .dataframe thead th {\n",
              "        text-align: right;\n",
              "    }\n",
              "</style>\n",
              "<table border=\"1\" class=\"dataframe\">\n",
              "  <thead>\n",
              "    <tr style=\"text-align: right;\">\n",
              "      <th></th>\n",
              "      <th>삼성전자</th>\n",
              "      <th>현대차</th>\n",
              "      <th>셀트리온</th>\n",
              "      <th>한전</th>\n",
              "      <th>sk텔레컴</th>\n",
              "    </tr>\n",
              "    <tr>\n",
              "      <th>Date</th>\n",
              "      <th></th>\n",
              "      <th></th>\n",
              "      <th></th>\n",
              "      <th></th>\n",
              "      <th></th>\n",
              "    </tr>\n",
              "  </thead>\n",
              "  <tbody>\n",
              "    <tr>\n",
              "      <th>2015-01-02</th>\n",
              "      <td>0.002261</td>\n",
              "      <td>0.000000</td>\n",
              "      <td>0.007714</td>\n",
              "      <td>0.000000</td>\n",
              "      <td>0.016791</td>\n",
              "    </tr>\n",
              "    <tr>\n",
              "      <th>2015-01-05</th>\n",
              "      <td>0.002256</td>\n",
              "      <td>-0.005917</td>\n",
              "      <td>-0.005122</td>\n",
              "      <td>-0.016393</td>\n",
              "      <td>0.014679</td>\n",
              "    </tr>\n",
              "    <tr>\n",
              "      <th>2015-01-06</th>\n",
              "      <td>-0.028507</td>\n",
              "      <td>-0.020833</td>\n",
              "      <td>-0.017963</td>\n",
              "      <td>-0.003571</td>\n",
              "      <td>-0.007233</td>\n",
              "    </tr>\n",
              "  </tbody>\n",
              "</table>\n",
              "</div>"
            ],
            "text/plain": [
              "                삼성전자       현대차      셀트리온        한전     sk텔레컴\n",
              "Date                                                        \n",
              "2015-01-02  0.002261  0.000000  0.007714  0.000000  0.016791\n",
              "2015-01-05  0.002256 -0.005917 -0.005122 -0.016393  0.014679\n",
              "2015-01-06 -0.028507 -0.020833 -0.017963 -0.003571 -0.007233"
            ]
          },
          "metadata": {
            "tags": []
          },
          "execution_count": 55
        }
      ]
    },
    {
      "cell_type": "code",
      "metadata": {
        "id": "zCMVSURw6Snd",
        "colab_type": "code",
        "colab": {
          "base_uri": "https://localhost:8080/",
          "height": 233
        },
        "outputId": "fb55661f-9317-4fdf-f3e5-f7bdca783297"
      },
      "source": [
        "import datetime\n",
        "df_comp['요일'] = df_comp.index.weekday\n",
        "df_comp['분기'] = df_comp.index.quarter\n",
        "df_comp['주'] = df_comp.index.week\n",
        "df_comp['연도'] = df_comp.index.year\n",
        "df_comp['월'] = df_comp.index.month\n",
        "df_comp.head()\n",
        "\n",
        "# 요일 0:월요일 , 4:금요일"
      ],
      "execution_count": 57,
      "outputs": [
        {
          "output_type": "execute_result",
          "data": {
            "text/html": [
              "<div>\n",
              "<style scoped>\n",
              "    .dataframe tbody tr th:only-of-type {\n",
              "        vertical-align: middle;\n",
              "    }\n",
              "\n",
              "    .dataframe tbody tr th {\n",
              "        vertical-align: top;\n",
              "    }\n",
              "\n",
              "    .dataframe thead th {\n",
              "        text-align: right;\n",
              "    }\n",
              "</style>\n",
              "<table border=\"1\" class=\"dataframe\">\n",
              "  <thead>\n",
              "    <tr style=\"text-align: right;\">\n",
              "      <th></th>\n",
              "      <th>삼성전자</th>\n",
              "      <th>현대차</th>\n",
              "      <th>셀트리온</th>\n",
              "      <th>한전</th>\n",
              "      <th>sk텔레컴</th>\n",
              "      <th>요일</th>\n",
              "      <th>분기</th>\n",
              "      <th>주</th>\n",
              "      <th>연도</th>\n",
              "      <th>월</th>\n",
              "    </tr>\n",
              "    <tr>\n",
              "      <th>Date</th>\n",
              "      <th></th>\n",
              "      <th></th>\n",
              "      <th></th>\n",
              "      <th></th>\n",
              "      <th></th>\n",
              "      <th></th>\n",
              "      <th></th>\n",
              "      <th></th>\n",
              "      <th></th>\n",
              "      <th></th>\n",
              "    </tr>\n",
              "  </thead>\n",
              "  <tbody>\n",
              "    <tr>\n",
              "      <th>2015-01-02</th>\n",
              "      <td>0.002261</td>\n",
              "      <td>0.000000</td>\n",
              "      <td>0.007714</td>\n",
              "      <td>0.000000</td>\n",
              "      <td>0.016791</td>\n",
              "      <td>4</td>\n",
              "      <td>1</td>\n",
              "      <td>1</td>\n",
              "      <td>2015</td>\n",
              "      <td>1</td>\n",
              "    </tr>\n",
              "    <tr>\n",
              "      <th>2015-01-05</th>\n",
              "      <td>0.002256</td>\n",
              "      <td>-0.005917</td>\n",
              "      <td>-0.005122</td>\n",
              "      <td>-0.016393</td>\n",
              "      <td>0.014679</td>\n",
              "      <td>0</td>\n",
              "      <td>1</td>\n",
              "      <td>2</td>\n",
              "      <td>2015</td>\n",
              "      <td>1</td>\n",
              "    </tr>\n",
              "    <tr>\n",
              "      <th>2015-01-06</th>\n",
              "      <td>-0.028507</td>\n",
              "      <td>-0.020833</td>\n",
              "      <td>-0.017963</td>\n",
              "      <td>-0.003571</td>\n",
              "      <td>-0.007233</td>\n",
              "      <td>1</td>\n",
              "      <td>1</td>\n",
              "      <td>2</td>\n",
              "      <td>2015</td>\n",
              "      <td>1</td>\n",
              "    </tr>\n",
              "    <tr>\n",
              "      <th>2015-01-07</th>\n",
              "      <td>0.009266</td>\n",
              "      <td>0.033435</td>\n",
              "      <td>-0.009160</td>\n",
              "      <td>0.031063</td>\n",
              "      <td>-0.018215</td>\n",
              "      <td>2</td>\n",
              "      <td>1</td>\n",
              "      <td>2</td>\n",
              "      <td>2015</td>\n",
              "      <td>1</td>\n",
              "    </tr>\n",
              "    <tr>\n",
              "      <th>2015-01-08</th>\n",
              "      <td>0.005356</td>\n",
              "      <td>0.047059</td>\n",
              "      <td>0.005291</td>\n",
              "      <td>-0.031286</td>\n",
              "      <td>-0.016698</td>\n",
              "      <td>3</td>\n",
              "      <td>1</td>\n",
              "      <td>2</td>\n",
              "      <td>2015</td>\n",
              "      <td>1</td>\n",
              "    </tr>\n",
              "  </tbody>\n",
              "</table>\n",
              "</div>"
            ],
            "text/plain": [
              "                삼성전자       현대차      셀트리온        한전  ...  분기  주    연도  월\n",
              "Date                                                ...                \n",
              "2015-01-02  0.002261  0.000000  0.007714  0.000000  ...   1  1  2015  1\n",
              "2015-01-05  0.002256 -0.005917 -0.005122 -0.016393  ...   1  2  2015  1\n",
              "2015-01-06 -0.028507 -0.020833 -0.017963 -0.003571  ...   1  2  2015  1\n",
              "2015-01-07  0.009266  0.033435 -0.009160  0.031063  ...   1  2  2015  1\n",
              "2015-01-08  0.005356  0.047059  0.005291 -0.031286  ...   1  2  2015  1\n",
              "\n",
              "[5 rows x 10 columns]"
            ]
          },
          "metadata": {
            "tags": []
          },
          "execution_count": 57
        }
      ]
    },
    {
      "cell_type": "code",
      "metadata": {
        "id": "NFGevfdK6Sqn",
        "colab_type": "code",
        "colab": {
          "base_uri": "https://localhost:8080/",
          "height": 233
        },
        "outputId": "08868378-09cc-4f84-f16b-2a998d831d66"
      },
      "source": [
        "df_rev = df_comp.groupby(['연도','월']).mean().iloc[:,0:5]\n",
        "df_rev.head()"
      ],
      "execution_count": 60,
      "outputs": [
        {
          "output_type": "execute_result",
          "data": {
            "text/html": [
              "<div>\n",
              "<style scoped>\n",
              "    .dataframe tbody tr th:only-of-type {\n",
              "        vertical-align: middle;\n",
              "    }\n",
              "\n",
              "    .dataframe tbody tr th {\n",
              "        vertical-align: top;\n",
              "    }\n",
              "\n",
              "    .dataframe thead th {\n",
              "        text-align: right;\n",
              "    }\n",
              "</style>\n",
              "<table border=\"1\" class=\"dataframe\">\n",
              "  <thead>\n",
              "    <tr style=\"text-align: right;\">\n",
              "      <th></th>\n",
              "      <th></th>\n",
              "      <th>삼성전자</th>\n",
              "      <th>현대차</th>\n",
              "      <th>셀트리온</th>\n",
              "      <th>한전</th>\n",
              "      <th>sk텔레컴</th>\n",
              "    </tr>\n",
              "    <tr>\n",
              "      <th>연도</th>\n",
              "      <th>월</th>\n",
              "      <th></th>\n",
              "      <th></th>\n",
              "      <th></th>\n",
              "      <th></th>\n",
              "      <th></th>\n",
              "    </tr>\n",
              "  </thead>\n",
              "  <tbody>\n",
              "    <tr>\n",
              "      <th rowspan=\"5\" valign=\"top\">2015</th>\n",
              "      <th>1</th>\n",
              "      <td>0.001425</td>\n",
              "      <td>0.000295</td>\n",
              "      <td>0.002323</td>\n",
              "      <td>0.000783</td>\n",
              "      <td>0.003682</td>\n",
              "    </tr>\n",
              "    <tr>\n",
              "      <th>2</th>\n",
              "      <td>-0.000302</td>\n",
              "      <td>-0.003080</td>\n",
              "      <td>0.030308</td>\n",
              "      <td>0.002169</td>\n",
              "      <td>-0.000403</td>\n",
              "    </tr>\n",
              "    <tr>\n",
              "      <th>3</th>\n",
              "      <td>0.002907</td>\n",
              "      <td>0.002414</td>\n",
              "      <td>0.003999</td>\n",
              "      <td>0.001438</td>\n",
              "      <td>-0.002115</td>\n",
              "    </tr>\n",
              "    <tr>\n",
              "      <th>4</th>\n",
              "      <td>-0.000884</td>\n",
              "      <td>0.000282</td>\n",
              "      <td>0.010120</td>\n",
              "      <td>0.001022</td>\n",
              "      <td>0.002530</td>\n",
              "    </tr>\n",
              "    <tr>\n",
              "      <th>5</th>\n",
              "      <td>-0.004113</td>\n",
              "      <td>-0.003661</td>\n",
              "      <td>-0.011744</td>\n",
              "      <td>-0.000604</td>\n",
              "      <td>-0.008231</td>\n",
              "    </tr>\n",
              "  </tbody>\n",
              "</table>\n",
              "</div>"
            ],
            "text/plain": [
              "            삼성전자       현대차      셀트리온        한전     sk텔레컴\n",
              "연도   월                                                  \n",
              "2015 1  0.001425  0.000295  0.002323  0.000783  0.003682\n",
              "     2 -0.000302 -0.003080  0.030308  0.002169 -0.000403\n",
              "     3  0.002907  0.002414  0.003999  0.001438 -0.002115\n",
              "     4 -0.000884  0.000282  0.010120  0.001022  0.002530\n",
              "     5 -0.004113 -0.003661 -0.011744 -0.000604 -0.008231"
            ]
          },
          "metadata": {
            "tags": []
          },
          "execution_count": 60
        }
      ]
    },
    {
      "cell_type": "code",
      "metadata": {
        "id": "jefS09UB6SuQ",
        "colab_type": "code",
        "colab": {
          "base_uri": "https://localhost:8080/",
          "height": 55
        },
        "outputId": "9c7af7fb-a504-4958-c17b-c115dc992792"
      },
      "source": [
        "# 기대 월수익\n",
        "\n",
        "rev_array = np.array(df_rev)\n",
        "one = np.array(np.repeat(1,rev_array.shape[0]))\n",
        "exp = one.T@rev_array/rev_array.shape[0]\n",
        "exp"
      ],
      "execution_count": 63,
      "outputs": [
        {
          "output_type": "execute_result",
          "data": {
            "text/plain": [
              "array([ 7.08163380e-04, -1.05281018e-04,  1.87487181e-03, -2.32032581e-04,\n",
              "        2.09784006e-05])"
            ]
          },
          "metadata": {
            "tags": []
          },
          "execution_count": 63
        }
      ]
    },
    {
      "cell_type": "code",
      "metadata": {
        "id": "7yz2f6KB6S16",
        "colab_type": "code",
        "colab": {}
      },
      "source": [
        "# 2개 포트폴리오 구성 \n",
        "\n",
        "w = np.array([[0.2, 0.2, 0.2, 0.2, 0.2],\n",
        "             [0.3, 0.1, 0.2, 0.1, 0.3],\n",
        "             [0.3, 0.2, 0.2, 0.1, 0.2]])"
      ],
      "execution_count": 0,
      "outputs": []
    },
    {
      "cell_type": "code",
      "metadata": {
        "id": "-J6ssrrp-GEE",
        "colab_type": "code",
        "colab": {
          "base_uri": "https://localhost:8080/",
          "height": 36
        },
        "outputId": "93181d4a-3c66-46c2-817f-7ad28a08244f"
      },
      "source": [
        "w@exp"
      ],
      "execution_count": 67,
      "outputs": [
        {
          "output_type": "execute_result",
          "data": {
            "text/plain": [
              "array([0.00045334, 0.00055999, 0.00054736])"
            ]
          },
          "metadata": {
            "tags": []
          },
          "execution_count": 67
        }
      ]
    },
    {
      "cell_type": "code",
      "metadata": {
        "id": "5CmDFvMm-GHO",
        "colab_type": "code",
        "colab": {}
      },
      "source": [
        "# 공분산 Cov(X,Y) = E[(x-mu_x)*(y-mu_y)]\n",
        "exp_repeat = np.tile(exp,(rev_array.shape[0],1))\n",
        "A = rev_array.T - exp_repeat.T\n",
        "B = rev_array - exp_repeat\n",
        "(A @ B)\n",
        "cov = (A@B)/rev_array.shape[0]"
      ],
      "execution_count": 0,
      "outputs": []
    },
    {
      "cell_type": "code",
      "metadata": {
        "id": "ctbJ8J8I-GKP",
        "colab_type": "code",
        "colab": {
          "base_uri": "https://localhost:8080/",
          "height": 73
        },
        "outputId": "492d1fff-a6f8-45d7-99f7-944d44d99c1b"
      },
      "source": [
        "w@cov@w.T"
      ],
      "execution_count": 70,
      "outputs": [
        {
          "output_type": "execute_result",
          "data": {
            "text/plain": [
              "array([[5.03388254e-06, 4.94928132e-06, 5.12723023e-06],\n",
              "       [4.94928132e-06, 5.16367699e-06, 5.20362988e-06],\n",
              "       [5.12723023e-06, 5.20362988e-06, 5.39634487e-06]])"
            ]
          },
          "metadata": {
            "tags": []
          },
          "execution_count": 70
        }
      ]
    },
    {
      "cell_type": "code",
      "metadata": {
        "id": "KLg4Wa4p-GNm",
        "colab_type": "code",
        "colab": {
          "base_uri": "https://localhost:8080/",
          "height": 56
        },
        "outputId": "a6ee705e-ca6b-4fde-a017-23ca245260af"
      },
      "source": [
        "# 과업 최소분산(위험) 포트폴리오 구성\n",
        "\n",
        "import numpy.linalg as lin\n",
        "np.array([1,1,1,1,1]).T@lin.inv(cov)\n",
        "np.array([1,1,1,1,1]).T@lin.inv(cov)@np.array([1,1,1,1,1])\n",
        "w = np.array((np.array([1,1,1,1,1]).T@lin.inv(cov))/(np.array([1,1,1,1,1]).T@lin.inv(cov)@np.array([1,1,1,1,1])))\n",
        "print('가중치=',w, '기대수익률=',w.T@exp, '위험=',w.T@cov@w)\n"
      ],
      "execution_count": 76,
      "outputs": [
        {
          "output_type": "stream",
          "text": [
            "가중치= [0.2419881  0.08692076 0.04555151 0.27298861 0.35255103] 기대수익률= 0.0001916729538989213 위험= 3.519514620445002e-06\n"
          ],
          "name": "stdout"
        }
      ]
    },
    {
      "cell_type": "code",
      "metadata": {
        "id": "ZJiUo-6n_7sq",
        "colab_type": "code",
        "colab": {}
      },
      "source": [
        "# 수비 위치에 따른 선수 연봉 차이\n",
        "\n"
      ],
      "execution_count": 0,
      "outputs": []
    },
    {
      "cell_type": "code",
      "metadata": {
        "id": "2iBEREvj_7v0",
        "colab_type": "code",
        "colab": {}
      },
      "source": [
        "# 상관관계 : \n",
        "# 열의 유사성 => 상관계수로 판단, \n",
        "# 행의 유사성 판단 => 군집변수, 판별변수 (경기능력의 거리 => 유클리디안 : 직선의 거리 )\n",
        "# 그래서 판단하려면 숫자라야함 0,1로 넣으면 판단 못함 (0,1은 순서형 변수만 가능)"
      ],
      "execution_count": 0,
      "outputs": []
    },
    {
      "cell_type": "code",
      "metadata": {
        "id": "tmznNpPf_7y3",
        "colab_type": "code",
        "colab": {
          "base_uri": "https://localhost:8080/",
          "height": 92
        },
        "outputId": "18c8bca1-4929-4ca5-aeb0-7bfb43a1dc4f"
      },
      "source": [
        "df_bat_sal.columns"
      ],
      "execution_count": 84,
      "outputs": [
        {
          "output_type": "execute_result",
          "data": {
            "text/plain": [
              "Index(['yearID_x', 'stint', 'teamID_x', 'lgID_x', 'G', 'AB', 'R', 'H', '2B',\n",
              "       '3B', 'HR', 'RBI', 'SB', 'CS', 'BB', 'SO', 'IBB', 'HBP', 'SH', 'SF',\n",
              "       'GIDP', 'yearID_y', 'teamID_y', 'lgID_y', 'salary'],\n",
              "      dtype='object')"
            ]
          },
          "metadata": {
            "tags": []
          },
          "execution_count": 84
        }
      ]
    },
    {
      "cell_type": "code",
      "metadata": {
        "id": "Q-5H-1efaonp",
        "colab_type": "code",
        "colab": {
          "base_uri": "https://localhost:8080/",
          "height": 253
        },
        "outputId": "b21b70f0-f9e3-4638-bbd3-05e12bc9bef1"
      },
      "source": [
        "df_bat_sal.head()"
      ],
      "execution_count": 85,
      "outputs": [
        {
          "output_type": "execute_result",
          "data": {
            "text/html": [
              "<div>\n",
              "<style scoped>\n",
              "    .dataframe tbody tr th:only-of-type {\n",
              "        vertical-align: middle;\n",
              "    }\n",
              "\n",
              "    .dataframe tbody tr th {\n",
              "        vertical-align: top;\n",
              "    }\n",
              "\n",
              "    .dataframe thead th {\n",
              "        text-align: right;\n",
              "    }\n",
              "</style>\n",
              "<table border=\"1\" class=\"dataframe\">\n",
              "  <thead>\n",
              "    <tr style=\"text-align: right;\">\n",
              "      <th></th>\n",
              "      <th>yearID_x</th>\n",
              "      <th>stint</th>\n",
              "      <th>teamID_x</th>\n",
              "      <th>lgID_x</th>\n",
              "      <th>G</th>\n",
              "      <th>AB</th>\n",
              "      <th>R</th>\n",
              "      <th>H</th>\n",
              "      <th>2B</th>\n",
              "      <th>3B</th>\n",
              "      <th>HR</th>\n",
              "      <th>RBI</th>\n",
              "      <th>SB</th>\n",
              "      <th>CS</th>\n",
              "      <th>BB</th>\n",
              "      <th>SO</th>\n",
              "      <th>IBB</th>\n",
              "      <th>HBP</th>\n",
              "      <th>SH</th>\n",
              "      <th>SF</th>\n",
              "      <th>GIDP</th>\n",
              "      <th>yearID_y</th>\n",
              "      <th>teamID_y</th>\n",
              "      <th>lgID_y</th>\n",
              "      <th>salary</th>\n",
              "    </tr>\n",
              "    <tr>\n",
              "      <th>playerID</th>\n",
              "      <th></th>\n",
              "      <th></th>\n",
              "      <th></th>\n",
              "      <th></th>\n",
              "      <th></th>\n",
              "      <th></th>\n",
              "      <th></th>\n",
              "      <th></th>\n",
              "      <th></th>\n",
              "      <th></th>\n",
              "      <th></th>\n",
              "      <th></th>\n",
              "      <th></th>\n",
              "      <th></th>\n",
              "      <th></th>\n",
              "      <th></th>\n",
              "      <th></th>\n",
              "      <th></th>\n",
              "      <th></th>\n",
              "      <th></th>\n",
              "      <th></th>\n",
              "      <th></th>\n",
              "      <th></th>\n",
              "      <th></th>\n",
              "      <th></th>\n",
              "    </tr>\n",
              "  </thead>\n",
              "  <tbody>\n",
              "    <tr>\n",
              "      <th>zychto01</th>\n",
              "      <td>2016</td>\n",
              "      <td>1</td>\n",
              "      <td>SEA</td>\n",
              "      <td>AL</td>\n",
              "      <td>12</td>\n",
              "      <td>0</td>\n",
              "      <td>0</td>\n",
              "      <td>0</td>\n",
              "      <td>0</td>\n",
              "      <td>0</td>\n",
              "      <td>0</td>\n",
              "      <td>0.0</td>\n",
              "      <td>0.0</td>\n",
              "      <td>0.0</td>\n",
              "      <td>0</td>\n",
              "      <td>0.0</td>\n",
              "      <td>0.0</td>\n",
              "      <td>0.0</td>\n",
              "      <td>0.0</td>\n",
              "      <td>0.0</td>\n",
              "      <td>0.0</td>\n",
              "      <td>2016</td>\n",
              "      <td>SEA</td>\n",
              "      <td>AL</td>\n",
              "      <td>511000</td>\n",
              "    </tr>\n",
              "    <tr>\n",
              "      <th>zobribe01</th>\n",
              "      <td>2016</td>\n",
              "      <td>1</td>\n",
              "      <td>CHN</td>\n",
              "      <td>NL</td>\n",
              "      <td>147</td>\n",
              "      <td>523</td>\n",
              "      <td>94</td>\n",
              "      <td>142</td>\n",
              "      <td>31</td>\n",
              "      <td>3</td>\n",
              "      <td>18</td>\n",
              "      <td>76.0</td>\n",
              "      <td>6.0</td>\n",
              "      <td>4.0</td>\n",
              "      <td>96</td>\n",
              "      <td>82.0</td>\n",
              "      <td>6.0</td>\n",
              "      <td>4.0</td>\n",
              "      <td>4.0</td>\n",
              "      <td>4.0</td>\n",
              "      <td>17.0</td>\n",
              "      <td>2016</td>\n",
              "      <td>CHN</td>\n",
              "      <td>NL</td>\n",
              "      <td>10500000</td>\n",
              "    </tr>\n",
              "    <tr>\n",
              "      <th>zimmery01</th>\n",
              "      <td>2016</td>\n",
              "      <td>1</td>\n",
              "      <td>WAS</td>\n",
              "      <td>NL</td>\n",
              "      <td>115</td>\n",
              "      <td>427</td>\n",
              "      <td>60</td>\n",
              "      <td>93</td>\n",
              "      <td>18</td>\n",
              "      <td>1</td>\n",
              "      <td>15</td>\n",
              "      <td>46.0</td>\n",
              "      <td>4.0</td>\n",
              "      <td>1.0</td>\n",
              "      <td>29</td>\n",
              "      <td>104.0</td>\n",
              "      <td>1.0</td>\n",
              "      <td>5.0</td>\n",
              "      <td>0.0</td>\n",
              "      <td>6.0</td>\n",
              "      <td>12.0</td>\n",
              "      <td>2016</td>\n",
              "      <td>WAS</td>\n",
              "      <td>NL</td>\n",
              "      <td>14000000</td>\n",
              "    </tr>\n",
              "    <tr>\n",
              "      <th>zimmejo02</th>\n",
              "      <td>2016</td>\n",
              "      <td>1</td>\n",
              "      <td>DET</td>\n",
              "      <td>AL</td>\n",
              "      <td>19</td>\n",
              "      <td>4</td>\n",
              "      <td>0</td>\n",
              "      <td>1</td>\n",
              "      <td>0</td>\n",
              "      <td>0</td>\n",
              "      <td>0</td>\n",
              "      <td>0.0</td>\n",
              "      <td>0.0</td>\n",
              "      <td>0.0</td>\n",
              "      <td>0</td>\n",
              "      <td>2.0</td>\n",
              "      <td>0.0</td>\n",
              "      <td>0.0</td>\n",
              "      <td>1.0</td>\n",
              "      <td>0.0</td>\n",
              "      <td>0.0</td>\n",
              "      <td>2016</td>\n",
              "      <td>DET</td>\n",
              "      <td>AL</td>\n",
              "      <td>18000000</td>\n",
              "    </tr>\n",
              "    <tr>\n",
              "      <th>zieglbr01</th>\n",
              "      <td>2016</td>\n",
              "      <td>2</td>\n",
              "      <td>BOS</td>\n",
              "      <td>AL</td>\n",
              "      <td>33</td>\n",
              "      <td>0</td>\n",
              "      <td>0</td>\n",
              "      <td>0</td>\n",
              "      <td>0</td>\n",
              "      <td>0</td>\n",
              "      <td>0</td>\n",
              "      <td>0.0</td>\n",
              "      <td>0.0</td>\n",
              "      <td>0.0</td>\n",
              "      <td>0</td>\n",
              "      <td>0.0</td>\n",
              "      <td>0.0</td>\n",
              "      <td>0.0</td>\n",
              "      <td>0.0</td>\n",
              "      <td>0.0</td>\n",
              "      <td>0.0</td>\n",
              "      <td>2016</td>\n",
              "      <td>ARI</td>\n",
              "      <td>NL</td>\n",
              "      <td>5500000</td>\n",
              "    </tr>\n",
              "  </tbody>\n",
              "</table>\n",
              "</div>"
            ],
            "text/plain": [
              "           yearID_x  stint teamID_x lgID_x  ...  yearID_y  teamID_y  lgID_y    salary\n",
              "playerID                                    ...                                      \n",
              "zychto01       2016      1      SEA     AL  ...      2016       SEA      AL    511000\n",
              "zobribe01      2016      1      CHN     NL  ...      2016       CHN      NL  10500000\n",
              "zimmery01      2016      1      WAS     NL  ...      2016       WAS      NL  14000000\n",
              "zimmejo02      2016      1      DET     AL  ...      2016       DET      AL  18000000\n",
              "zieglbr01      2016      2      BOS     AL  ...      2016       ARI      NL   5500000\n",
              "\n",
              "[5 rows x 25 columns]"
            ]
          },
          "metadata": {
            "tags": []
          },
          "execution_count": 85
        }
      ]
    },
    {
      "cell_type": "code",
      "metadata": {
        "id": "HA7ZyQ-varou",
        "colab_type": "code",
        "colab": {}
      },
      "source": [
        "df_bat_sal.reset_index(inplace=True)"
      ],
      "execution_count": 0,
      "outputs": []
    },
    {
      "cell_type": "markdown",
      "metadata": {
        "id": "RQR1Y1PHYVBu",
        "colab_type": "text"
      },
      "source": [
        "Karl peason : 거리로 따짐\n",
        "\n",
        "spearman : coor 순위 (이상치가 있으면 안좋다)\n"
      ]
    },
    {
      "cell_type": "code",
      "metadata": {
        "id": "m2sfOogM_71z",
        "colab_type": "code",
        "colab": {
          "base_uri": "https://localhost:8080/",
          "height": 36
        },
        "outputId": "ef6e5b1e-77b4-4caf-d73e-f1fd8f626065"
      },
      "source": [
        "# 중복제거 : stint = 2이상 (시즌중 팀을 옮긴 선수)\n",
        "\n",
        "df_bat_sal.sort_values(['playerID','stint'], ascending=False, inplace=True)\n",
        "df_bat_sal['move'] = df_bat_sal['playerID'].duplicated()\n",
        "df0 = df_bat_sal[df_bat_sal['move']==False&(df_bat_sal.stint==1)]\n",
        "df0.shape\n",
        "\n"
      ],
      "execution_count": 87,
      "outputs": [
        {
          "output_type": "execute_result",
          "data": {
            "text/plain": [
              "(812, 27)"
            ]
          },
          "metadata": {
            "tags": []
          },
          "execution_count": 87
        }
      ]
    },
    {
      "cell_type": "code",
      "metadata": {
        "id": "LWxaLnKd_74p",
        "colab_type": "code",
        "colab": {
          "base_uri": "https://localhost:8080/",
          "height": 222
        },
        "outputId": "9c85d0ba-fc74-41a4-b7bd-4027039484f0"
      },
      "source": [
        "df0.head()"
      ],
      "execution_count": 88,
      "outputs": [
        {
          "output_type": "execute_result",
          "data": {
            "text/html": [
              "<div>\n",
              "<style scoped>\n",
              "    .dataframe tbody tr th:only-of-type {\n",
              "        vertical-align: middle;\n",
              "    }\n",
              "\n",
              "    .dataframe tbody tr th {\n",
              "        vertical-align: top;\n",
              "    }\n",
              "\n",
              "    .dataframe thead th {\n",
              "        text-align: right;\n",
              "    }\n",
              "</style>\n",
              "<table border=\"1\" class=\"dataframe\">\n",
              "  <thead>\n",
              "    <tr style=\"text-align: right;\">\n",
              "      <th></th>\n",
              "      <th>playerID</th>\n",
              "      <th>yearID_x</th>\n",
              "      <th>stint</th>\n",
              "      <th>teamID_x</th>\n",
              "      <th>lgID_x</th>\n",
              "      <th>G</th>\n",
              "      <th>AB</th>\n",
              "      <th>R</th>\n",
              "      <th>H</th>\n",
              "      <th>2B</th>\n",
              "      <th>3B</th>\n",
              "      <th>HR</th>\n",
              "      <th>RBI</th>\n",
              "      <th>SB</th>\n",
              "      <th>CS</th>\n",
              "      <th>BB</th>\n",
              "      <th>SO</th>\n",
              "      <th>IBB</th>\n",
              "      <th>HBP</th>\n",
              "      <th>SH</th>\n",
              "      <th>SF</th>\n",
              "      <th>GIDP</th>\n",
              "      <th>yearID_y</th>\n",
              "      <th>teamID_y</th>\n",
              "      <th>lgID_y</th>\n",
              "      <th>salary</th>\n",
              "      <th>move</th>\n",
              "    </tr>\n",
              "  </thead>\n",
              "  <tbody>\n",
              "    <tr>\n",
              "      <th>0</th>\n",
              "      <td>zychto01</td>\n",
              "      <td>2016</td>\n",
              "      <td>1</td>\n",
              "      <td>SEA</td>\n",
              "      <td>AL</td>\n",
              "      <td>12</td>\n",
              "      <td>0</td>\n",
              "      <td>0</td>\n",
              "      <td>0</td>\n",
              "      <td>0</td>\n",
              "      <td>0</td>\n",
              "      <td>0</td>\n",
              "      <td>0.0</td>\n",
              "      <td>0.0</td>\n",
              "      <td>0.0</td>\n",
              "      <td>0</td>\n",
              "      <td>0.0</td>\n",
              "      <td>0.0</td>\n",
              "      <td>0.0</td>\n",
              "      <td>0.0</td>\n",
              "      <td>0.0</td>\n",
              "      <td>0.0</td>\n",
              "      <td>2016</td>\n",
              "      <td>SEA</td>\n",
              "      <td>AL</td>\n",
              "      <td>511000</td>\n",
              "      <td>False</td>\n",
              "    </tr>\n",
              "    <tr>\n",
              "      <th>1</th>\n",
              "      <td>zobribe01</td>\n",
              "      <td>2016</td>\n",
              "      <td>1</td>\n",
              "      <td>CHN</td>\n",
              "      <td>NL</td>\n",
              "      <td>147</td>\n",
              "      <td>523</td>\n",
              "      <td>94</td>\n",
              "      <td>142</td>\n",
              "      <td>31</td>\n",
              "      <td>3</td>\n",
              "      <td>18</td>\n",
              "      <td>76.0</td>\n",
              "      <td>6.0</td>\n",
              "      <td>4.0</td>\n",
              "      <td>96</td>\n",
              "      <td>82.0</td>\n",
              "      <td>6.0</td>\n",
              "      <td>4.0</td>\n",
              "      <td>4.0</td>\n",
              "      <td>4.0</td>\n",
              "      <td>17.0</td>\n",
              "      <td>2016</td>\n",
              "      <td>CHN</td>\n",
              "      <td>NL</td>\n",
              "      <td>10500000</td>\n",
              "      <td>False</td>\n",
              "    </tr>\n",
              "    <tr>\n",
              "      <th>2</th>\n",
              "      <td>zimmery01</td>\n",
              "      <td>2016</td>\n",
              "      <td>1</td>\n",
              "      <td>WAS</td>\n",
              "      <td>NL</td>\n",
              "      <td>115</td>\n",
              "      <td>427</td>\n",
              "      <td>60</td>\n",
              "      <td>93</td>\n",
              "      <td>18</td>\n",
              "      <td>1</td>\n",
              "      <td>15</td>\n",
              "      <td>46.0</td>\n",
              "      <td>4.0</td>\n",
              "      <td>1.0</td>\n",
              "      <td>29</td>\n",
              "      <td>104.0</td>\n",
              "      <td>1.0</td>\n",
              "      <td>5.0</td>\n",
              "      <td>0.0</td>\n",
              "      <td>6.0</td>\n",
              "      <td>12.0</td>\n",
              "      <td>2016</td>\n",
              "      <td>WAS</td>\n",
              "      <td>NL</td>\n",
              "      <td>14000000</td>\n",
              "      <td>False</td>\n",
              "    </tr>\n",
              "    <tr>\n",
              "      <th>3</th>\n",
              "      <td>zimmejo02</td>\n",
              "      <td>2016</td>\n",
              "      <td>1</td>\n",
              "      <td>DET</td>\n",
              "      <td>AL</td>\n",
              "      <td>19</td>\n",
              "      <td>4</td>\n",
              "      <td>0</td>\n",
              "      <td>1</td>\n",
              "      <td>0</td>\n",
              "      <td>0</td>\n",
              "      <td>0</td>\n",
              "      <td>0.0</td>\n",
              "      <td>0.0</td>\n",
              "      <td>0.0</td>\n",
              "      <td>0</td>\n",
              "      <td>2.0</td>\n",
              "      <td>0.0</td>\n",
              "      <td>0.0</td>\n",
              "      <td>1.0</td>\n",
              "      <td>0.0</td>\n",
              "      <td>0.0</td>\n",
              "      <td>2016</td>\n",
              "      <td>DET</td>\n",
              "      <td>AL</td>\n",
              "      <td>18000000</td>\n",
              "      <td>False</td>\n",
              "    </tr>\n",
              "    <tr>\n",
              "      <th>4</th>\n",
              "      <td>zieglbr01</td>\n",
              "      <td>2016</td>\n",
              "      <td>2</td>\n",
              "      <td>BOS</td>\n",
              "      <td>AL</td>\n",
              "      <td>33</td>\n",
              "      <td>0</td>\n",
              "      <td>0</td>\n",
              "      <td>0</td>\n",
              "      <td>0</td>\n",
              "      <td>0</td>\n",
              "      <td>0</td>\n",
              "      <td>0.0</td>\n",
              "      <td>0.0</td>\n",
              "      <td>0.0</td>\n",
              "      <td>0</td>\n",
              "      <td>0.0</td>\n",
              "      <td>0.0</td>\n",
              "      <td>0.0</td>\n",
              "      <td>0.0</td>\n",
              "      <td>0.0</td>\n",
              "      <td>0.0</td>\n",
              "      <td>2016</td>\n",
              "      <td>ARI</td>\n",
              "      <td>NL</td>\n",
              "      <td>5500000</td>\n",
              "      <td>False</td>\n",
              "    </tr>\n",
              "  </tbody>\n",
              "</table>\n",
              "</div>"
            ],
            "text/plain": [
              "    playerID  yearID_x  stint teamID_x  ... teamID_y  lgID_y    salary   move\n",
              "0   zychto01      2016      1      SEA  ...      SEA      AL    511000  False\n",
              "1  zobribe01      2016      1      CHN  ...      CHN      NL  10500000  False\n",
              "2  zimmery01      2016      1      WAS  ...      WAS      NL  14000000  False\n",
              "3  zimmejo02      2016      1      DET  ...      DET      AL  18000000  False\n",
              "4  zieglbr01      2016      2      BOS  ...      ARI      NL   5500000  False\n",
              "\n",
              "[5 rows x 27 columns]"
            ]
          },
          "metadata": {
            "tags": []
          },
          "execution_count": 88
        }
      ]
    },
    {
      "cell_type": "code",
      "metadata": {
        "id": "4Xy3i9h0d6Yj",
        "colab_type": "code",
        "colab": {
          "base_uri": "https://localhost:8080/",
          "height": 92
        },
        "outputId": "0ccd1c67-ce67-4e33-ea16-6b631f93bb20"
      },
      "source": [
        "df0.columns"
      ],
      "execution_count": 95,
      "outputs": [
        {
          "output_type": "execute_result",
          "data": {
            "text/plain": [
              "Index(['playerID', 'teamID_x', 'lgID_x', 'G', 'AB', 'R', 'H', '2B', '3B', 'HR',\n",
              "       'RBI', 'SB', 'CS', 'BB', 'SO', 'IBB', 'HBP', 'SH', 'SF', 'GIDP',\n",
              "       'salary'],\n",
              "      dtype='object')"
            ]
          },
          "metadata": {
            "tags": []
          },
          "execution_count": 95
        }
      ]
    },
    {
      "cell_type": "code",
      "metadata": {
        "id": "oMtm5yeq_770",
        "colab_type": "code",
        "colab": {}
      },
      "source": [
        "# df0.drop(columns=['yearID_x','yearID_y','teamID_y','lgID_x','stint','move'], axis=1, inplace=True)\n",
        "# KeyError: \"['stint' 'move'] not found in axis\"\n",
        "df0.set_index('playerID', inplace=True)"
      ],
      "execution_count": 0,
      "outputs": []
    },
    {
      "cell_type": "code",
      "metadata": {
        "id": "Bui8R0qA_7_K",
        "colab_type": "code",
        "colab": {
          "base_uri": "https://localhost:8080/",
          "height": 432
        },
        "outputId": "e01e0a5c-2359-4e38-c987-05a67b00d396"
      },
      "source": [
        "df_cor = df0.corr()\n",
        "df_cor.style.background_gradient(cmap='coolwarm').set_precision(3)"
      ],
      "execution_count": 98,
      "outputs": [
        {
          "output_type": "execute_result",
          "data": {
            "text/html": [
              "<style  type=\"text/css\" >\n",
              "    #T_827502fa_57a9_11ea_b230_0242ac1c0002row0_col0 {\n",
              "            background-color:  #b40426;\n",
              "            color:  #f1f1f1;\n",
              "        }    #T_827502fa_57a9_11ea_b230_0242ac1c0002row0_col1 {\n",
              "            background-color:  #d24b40;\n",
              "            color:  #f1f1f1;\n",
              "        }    #T_827502fa_57a9_11ea_b230_0242ac1c0002row0_col2 {\n",
              "            background-color:  #d85646;\n",
              "            color:  #000000;\n",
              "        }    #T_827502fa_57a9_11ea_b230_0242ac1c0002row0_col3 {\n",
              "            background-color:  #d65244;\n",
              "            color:  #000000;\n",
              "        }    #T_827502fa_57a9_11ea_b230_0242ac1c0002row0_col4 {\n",
              "            background-color:  #de614d;\n",
              "            color:  #000000;\n",
              "        }    #T_827502fa_57a9_11ea_b230_0242ac1c0002row0_col5 {\n",
              "            background-color:  #f2cbb7;\n",
              "            color:  #000000;\n",
              "        }    #T_827502fa_57a9_11ea_b230_0242ac1c0002row0_col6 {\n",
              "            background-color:  #ea7b60;\n",
              "            color:  #000000;\n",
              "        }    #T_827502fa_57a9_11ea_b230_0242ac1c0002row0_col7 {\n",
              "            background-color:  #dd5f4b;\n",
              "            color:  #000000;\n",
              "        }    #T_827502fa_57a9_11ea_b230_0242ac1c0002row0_col8 {\n",
              "            background-color:  #dddcdc;\n",
              "            color:  #000000;\n",
              "        }    #T_827502fa_57a9_11ea_b230_0242ac1c0002row0_col9 {\n",
              "            background-color:  #efcfbf;\n",
              "            color:  #000000;\n",
              "        }    #T_827502fa_57a9_11ea_b230_0242ac1c0002row0_col10 {\n",
              "            background-color:  #e57058;\n",
              "            color:  #000000;\n",
              "        }    #T_827502fa_57a9_11ea_b230_0242ac1c0002row0_col11 {\n",
              "            background-color:  #e36b54;\n",
              "            color:  #000000;\n",
              "        }    #T_827502fa_57a9_11ea_b230_0242ac1c0002row0_col12 {\n",
              "            background-color:  #eed0c0;\n",
              "            color:  #000000;\n",
              "        }    #T_827502fa_57a9_11ea_b230_0242ac1c0002row0_col13 {\n",
              "            background-color:  #f7b79b;\n",
              "            color:  #000000;\n",
              "        }    #T_827502fa_57a9_11ea_b230_0242ac1c0002row0_col14 {\n",
              "            background-color:  #6788ee;\n",
              "            color:  #000000;\n",
              "        }    #T_827502fa_57a9_11ea_b230_0242ac1c0002row0_col15 {\n",
              "            background-color:  #f6a385;\n",
              "            color:  #000000;\n",
              "        }    #T_827502fa_57a9_11ea_b230_0242ac1c0002row0_col16 {\n",
              "            background-color:  #ec8165;\n",
              "            color:  #000000;\n",
              "        }    #T_827502fa_57a9_11ea_b230_0242ac1c0002row0_col17 {\n",
              "            background-color:  #6a8bef;\n",
              "            color:  #000000;\n",
              "        }    #T_827502fa_57a9_11ea_b230_0242ac1c0002row1_col0 {\n",
              "            background-color:  #d1493f;\n",
              "            color:  #f1f1f1;\n",
              "        }    #T_827502fa_57a9_11ea_b230_0242ac1c0002row1_col1 {\n",
              "            background-color:  #b40426;\n",
              "            color:  #f1f1f1;\n",
              "        }    #T_827502fa_57a9_11ea_b230_0242ac1c0002row1_col2 {\n",
              "            background-color:  #be242e;\n",
              "            color:  #f1f1f1;\n",
              "        }    #T_827502fa_57a9_11ea_b230_0242ac1c0002row1_col3 {\n",
              "            background-color:  #b70d28;\n",
              "            color:  #f1f1f1;\n",
              "        }    #T_827502fa_57a9_11ea_b230_0242ac1c0002row1_col4 {\n",
              "            background-color:  #c43032;\n",
              "            color:  #f1f1f1;\n",
              "        }    #T_827502fa_57a9_11ea_b230_0242ac1c0002row1_col5 {\n",
              "            background-color:  #f6bea4;\n",
              "            color:  #000000;\n",
              "        }    #T_827502fa_57a9_11ea_b230_0242ac1c0002row1_col6 {\n",
              "            background-color:  #dd5f4b;\n",
              "            color:  #000000;\n",
              "        }    #T_827502fa_57a9_11ea_b230_0242ac1c0002row1_col7 {\n",
              "            background-color:  #c53334;\n",
              "            color:  #f1f1f1;\n",
              "        }    #T_827502fa_57a9_11ea_b230_0242ac1c0002row1_col8 {\n",
              "            background-color:  #e8d6cc;\n",
              "            color:  #000000;\n",
              "        }    #T_827502fa_57a9_11ea_b230_0242ac1c0002row1_col9 {\n",
              "            background-color:  #f5c4ac;\n",
              "            color:  #000000;\n",
              "        }    #T_827502fa_57a9_11ea_b230_0242ac1c0002row1_col10 {\n",
              "            background-color:  #d85646;\n",
              "            color:  #000000;\n",
              "        }    #T_827502fa_57a9_11ea_b230_0242ac1c0002row1_col11 {\n",
              "            background-color:  #d0473d;\n",
              "            color:  #f1f1f1;\n",
              "        }    #T_827502fa_57a9_11ea_b230_0242ac1c0002row1_col12 {\n",
              "            background-color:  #f3c8b2;\n",
              "            color:  #000000;\n",
              "        }    #T_827502fa_57a9_11ea_b230_0242ac1c0002row1_col13 {\n",
              "            background-color:  #f7a98b;\n",
              "            color:  #000000;\n",
              "        }    #T_827502fa_57a9_11ea_b230_0242ac1c0002row1_col14 {\n",
              "            background-color:  #7396f5;\n",
              "            color:  #000000;\n",
              "        }    #T_827502fa_57a9_11ea_b230_0242ac1c0002row1_col15 {\n",
              "            background-color:  #f08a6c;\n",
              "            color:  #000000;\n",
              "        }    #T_827502fa_57a9_11ea_b230_0242ac1c0002row1_col16 {\n",
              "            background-color:  #dd5f4b;\n",
              "            color:  #000000;\n",
              "        }    #T_827502fa_57a9_11ea_b230_0242ac1c0002row1_col17 {\n",
              "            background-color:  #81a4fb;\n",
              "            color:  #000000;\n",
              "        }    #T_827502fa_57a9_11ea_b230_0242ac1c0002row2_col0 {\n",
              "            background-color:  #d85646;\n",
              "            color:  #000000;\n",
              "        }    #T_827502fa_57a9_11ea_b230_0242ac1c0002row2_col1 {\n",
              "            background-color:  #be242e;\n",
              "            color:  #f1f1f1;\n",
              "        }    #T_827502fa_57a9_11ea_b230_0242ac1c0002row2_col2 {\n",
              "            background-color:  #b40426;\n",
              "            color:  #f1f1f1;\n",
              "        }    #T_827502fa_57a9_11ea_b230_0242ac1c0002row2_col3 {\n",
              "            background-color:  #bd1f2d;\n",
              "            color:  #f1f1f1;\n",
              "        }    #T_827502fa_57a9_11ea_b230_0242ac1c0002row2_col4 {\n",
              "            background-color:  #c83836;\n",
              "            color:  #f1f1f1;\n",
              "        }    #T_827502fa_57a9_11ea_b230_0242ac1c0002row2_col5 {\n",
              "            background-color:  #f7b89c;\n",
              "            color:  #000000;\n",
              "        }    #T_827502fa_57a9_11ea_b230_0242ac1c0002row2_col6 {\n",
              "            background-color:  #d75445;\n",
              "            color:  #000000;\n",
              "        }    #T_827502fa_57a9_11ea_b230_0242ac1c0002row2_col7 {\n",
              "            background-color:  #c73635;\n",
              "            color:  #f1f1f1;\n",
              "        }    #T_827502fa_57a9_11ea_b230_0242ac1c0002row2_col8 {\n",
              "            background-color:  #efcebd;\n",
              "            color:  #000000;\n",
              "        }    #T_827502fa_57a9_11ea_b230_0242ac1c0002row2_col9 {\n",
              "            background-color:  #f7ba9f;\n",
              "            color:  #000000;\n",
              "        }    #T_827502fa_57a9_11ea_b230_0242ac1c0002row2_col10 {\n",
              "            background-color:  #d1493f;\n",
              "            color:  #f1f1f1;\n",
              "        }    #T_827502fa_57a9_11ea_b230_0242ac1c0002row2_col11 {\n",
              "            background-color:  #d65244;\n",
              "            color:  #000000;\n",
              "        }    #T_827502fa_57a9_11ea_b230_0242ac1c0002row2_col12 {\n",
              "            background-color:  #f5c4ac;\n",
              "            color:  #000000;\n",
              "        }    #T_827502fa_57a9_11ea_b230_0242ac1c0002row2_col13 {\n",
              "            background-color:  #f7a688;\n",
              "            color:  #000000;\n",
              "        }    #T_827502fa_57a9_11ea_b230_0242ac1c0002row2_col14 {\n",
              "            background-color:  #688aef;\n",
              "            color:  #000000;\n",
              "        }    #T_827502fa_57a9_11ea_b230_0242ac1c0002row2_col15 {\n",
              "            background-color:  #f18f71;\n",
              "            color:  #000000;\n",
              "        }    #T_827502fa_57a9_11ea_b230_0242ac1c0002row2_col16 {\n",
              "            background-color:  #e9785d;\n",
              "            color:  #000000;\n",
              "        }    #T_827502fa_57a9_11ea_b230_0242ac1c0002row2_col17 {\n",
              "            background-color:  #81a4fb;\n",
              "            color:  #000000;\n",
              "        }    #T_827502fa_57a9_11ea_b230_0242ac1c0002row3_col0 {\n",
              "            background-color:  #d55042;\n",
              "            color:  #000000;\n",
              "        }    #T_827502fa_57a9_11ea_b230_0242ac1c0002row3_col1 {\n",
              "            background-color:  #b70d28;\n",
              "            color:  #f1f1f1;\n",
              "        }    #T_827502fa_57a9_11ea_b230_0242ac1c0002row3_col2 {\n",
              "            background-color:  #bd1f2d;\n",
              "            color:  #f1f1f1;\n",
              "        }    #T_827502fa_57a9_11ea_b230_0242ac1c0002row3_col3 {\n",
              "            background-color:  #b40426;\n",
              "            color:  #f1f1f1;\n",
              "        }    #T_827502fa_57a9_11ea_b230_0242ac1c0002row3_col4 {\n",
              "            background-color:  #c0282f;\n",
              "            color:  #f1f1f1;\n",
              "        }    #T_827502fa_57a9_11ea_b230_0242ac1c0002row3_col5 {\n",
              "            background-color:  #f7ba9f;\n",
              "            color:  #000000;\n",
              "        }    #T_827502fa_57a9_11ea_b230_0242ac1c0002row3_col6 {\n",
              "            background-color:  #e0654f;\n",
              "            color:  #000000;\n",
              "        }    #T_827502fa_57a9_11ea_b230_0242ac1c0002row3_col7 {\n",
              "            background-color:  #c53334;\n",
              "            color:  #f1f1f1;\n",
              "        }    #T_827502fa_57a9_11ea_b230_0242ac1c0002row3_col8 {\n",
              "            background-color:  #ebd3c6;\n",
              "            color:  #000000;\n",
              "        }    #T_827502fa_57a9_11ea_b230_0242ac1c0002row3_col9 {\n",
              "            background-color:  #f6bfa6;\n",
              "            color:  #000000;\n",
              "        }    #T_827502fa_57a9_11ea_b230_0242ac1c0002row3_col10 {\n",
              "            background-color:  #dc5d4a;\n",
              "            color:  #000000;\n",
              "        }    #T_827502fa_57a9_11ea_b230_0242ac1c0002row3_col11 {\n",
              "            background-color:  #dc5d4a;\n",
              "            color:  #000000;\n",
              "        }    #T_827502fa_57a9_11ea_b230_0242ac1c0002row3_col12 {\n",
              "            background-color:  #f5c2aa;\n",
              "            color:  #000000;\n",
              "        }    #T_827502fa_57a9_11ea_b230_0242ac1c0002row3_col13 {\n",
              "            background-color:  #f7aa8c;\n",
              "            color:  #000000;\n",
              "        }    #T_827502fa_57a9_11ea_b230_0242ac1c0002row3_col14 {\n",
              "            background-color:  #6e90f2;\n",
              "            color:  #000000;\n",
              "        }    #T_827502fa_57a9_11ea_b230_0242ac1c0002row3_col15 {\n",
              "            background-color:  #f08a6c;\n",
              "            color:  #000000;\n",
              "        }    #T_827502fa_57a9_11ea_b230_0242ac1c0002row3_col16 {\n",
              "            background-color:  #de614d;\n",
              "            color:  #000000;\n",
              "        }    #T_827502fa_57a9_11ea_b230_0242ac1c0002row3_col17 {\n",
              "            background-color:  #82a6fb;\n",
              "            color:  #000000;\n",
              "        }    #T_827502fa_57a9_11ea_b230_0242ac1c0002row4_col0 {\n",
              "            background-color:  #de614d;\n",
              "            color:  #000000;\n",
              "        }    #T_827502fa_57a9_11ea_b230_0242ac1c0002row4_col1 {\n",
              "            background-color:  #c53334;\n",
              "            color:  #f1f1f1;\n",
              "        }    #T_827502fa_57a9_11ea_b230_0242ac1c0002row4_col2 {\n",
              "            background-color:  #ca3b37;\n",
              "            color:  #f1f1f1;\n",
              "        }    #T_827502fa_57a9_11ea_b230_0242ac1c0002row4_col3 {\n",
              "            background-color:  #c0282f;\n",
              "            color:  #f1f1f1;\n",
              "        }    #T_827502fa_57a9_11ea_b230_0242ac1c0002row4_col4 {\n",
              "            background-color:  #b40426;\n",
              "            color:  #f1f1f1;\n",
              "        }    #T_827502fa_57a9_11ea_b230_0242ac1c0002row4_col5 {\n",
              "            background-color:  #f5c4ac;\n",
              "            color:  #000000;\n",
              "        }    #T_827502fa_57a9_11ea_b230_0242ac1c0002row4_col6 {\n",
              "            background-color:  #e46e56;\n",
              "            color:  #000000;\n",
              "        }    #T_827502fa_57a9_11ea_b230_0242ac1c0002row4_col7 {\n",
              "            background-color:  #cc403a;\n",
              "            color:  #f1f1f1;\n",
              "        }    #T_827502fa_57a9_11ea_b230_0242ac1c0002row4_col8 {\n",
              "            background-color:  #e1dad6;\n",
              "            color:  #000000;\n",
              "        }    #T_827502fa_57a9_11ea_b230_0242ac1c0002row4_col9 {\n",
              "            background-color:  #f2c9b4;\n",
              "            color:  #000000;\n",
              "        }    #T_827502fa_57a9_11ea_b230_0242ac1c0002row4_col10 {\n",
              "            background-color:  #e36b54;\n",
              "            color:  #000000;\n",
              "        }    #T_827502fa_57a9_11ea_b230_0242ac1c0002row4_col11 {\n",
              "            background-color:  #e36b54;\n",
              "            color:  #000000;\n",
              "        }    #T_827502fa_57a9_11ea_b230_0242ac1c0002row4_col12 {\n",
              "            background-color:  #f3c7b1;\n",
              "            color:  #000000;\n",
              "        }    #T_827502fa_57a9_11ea_b230_0242ac1c0002row4_col13 {\n",
              "            background-color:  #f7b396;\n",
              "            color:  #000000;\n",
              "        }    #T_827502fa_57a9_11ea_b230_0242ac1c0002row4_col14 {\n",
              "            background-color:  #6485ec;\n",
              "            color:  #000000;\n",
              "        }    #T_827502fa_57a9_11ea_b230_0242ac1c0002row4_col15 {\n",
              "            background-color:  #f39475;\n",
              "            color:  #000000;\n",
              "        }    #T_827502fa_57a9_11ea_b230_0242ac1c0002row4_col16 {\n",
              "            background-color:  #e67259;\n",
              "            color:  #000000;\n",
              "        }    #T_827502fa_57a9_11ea_b230_0242ac1c0002row4_col17 {\n",
              "            background-color:  #799cf8;\n",
              "            color:  #000000;\n",
              "        }    #T_827502fa_57a9_11ea_b230_0242ac1c0002row5_col0 {\n",
              "            background-color:  #ecd3c5;\n",
              "            color:  #000000;\n",
              "        }    #T_827502fa_57a9_11ea_b230_0242ac1c0002row5_col1 {\n",
              "            background-color:  #f1ccb8;\n",
              "            color:  #000000;\n",
              "        }    #T_827502fa_57a9_11ea_b230_0242ac1c0002row5_col2 {\n",
              "            background-color:  #f5c1a9;\n",
              "            color:  #000000;\n",
              "        }    #T_827502fa_57a9_11ea_b230_0242ac1c0002row5_col3 {\n",
              "            background-color:  #f4c5ad;\n",
              "            color:  #000000;\n",
              "        }    #T_827502fa_57a9_11ea_b230_0242ac1c0002row5_col4 {\n",
              "            background-color:  #f2cbb7;\n",
              "            color:  #000000;\n",
              "        }    #T_827502fa_57a9_11ea_b230_0242ac1c0002row5_col5 {\n",
              "            background-color:  #b40426;\n",
              "            color:  #f1f1f1;\n",
              "        }    #T_827502fa_57a9_11ea_b230_0242ac1c0002row5_col6 {\n",
              "            background-color:  #d9dce1;\n",
              "            color:  #000000;\n",
              "        }    #T_827502fa_57a9_11ea_b230_0242ac1c0002row5_col7 {\n",
              "            background-color:  #ead4c8;\n",
              "            color:  #000000;\n",
              "        }    #T_827502fa_57a9_11ea_b230_0242ac1c0002row5_col8 {\n",
              "            background-color:  #edd2c3;\n",
              "            color:  #000000;\n",
              "        }    #T_827502fa_57a9_11ea_b230_0242ac1c0002row5_col9 {\n",
              "            background-color:  #f3c8b2;\n",
              "            color:  #000000;\n",
              "        }    #T_827502fa_57a9_11ea_b230_0242ac1c0002row5_col10 {\n",
              "            background-color:  #eed0c0;\n",
              "            color:  #000000;\n",
              "        }    #T_827502fa_57a9_11ea_b230_0242ac1c0002row5_col11 {\n",
              "            background-color:  #e1dad6;\n",
              "            color:  #000000;\n",
              "        }    #T_827502fa_57a9_11ea_b230_0242ac1c0002row5_col12 {\n",
              "            background-color:  #c5d6f2;\n",
              "            color:  #000000;\n",
              "        }    #T_827502fa_57a9_11ea_b230_0242ac1c0002row5_col13 {\n",
              "            background-color:  #d4dbe6;\n",
              "            color:  #000000;\n",
              "        }    #T_827502fa_57a9_11ea_b230_0242ac1c0002row5_col14 {\n",
              "            background-color:  #94b6ff;\n",
              "            color:  #000000;\n",
              "        }    #T_827502fa_57a9_11ea_b230_0242ac1c0002row5_col15 {\n",
              "            background-color:  #d7dce3;\n",
              "            color:  #000000;\n",
              "        }    #T_827502fa_57a9_11ea_b230_0242ac1c0002row5_col16 {\n",
              "            background-color:  #c5d6f2;\n",
              "            color:  #000000;\n",
              "        }    #T_827502fa_57a9_11ea_b230_0242ac1c0002row5_col17 {\n",
              "            background-color:  #3f53c6;\n",
              "            color:  #f1f1f1;\n",
              "        }    #T_827502fa_57a9_11ea_b230_0242ac1c0002row6_col0 {\n",
              "            background-color:  #f08a6c;\n",
              "            color:  #000000;\n",
              "        }    #T_827502fa_57a9_11ea_b230_0242ac1c0002row6_col1 {\n",
              "            background-color:  #e36c55;\n",
              "            color:  #000000;\n",
              "        }    #T_827502fa_57a9_11ea_b230_0242ac1c0002row6_col2 {\n",
              "            background-color:  #dc5d4a;\n",
              "            color:  #000000;\n",
              "        }    #T_827502fa_57a9_11ea_b230_0242ac1c0002row6_col3 {\n",
              "            background-color:  #e67259;\n",
              "            color:  #000000;\n",
              "        }    #T_827502fa_57a9_11ea_b230_0242ac1c0002row6_col4 {\n",
              "            background-color:  #e97a5f;\n",
              "            color:  #000000;\n",
              "        }    #T_827502fa_57a9_11ea_b230_0242ac1c0002row6_col5 {\n",
              "            background-color:  #cedaeb;\n",
              "            color:  #000000;\n",
              "        }    #T_827502fa_57a9_11ea_b230_0242ac1c0002row6_col6 {\n",
              "            background-color:  #b40426;\n",
              "            color:  #f1f1f1;\n",
              "        }    #T_827502fa_57a9_11ea_b230_0242ac1c0002row6_col7 {\n",
              "            background-color:  #c83836;\n",
              "            color:  #f1f1f1;\n",
              "        }    #T_827502fa_57a9_11ea_b230_0242ac1c0002row6_col8 {\n",
              "            background-color:  #aec9fc;\n",
              "            color:  #000000;\n",
              "        }    #T_827502fa_57a9_11ea_b230_0242ac1c0002row6_col9 {\n",
              "            background-color:  #c9d7f0;\n",
              "            color:  #000000;\n",
              "        }    #T_827502fa_57a9_11ea_b230_0242ac1c0002row6_col10 {\n",
              "            background-color:  #e67259;\n",
              "            color:  #000000;\n",
              "        }    #T_827502fa_57a9_11ea_b230_0242ac1c0002row6_col11 {\n",
              "            background-color:  #df634e;\n",
              "            color:  #000000;\n",
              "        }    #T_827502fa_57a9_11ea_b230_0242ac1c0002row6_col12 {\n",
              "            background-color:  #f5c2aa;\n",
              "            color:  #000000;\n",
              "        }    #T_827502fa_57a9_11ea_b230_0242ac1c0002row6_col13 {\n",
              "            background-color:  #f5c1a9;\n",
              "            color:  #000000;\n",
              "        }    #T_827502fa_57a9_11ea_b230_0242ac1c0002row6_col14 {\n",
              "            background-color:  #3b4cc0;\n",
              "            color:  #f1f1f1;\n",
              "        }    #T_827502fa_57a9_11ea_b230_0242ac1c0002row6_col15 {\n",
              "            background-color:  #f7aa8c;\n",
              "            color:  #000000;\n",
              "        }    #T_827502fa_57a9_11ea_b230_0242ac1c0002row6_col16 {\n",
              "            background-color:  #f39778;\n",
              "            color:  #000000;\n",
              "        }    #T_827502fa_57a9_11ea_b230_0242ac1c0002row6_col17 {\n",
              "            background-color:  #8caffe;\n",
              "            color:  #000000;\n",
              "        }    #T_827502fa_57a9_11ea_b230_0242ac1c0002row7_col0 {\n",
              "            background-color:  #df634e;\n",
              "            color:  #000000;\n",
              "        }    #T_827502fa_57a9_11ea_b230_0242ac1c0002row7_col1 {\n",
              "            background-color:  #c83836;\n",
              "            color:  #f1f1f1;\n",
              "        }    #T_827502fa_57a9_11ea_b230_0242ac1c0002row7_col2 {\n",
              "            background-color:  #c83836;\n",
              "            color:  #f1f1f1;\n",
              "        }    #T_827502fa_57a9_11ea_b230_0242ac1c0002row7_col3 {\n",
              "            background-color:  #c83836;\n",
              "            color:  #f1f1f1;\n",
              "        }    #T_827502fa_57a9_11ea_b230_0242ac1c0002row7_col4 {\n",
              "            background-color:  #cd423b;\n",
              "            color:  #f1f1f1;\n",
              "        }    #T_827502fa_57a9_11ea_b230_0242ac1c0002row7_col5 {\n",
              "            background-color:  #ead4c8;\n",
              "            color:  #000000;\n",
              "        }    #T_827502fa_57a9_11ea_b230_0242ac1c0002row7_col6 {\n",
              "            background-color:  #c73635;\n",
              "            color:  #f1f1f1;\n",
              "        }    #T_827502fa_57a9_11ea_b230_0242ac1c0002row7_col7 {\n",
              "            background-color:  #b40426;\n",
              "            color:  #f1f1f1;\n",
              "        }    #T_827502fa_57a9_11ea_b230_0242ac1c0002row7_col8 {\n",
              "            background-color:  #cbd8ee;\n",
              "            color:  #000000;\n",
              "        }    #T_827502fa_57a9_11ea_b230_0242ac1c0002row7_col9 {\n",
              "            background-color:  #e0dbd8;\n",
              "            color:  #000000;\n",
              "        }    #T_827502fa_57a9_11ea_b230_0242ac1c0002row7_col10 {\n",
              "            background-color:  #d95847;\n",
              "            color:  #000000;\n",
              "        }    #T_827502fa_57a9_11ea_b230_0242ac1c0002row7_col11 {\n",
              "            background-color:  #d95847;\n",
              "            color:  #000000;\n",
              "        }    #T_827502fa_57a9_11ea_b230_0242ac1c0002row7_col12 {\n",
              "            background-color:  #f7b599;\n",
              "            color:  #000000;\n",
              "        }    #T_827502fa_57a9_11ea_b230_0242ac1c0002row7_col13 {\n",
              "            background-color:  #f7b396;\n",
              "            color:  #000000;\n",
              "        }    #T_827502fa_57a9_11ea_b230_0242ac1c0002row7_col14 {\n",
              "            background-color:  #506bda;\n",
              "            color:  #000000;\n",
              "        }    #T_827502fa_57a9_11ea_b230_0242ac1c0002row7_col15 {\n",
              "            background-color:  #ec8165;\n",
              "            color:  #000000;\n",
              "        }    #T_827502fa_57a9_11ea_b230_0242ac1c0002row7_col16 {\n",
              "            background-color:  #e16751;\n",
              "            color:  #000000;\n",
              "        }    #T_827502fa_57a9_11ea_b230_0242ac1c0002row7_col17 {\n",
              "            background-color:  #8fb1fe;\n",
              "            color:  #000000;\n",
              "        }    #T_827502fa_57a9_11ea_b230_0242ac1c0002row8_col0 {\n",
              "            background-color:  #d2dbe8;\n",
              "            color:  #000000;\n",
              "        }    #T_827502fa_57a9_11ea_b230_0242ac1c0002row8_col1 {\n",
              "            background-color:  #d8dce2;\n",
              "            color:  #000000;\n",
              "        }    #T_827502fa_57a9_11ea_b230_0242ac1c0002row8_col2 {\n",
              "            background-color:  #e8d6cc;\n",
              "            color:  #000000;\n",
              "        }    #T_827502fa_57a9_11ea_b230_0242ac1c0002row8_col3 {\n",
              "            background-color:  #dfdbd9;\n",
              "            color:  #000000;\n",
              "        }    #T_827502fa_57a9_11ea_b230_0242ac1c0002row8_col4 {\n",
              "            background-color:  #d8dce2;\n",
              "            color:  #000000;\n",
              "        }    #T_827502fa_57a9_11ea_b230_0242ac1c0002row8_col5 {\n",
              "            background-color:  #edd2c3;\n",
              "            color:  #000000;\n",
              "        }    #T_827502fa_57a9_11ea_b230_0242ac1c0002row8_col6 {\n",
              "            background-color:  #bed2f6;\n",
              "            color:  #000000;\n",
              "        }    #T_827502fa_57a9_11ea_b230_0242ac1c0002row8_col7 {\n",
              "            background-color:  #cbd8ee;\n",
              "            color:  #000000;\n",
              "        }    #T_827502fa_57a9_11ea_b230_0242ac1c0002row8_col8 {\n",
              "            background-color:  #b40426;\n",
              "            color:  #f1f1f1;\n",
              "        }    #T_827502fa_57a9_11ea_b230_0242ac1c0002row8_col9 {\n",
              "            background-color:  #ea7b60;\n",
              "            color:  #000000;\n",
              "        }    #T_827502fa_57a9_11ea_b230_0242ac1c0002row8_col10 {\n",
              "            background-color:  #d5dbe5;\n",
              "            color:  #000000;\n",
              "        }    #T_827502fa_57a9_11ea_b230_0242ac1c0002row8_col11 {\n",
              "            background-color:  #ccd9ed;\n",
              "            color:  #000000;\n",
              "        }    #T_827502fa_57a9_11ea_b230_0242ac1c0002row8_col12 {\n",
              "            background-color:  #9fbfff;\n",
              "            color:  #000000;\n",
              "        }    #T_827502fa_57a9_11ea_b230_0242ac1c0002row8_col13 {\n",
              "            background-color:  #b7cff9;\n",
              "            color:  #000000;\n",
              "        }    #T_827502fa_57a9_11ea_b230_0242ac1c0002row8_col14 {\n",
              "            background-color:  #9ebeff;\n",
              "            color:  #000000;\n",
              "        }    #T_827502fa_57a9_11ea_b230_0242ac1c0002row8_col15 {\n",
              "            background-color:  #b6cefa;\n",
              "            color:  #000000;\n",
              "        }    #T_827502fa_57a9_11ea_b230_0242ac1c0002row8_col16 {\n",
              "            background-color:  #a9c6fd;\n",
              "            color:  #000000;\n",
              "        }    #T_827502fa_57a9_11ea_b230_0242ac1c0002row8_col17 {\n",
              "            background-color:  #3f53c6;\n",
              "            color:  #f1f1f1;\n",
              "        }    #T_827502fa_57a9_11ea_b230_0242ac1c0002row9_col0 {\n",
              "            background-color:  #e6d7cf;\n",
              "            color:  #000000;\n",
              "        }    #T_827502fa_57a9_11ea_b230_0242ac1c0002row9_col1 {\n",
              "            background-color:  #edd2c3;\n",
              "            color:  #000000;\n",
              "        }    #T_827502fa_57a9_11ea_b230_0242ac1c0002row9_col2 {\n",
              "            background-color:  #f4c6af;\n",
              "            color:  #000000;\n",
              "        }    #T_827502fa_57a9_11ea_b230_0242ac1c0002row9_col3 {\n",
              "            background-color:  #f1cdba;\n",
              "            color:  #000000;\n",
              "        }    #T_827502fa_57a9_11ea_b230_0242ac1c0002row9_col4 {\n",
              "            background-color:  #edd2c3;\n",
              "            color:  #000000;\n",
              "        }    #T_827502fa_57a9_11ea_b230_0242ac1c0002row9_col5 {\n",
              "            background-color:  #f2cab5;\n",
              "            color:  #000000;\n",
              "        }    #T_827502fa_57a9_11ea_b230_0242ac1c0002row9_col6 {\n",
              "            background-color:  #d2dbe8;\n",
              "            color:  #000000;\n",
              "        }    #T_827502fa_57a9_11ea_b230_0242ac1c0002row9_col7 {\n",
              "            background-color:  #dedcdb;\n",
              "            color:  #000000;\n",
              "        }    #T_827502fa_57a9_11ea_b230_0242ac1c0002row9_col8 {\n",
              "            background-color:  #eb7d62;\n",
              "            color:  #000000;\n",
              "        }    #T_827502fa_57a9_11ea_b230_0242ac1c0002row9_col9 {\n",
              "            background-color:  #b40426;\n",
              "            color:  #f1f1f1;\n",
              "        }    #T_827502fa_57a9_11ea_b230_0242ac1c0002row9_col10 {\n",
              "            background-color:  #e7d7ce;\n",
              "            color:  #000000;\n",
              "        }    #T_827502fa_57a9_11ea_b230_0242ac1c0002row9_col11 {\n",
              "            background-color:  #e1dad6;\n",
              "            color:  #000000;\n",
              "        }    #T_827502fa_57a9_11ea_b230_0242ac1c0002row9_col12 {\n",
              "            background-color:  #a3c2fe;\n",
              "            color:  #000000;\n",
              "        }    #T_827502fa_57a9_11ea_b230_0242ac1c0002row9_col13 {\n",
              "            background-color:  #ccd9ed;\n",
              "            color:  #000000;\n",
              "        }    #T_827502fa_57a9_11ea_b230_0242ac1c0002row9_col14 {\n",
              "            background-color:  #98b9ff;\n",
              "            color:  #000000;\n",
              "        }    #T_827502fa_57a9_11ea_b230_0242ac1c0002row9_col15 {\n",
              "            background-color:  #bad0f8;\n",
              "            color:  #000000;\n",
              "        }    #T_827502fa_57a9_11ea_b230_0242ac1c0002row9_col16 {\n",
              "            background-color:  #bfd3f6;\n",
              "            color:  #000000;\n",
              "        }    #T_827502fa_57a9_11ea_b230_0242ac1c0002row9_col17 {\n",
              "            background-color:  #3b4cc0;\n",
              "            color:  #f1f1f1;\n",
              "        }    #T_827502fa_57a9_11ea_b230_0242ac1c0002row10_col0 {\n",
              "            background-color:  #e7745b;\n",
              "            color:  #000000;\n",
              "        }    #T_827502fa_57a9_11ea_b230_0242ac1c0002row10_col1 {\n",
              "            background-color:  #dc5d4a;\n",
              "            color:  #000000;\n",
              "        }    #T_827502fa_57a9_11ea_b230_0242ac1c0002row10_col2 {\n",
              "            background-color:  #d24b40;\n",
              "            color:  #f1f1f1;\n",
              "        }    #T_827502fa_57a9_11ea_b230_0242ac1c0002row10_col3 {\n",
              "            background-color:  #de614d;\n",
              "            color:  #000000;\n",
              "        }    #T_827502fa_57a9_11ea_b230_0242ac1c0002row10_col4 {\n",
              "            background-color:  #e36c55;\n",
              "            color:  #000000;\n",
              "        }    #T_827502fa_57a9_11ea_b230_0242ac1c0002row10_col5 {\n",
              "            background-color:  #f1cdba;\n",
              "            color:  #000000;\n",
              "        }    #T_827502fa_57a9_11ea_b230_0242ac1c0002row10_col6 {\n",
              "            background-color:  #e36b54;\n",
              "            color:  #000000;\n",
              "        }    #T_827502fa_57a9_11ea_b230_0242ac1c0002row10_col7 {\n",
              "            background-color:  #d85646;\n",
              "            color:  #000000;\n",
              "        }    #T_827502fa_57a9_11ea_b230_0242ac1c0002row10_col8 {\n",
              "            background-color:  #dadce0;\n",
              "            color:  #000000;\n",
              "        }    #T_827502fa_57a9_11ea_b230_0242ac1c0002row10_col9 {\n",
              "            background-color:  #ecd3c5;\n",
              "            color:  #000000;\n",
              "        }    #T_827502fa_57a9_11ea_b230_0242ac1c0002row10_col10 {\n",
              "            background-color:  #b40426;\n",
              "            color:  #f1f1f1;\n",
              "        }    #T_827502fa_57a9_11ea_b230_0242ac1c0002row10_col11 {\n",
              "            background-color:  #df634e;\n",
              "            color:  #000000;\n",
              "        }    #T_827502fa_57a9_11ea_b230_0242ac1c0002row10_col12 {\n",
              "            background-color:  #f7b093;\n",
              "            color:  #000000;\n",
              "        }    #T_827502fa_57a9_11ea_b230_0242ac1c0002row10_col13 {\n",
              "            background-color:  #f6bda2;\n",
              "            color:  #000000;\n",
              "        }    #T_827502fa_57a9_11ea_b230_0242ac1c0002row10_col14 {\n",
              "            background-color:  #5977e3;\n",
              "            color:  #000000;\n",
              "        }    #T_827502fa_57a9_11ea_b230_0242ac1c0002row10_col15 {\n",
              "            background-color:  #f59c7d;\n",
              "            color:  #000000;\n",
              "        }    #T_827502fa_57a9_11ea_b230_0242ac1c0002row10_col16 {\n",
              "            background-color:  #f18f71;\n",
              "            color:  #000000;\n",
              "        }    #T_827502fa_57a9_11ea_b230_0242ac1c0002row10_col17 {\n",
              "            background-color:  #8db0fe;\n",
              "            color:  #000000;\n",
              "        }    #T_827502fa_57a9_11ea_b230_0242ac1c0002row11_col0 {\n",
              "            background-color:  #e26952;\n",
              "            color:  #000000;\n",
              "        }    #T_827502fa_57a9_11ea_b230_0242ac1c0002row11_col1 {\n",
              "            background-color:  #d0473d;\n",
              "            color:  #f1f1f1;\n",
              "        }    #T_827502fa_57a9_11ea_b230_0242ac1c0002row11_col2 {\n",
              "            background-color:  #d65244;\n",
              "            color:  #000000;\n",
              "        }    #T_827502fa_57a9_11ea_b230_0242ac1c0002row11_col3 {\n",
              "            background-color:  #dd5f4b;\n",
              "            color:  #000000;\n",
              "        }    #T_827502fa_57a9_11ea_b230_0242ac1c0002row11_col4 {\n",
              "            background-color:  #e26952;\n",
              "            color:  #000000;\n",
              "        }    #T_827502fa_57a9_11ea_b230_0242ac1c0002row11_col5 {\n",
              "            background-color:  #ebd3c6;\n",
              "            color:  #000000;\n",
              "        }    #T_827502fa_57a9_11ea_b230_0242ac1c0002row11_col6 {\n",
              "            background-color:  #d95847;\n",
              "            color:  #000000;\n",
              "        }    #T_827502fa_57a9_11ea_b230_0242ac1c0002row11_col7 {\n",
              "            background-color:  #d75445;\n",
              "            color:  #000000;\n",
              "        }    #T_827502fa_57a9_11ea_b230_0242ac1c0002row11_col8 {\n",
              "            background-color:  #dbdcde;\n",
              "            color:  #000000;\n",
              "        }    #T_827502fa_57a9_11ea_b230_0242ac1c0002row11_col9 {\n",
              "            background-color:  #edd2c3;\n",
              "            color:  #000000;\n",
              "        }    #T_827502fa_57a9_11ea_b230_0242ac1c0002row11_col10 {\n",
              "            background-color:  #dd5f4b;\n",
              "            color:  #000000;\n",
              "        }    #T_827502fa_57a9_11ea_b230_0242ac1c0002row11_col11 {\n",
              "            background-color:  #b40426;\n",
              "            color:  #f1f1f1;\n",
              "        }    #T_827502fa_57a9_11ea_b230_0242ac1c0002row11_col12 {\n",
              "            background-color:  #ead5c9;\n",
              "            color:  #000000;\n",
              "        }    #T_827502fa_57a9_11ea_b230_0242ac1c0002row11_col13 {\n",
              "            background-color:  #f7af91;\n",
              "            color:  #000000;\n",
              "        }    #T_827502fa_57a9_11ea_b230_0242ac1c0002row11_col14 {\n",
              "            background-color:  #6b8df0;\n",
              "            color:  #000000;\n",
              "        }    #T_827502fa_57a9_11ea_b230_0242ac1c0002row11_col15 {\n",
              "            background-color:  #f7ac8e;\n",
              "            color:  #000000;\n",
              "        }    #T_827502fa_57a9_11ea_b230_0242ac1c0002row11_col16 {\n",
              "            background-color:  #f39475;\n",
              "            color:  #000000;\n",
              "        }    #T_827502fa_57a9_11ea_b230_0242ac1c0002row11_col17 {\n",
              "            background-color:  #7093f3;\n",
              "            color:  #000000;\n",
              "        }    #T_827502fa_57a9_11ea_b230_0242ac1c0002row12_col0 {\n",
              "            background-color:  #e6d7cf;\n",
              "            color:  #000000;\n",
              "        }    #T_827502fa_57a9_11ea_b230_0242ac1c0002row12_col1 {\n",
              "            background-color:  #ead4c8;\n",
              "            color:  #000000;\n",
              "        }    #T_827502fa_57a9_11ea_b230_0242ac1c0002row12_col2 {\n",
              "            background-color:  #f1cdba;\n",
              "            color:  #000000;\n",
              "        }    #T_827502fa_57a9_11ea_b230_0242ac1c0002row12_col3 {\n",
              "            background-color:  #efcebd;\n",
              "            color:  #000000;\n",
              "        }    #T_827502fa_57a9_11ea_b230_0242ac1c0002row12_col4 {\n",
              "            background-color:  #efcfbf;\n",
              "            color:  #000000;\n",
              "        }    #T_827502fa_57a9_11ea_b230_0242ac1c0002row12_col5 {\n",
              "            background-color:  #c3d5f4;\n",
              "            color:  #000000;\n",
              "        }    #T_827502fa_57a9_11ea_b230_0242ac1c0002row12_col6 {\n",
              "            background-color:  #f7bca1;\n",
              "            color:  #000000;\n",
              "        }    #T_827502fa_57a9_11ea_b230_0242ac1c0002row12_col7 {\n",
              "            background-color:  #f7b79b;\n",
              "            color:  #000000;\n",
              "        }    #T_827502fa_57a9_11ea_b230_0242ac1c0002row12_col8 {\n",
              "            background-color:  #9ebeff;\n",
              "            color:  #000000;\n",
              "        }    #T_827502fa_57a9_11ea_b230_0242ac1c0002row12_col9 {\n",
              "            background-color:  #a6c4fe;\n",
              "            color:  #000000;\n",
              "        }    #T_827502fa_57a9_11ea_b230_0242ac1c0002row12_col10 {\n",
              "            background-color:  #f7b497;\n",
              "            color:  #000000;\n",
              "        }    #T_827502fa_57a9_11ea_b230_0242ac1c0002row12_col11 {\n",
              "            background-color:  #dedcdb;\n",
              "            color:  #000000;\n",
              "        }    #T_827502fa_57a9_11ea_b230_0242ac1c0002row12_col12 {\n",
              "            background-color:  #b40426;\n",
              "            color:  #f1f1f1;\n",
              "        }    #T_827502fa_57a9_11ea_b230_0242ac1c0002row12_col13 {\n",
              "            background-color:  #cfdaea;\n",
              "            color:  #000000;\n",
              "        }    #T_827502fa_57a9_11ea_b230_0242ac1c0002row12_col14 {\n",
              "            background-color:  #4c66d6;\n",
              "            color:  #000000;\n",
              "        }    #T_827502fa_57a9_11ea_b230_0242ac1c0002row12_col15 {\n",
              "            background-color:  #ecd3c5;\n",
              "            color:  #000000;\n",
              "        }    #T_827502fa_57a9_11ea_b230_0242ac1c0002row12_col16 {\n",
              "            background-color:  #e6d7cf;\n",
              "            color:  #000000;\n",
              "        }    #T_827502fa_57a9_11ea_b230_0242ac1c0002row12_col17 {\n",
              "            background-color:  #8badfd;\n",
              "            color:  #000000;\n",
              "        }    #T_827502fa_57a9_11ea_b230_0242ac1c0002row13_col0 {\n",
              "            background-color:  #f7bca1;\n",
              "            color:  #000000;\n",
              "        }    #T_827502fa_57a9_11ea_b230_0242ac1c0002row13_col1 {\n",
              "            background-color:  #f7b396;\n",
              "            color:  #000000;\n",
              "        }    #T_827502fa_57a9_11ea_b230_0242ac1c0002row13_col2 {\n",
              "            background-color:  #f7aa8c;\n",
              "            color:  #000000;\n",
              "        }    #T_827502fa_57a9_11ea_b230_0242ac1c0002row13_col3 {\n",
              "            background-color:  #f7b194;\n",
              "            color:  #000000;\n",
              "        }    #T_827502fa_57a9_11ea_b230_0242ac1c0002row13_col4 {\n",
              "            background-color:  #f7b79b;\n",
              "            color:  #000000;\n",
              "        }    #T_827502fa_57a9_11ea_b230_0242ac1c0002row13_col5 {\n",
              "            background-color:  #dadce0;\n",
              "            color:  #000000;\n",
              "        }    #T_827502fa_57a9_11ea_b230_0242ac1c0002row13_col6 {\n",
              "            background-color:  #f7b497;\n",
              "            color:  #000000;\n",
              "        }    #T_827502fa_57a9_11ea_b230_0242ac1c0002row13_col7 {\n",
              "            background-color:  #f7af91;\n",
              "            color:  #000000;\n",
              "        }    #T_827502fa_57a9_11ea_b230_0242ac1c0002row13_col8 {\n",
              "            background-color:  #c0d4f5;\n",
              "            color:  #000000;\n",
              "        }    #T_827502fa_57a9_11ea_b230_0242ac1c0002row13_col9 {\n",
              "            background-color:  #d5dbe5;\n",
              "            color:  #000000;\n",
              "        }    #T_827502fa_57a9_11ea_b230_0242ac1c0002row13_col10 {\n",
              "            background-color:  #f7bca1;\n",
              "            color:  #000000;\n",
              "        }    #T_827502fa_57a9_11ea_b230_0242ac1c0002row13_col11 {\n",
              "            background-color:  #f7b599;\n",
              "            color:  #000000;\n",
              "        }    #T_827502fa_57a9_11ea_b230_0242ac1c0002row13_col12 {\n",
              "            background-color:  #d6dce4;\n",
              "            color:  #000000;\n",
              "        }    #T_827502fa_57a9_11ea_b230_0242ac1c0002row13_col13 {\n",
              "            background-color:  #b40426;\n",
              "            color:  #f1f1f1;\n",
              "        }    #T_827502fa_57a9_11ea_b230_0242ac1c0002row13_col14 {\n",
              "            background-color:  #5b7ae5;\n",
              "            color:  #000000;\n",
              "        }    #T_827502fa_57a9_11ea_b230_0242ac1c0002row13_col15 {\n",
              "            background-color:  #e7d7ce;\n",
              "            color:  #000000;\n",
              "        }    #T_827502fa_57a9_11ea_b230_0242ac1c0002row13_col16 {\n",
              "            background-color:  #e6d7cf;\n",
              "            color:  #000000;\n",
              "        }    #T_827502fa_57a9_11ea_b230_0242ac1c0002row13_col17 {\n",
              "            background-color:  #5e7de7;\n",
              "            color:  #000000;\n",
              "        }    #T_827502fa_57a9_11ea_b230_0242ac1c0002row14_col0 {\n",
              "            background-color:  #3b4cc0;\n",
              "            color:  #f1f1f1;\n",
              "        }    #T_827502fa_57a9_11ea_b230_0242ac1c0002row14_col1 {\n",
              "            background-color:  #3b4cc0;\n",
              "            color:  #f1f1f1;\n",
              "        }    #T_827502fa_57a9_11ea_b230_0242ac1c0002row14_col2 {\n",
              "            background-color:  #3b4cc0;\n",
              "            color:  #f1f1f1;\n",
              "        }    #T_827502fa_57a9_11ea_b230_0242ac1c0002row14_col3 {\n",
              "            background-color:  #3b4cc0;\n",
              "            color:  #f1f1f1;\n",
              "        }    #T_827502fa_57a9_11ea_b230_0242ac1c0002row14_col4 {\n",
              "            background-color:  #3b4cc0;\n",
              "            color:  #f1f1f1;\n",
              "        }    #T_827502fa_57a9_11ea_b230_0242ac1c0002row14_col5 {\n",
              "            background-color:  #81a4fb;\n",
              "            color:  #000000;\n",
              "        }    #T_827502fa_57a9_11ea_b230_0242ac1c0002row14_col6 {\n",
              "            background-color:  #3b4cc0;\n",
              "            color:  #f1f1f1;\n",
              "        }    #T_827502fa_57a9_11ea_b230_0242ac1c0002row14_col7 {\n",
              "            background-color:  #3b4cc0;\n",
              "            color:  #f1f1f1;\n",
              "        }    #T_827502fa_57a9_11ea_b230_0242ac1c0002row14_col8 {\n",
              "            background-color:  #8caffe;\n",
              "            color:  #000000;\n",
              "        }    #T_827502fa_57a9_11ea_b230_0242ac1c0002row14_col9 {\n",
              "            background-color:  #89acfd;\n",
              "            color:  #000000;\n",
              "        }    #T_827502fa_57a9_11ea_b230_0242ac1c0002row14_col10 {\n",
              "            background-color:  #3b4cc0;\n",
              "            color:  #f1f1f1;\n",
              "        }    #T_827502fa_57a9_11ea_b230_0242ac1c0002row14_col11 {\n",
              "            background-color:  #3b4cc0;\n",
              "            color:  #f1f1f1;\n",
              "        }    #T_827502fa_57a9_11ea_b230_0242ac1c0002row14_col12 {\n",
              "            background-color:  #3b4cc0;\n",
              "            color:  #f1f1f1;\n",
              "        }    #T_827502fa_57a9_11ea_b230_0242ac1c0002row14_col13 {\n",
              "            background-color:  #3b4cc0;\n",
              "            color:  #f1f1f1;\n",
              "        }    #T_827502fa_57a9_11ea_b230_0242ac1c0002row14_col14 {\n",
              "            background-color:  #b40426;\n",
              "            color:  #f1f1f1;\n",
              "        }    #T_827502fa_57a9_11ea_b230_0242ac1c0002row14_col15 {\n",
              "            background-color:  #3b4cc0;\n",
              "            color:  #f1f1f1;\n",
              "        }    #T_827502fa_57a9_11ea_b230_0242ac1c0002row14_col16 {\n",
              "            background-color:  #3b4cc0;\n",
              "            color:  #f1f1f1;\n",
              "        }    #T_827502fa_57a9_11ea_b230_0242ac1c0002row14_col17 {\n",
              "            background-color:  #3f53c6;\n",
              "            color:  #f1f1f1;\n",
              "        }    #T_827502fa_57a9_11ea_b230_0242ac1c0002row15_col0 {\n",
              "            background-color:  #f7a688;\n",
              "            color:  #000000;\n",
              "        }    #T_827502fa_57a9_11ea_b230_0242ac1c0002row15_col1 {\n",
              "            background-color:  #f29072;\n",
              "            color:  #000000;\n",
              "        }    #T_827502fa_57a9_11ea_b230_0242ac1c0002row15_col2 {\n",
              "            background-color:  #f29274;\n",
              "            color:  #000000;\n",
              "        }    #T_827502fa_57a9_11ea_b230_0242ac1c0002row15_col3 {\n",
              "            background-color:  #f18f71;\n",
              "            color:  #000000;\n",
              "        }    #T_827502fa_57a9_11ea_b230_0242ac1c0002row15_col4 {\n",
              "            background-color:  #f39577;\n",
              "            color:  #000000;\n",
              "        }    #T_827502fa_57a9_11ea_b230_0242ac1c0002row15_col5 {\n",
              "            background-color:  #dedcdb;\n",
              "            color:  #000000;\n",
              "        }    #T_827502fa_57a9_11ea_b230_0242ac1c0002row15_col6 {\n",
              "            background-color:  #f59d7e;\n",
              "            color:  #000000;\n",
              "        }    #T_827502fa_57a9_11ea_b230_0242ac1c0002row15_col7 {\n",
              "            background-color:  #ea7b60;\n",
              "            color:  #000000;\n",
              "        }    #T_827502fa_57a9_11ea_b230_0242ac1c0002row15_col8 {\n",
              "            background-color:  #c1d4f4;\n",
              "            color:  #000000;\n",
              "        }    #T_827502fa_57a9_11ea_b230_0242ac1c0002row15_col9 {\n",
              "            background-color:  #c7d7f0;\n",
              "            color:  #000000;\n",
              "        }    #T_827502fa_57a9_11ea_b230_0242ac1c0002row15_col10 {\n",
              "            background-color:  #f49a7b;\n",
              "            color:  #000000;\n",
              "        }    #T_827502fa_57a9_11ea_b230_0242ac1c0002row15_col11 {\n",
              "            background-color:  #f7b093;\n",
              "            color:  #000000;\n",
              "        }    #T_827502fa_57a9_11ea_b230_0242ac1c0002row15_col12 {\n",
              "            background-color:  #f1cdba;\n",
              "            color:  #000000;\n",
              "        }    #T_827502fa_57a9_11ea_b230_0242ac1c0002row15_col13 {\n",
              "            background-color:  #e9d5cb;\n",
              "            color:  #000000;\n",
              "        }    #T_827502fa_57a9_11ea_b230_0242ac1c0002row15_col14 {\n",
              "            background-color:  #6180e9;\n",
              "            color:  #000000;\n",
              "        }    #T_827502fa_57a9_11ea_b230_0242ac1c0002row15_col15 {\n",
              "            background-color:  #b40426;\n",
              "            color:  #f1f1f1;\n",
              "        }    #T_827502fa_57a9_11ea_b230_0242ac1c0002row15_col16 {\n",
              "            background-color:  #f59d7e;\n",
              "            color:  #000000;\n",
              "        }    #T_827502fa_57a9_11ea_b230_0242ac1c0002row15_col17 {\n",
              "            background-color:  #85a8fc;\n",
              "            color:  #000000;\n",
              "        }    #T_827502fa_57a9_11ea_b230_0242ac1c0002row16_col0 {\n",
              "            background-color:  #ed8366;\n",
              "            color:  #000000;\n",
              "        }    #T_827502fa_57a9_11ea_b230_0242ac1c0002row16_col1 {\n",
              "            background-color:  #df634e;\n",
              "            color:  #000000;\n",
              "        }    #T_827502fa_57a9_11ea_b230_0242ac1c0002row16_col2 {\n",
              "            background-color:  #e97a5f;\n",
              "            color:  #000000;\n",
              "        }    #T_827502fa_57a9_11ea_b230_0242ac1c0002row16_col3 {\n",
              "            background-color:  #e0654f;\n",
              "            color:  #000000;\n",
              "        }    #T_827502fa_57a9_11ea_b230_0242ac1c0002row16_col4 {\n",
              "            background-color:  #e67259;\n",
              "            color:  #000000;\n",
              "        }    #T_827502fa_57a9_11ea_b230_0242ac1c0002row16_col5 {\n",
              "            background-color:  #cfdaea;\n",
              "            color:  #000000;\n",
              "        }    #T_827502fa_57a9_11ea_b230_0242ac1c0002row16_col6 {\n",
              "            background-color:  #f08a6c;\n",
              "            color:  #000000;\n",
              "        }    #T_827502fa_57a9_11ea_b230_0242ac1c0002row16_col7 {\n",
              "            background-color:  #df634e;\n",
              "            color:  #000000;\n",
              "        }    #T_827502fa_57a9_11ea_b230_0242ac1c0002row16_col8 {\n",
              "            background-color:  #b7cff9;\n",
              "            color:  #000000;\n",
              "        }    #T_827502fa_57a9_11ea_b230_0242ac1c0002row16_col9 {\n",
              "            background-color:  #cedaeb;\n",
              "            color:  #000000;\n",
              "        }    #T_827502fa_57a9_11ea_b230_0242ac1c0002row16_col10 {\n",
              "            background-color:  #f08b6e;\n",
              "            color:  #000000;\n",
              "        }    #T_827502fa_57a9_11ea_b230_0242ac1c0002row16_col11 {\n",
              "            background-color:  #f39778;\n",
              "            color:  #000000;\n",
              "        }    #T_827502fa_57a9_11ea_b230_0242ac1c0002row16_col12 {\n",
              "            background-color:  #edd1c2;\n",
              "            color:  #000000;\n",
              "        }    #T_827502fa_57a9_11ea_b230_0242ac1c0002row16_col13 {\n",
              "            background-color:  #e9d5cb;\n",
              "            color:  #000000;\n",
              "        }    #T_827502fa_57a9_11ea_b230_0242ac1c0002row16_col14 {\n",
              "            background-color:  #6384eb;\n",
              "            color:  #000000;\n",
              "        }    #T_827502fa_57a9_11ea_b230_0242ac1c0002row16_col15 {\n",
              "            background-color:  #f59c7d;\n",
              "            color:  #000000;\n",
              "        }    #T_827502fa_57a9_11ea_b230_0242ac1c0002row16_col16 {\n",
              "            background-color:  #b40426;\n",
              "            color:  #f1f1f1;\n",
              "        }    #T_827502fa_57a9_11ea_b230_0242ac1c0002row16_col17 {\n",
              "            background-color:  #94b6ff;\n",
              "            color:  #000000;\n",
              "        }    #T_827502fa_57a9_11ea_b230_0242ac1c0002row17_col0 {\n",
              "            background-color:  #4e68d8;\n",
              "            color:  #000000;\n",
              "        }    #T_827502fa_57a9_11ea_b230_0242ac1c0002row17_col1 {\n",
              "            background-color:  #5875e1;\n",
              "            color:  #000000;\n",
              "        }    #T_827502fa_57a9_11ea_b230_0242ac1c0002row17_col2 {\n",
              "            background-color:  #6485ec;\n",
              "            color:  #000000;\n",
              "        }    #T_827502fa_57a9_11ea_b230_0242ac1c0002row17_col3 {\n",
              "            background-color:  #5f7fe8;\n",
              "            color:  #000000;\n",
              "        }    #T_827502fa_57a9_11ea_b230_0242ac1c0002row17_col4 {\n",
              "            background-color:  #5e7de7;\n",
              "            color:  #000000;\n",
              "        }    #T_827502fa_57a9_11ea_b230_0242ac1c0002row17_col5 {\n",
              "            background-color:  #3b4cc0;\n",
              "            color:  #f1f1f1;\n",
              "        }    #T_827502fa_57a9_11ea_b230_0242ac1c0002row17_col6 {\n",
              "            background-color:  #9abbff;\n",
              "            color:  #000000;\n",
              "        }    #T_827502fa_57a9_11ea_b230_0242ac1c0002row17_col7 {\n",
              "            background-color:  #8badfd;\n",
              "            color:  #000000;\n",
              "        }    #T_827502fa_57a9_11ea_b230_0242ac1c0002row17_col8 {\n",
              "            background-color:  #3b4cc0;\n",
              "            color:  #f1f1f1;\n",
              "        }    #T_827502fa_57a9_11ea_b230_0242ac1c0002row17_col9 {\n",
              "            background-color:  #3b4cc0;\n",
              "            color:  #f1f1f1;\n",
              "        }    #T_827502fa_57a9_11ea_b230_0242ac1c0002row17_col10 {\n",
              "            background-color:  #7ea1fa;\n",
              "            color:  #000000;\n",
              "        }    #T_827502fa_57a9_11ea_b230_0242ac1c0002row17_col11 {\n",
              "            background-color:  #506bda;\n",
              "            color:  #000000;\n",
              "        }    #T_827502fa_57a9_11ea_b230_0242ac1c0002row17_col12 {\n",
              "            background-color:  #88abfd;\n",
              "            color:  #000000;\n",
              "        }    #T_827502fa_57a9_11ea_b230_0242ac1c0002row17_col13 {\n",
              "            background-color:  #4c66d6;\n",
              "            color:  #000000;\n",
              "        }    #T_827502fa_57a9_11ea_b230_0242ac1c0002row17_col14 {\n",
              "            background-color:  #4f69d9;\n",
              "            color:  #000000;\n",
              "        }    #T_827502fa_57a9_11ea_b230_0242ac1c0002row17_col15 {\n",
              "            background-color:  #7093f3;\n",
              "            color:  #000000;\n",
              "        }    #T_827502fa_57a9_11ea_b230_0242ac1c0002row17_col16 {\n",
              "            background-color:  #7ea1fa;\n",
              "            color:  #000000;\n",
              "        }    #T_827502fa_57a9_11ea_b230_0242ac1c0002row17_col17 {\n",
              "            background-color:  #b40426;\n",
              "            color:  #f1f1f1;\n",
              "        }</style><table id=\"T_827502fa_57a9_11ea_b230_0242ac1c0002\" ><thead>    <tr>        <th class=\"blank level0\" ></th>        <th class=\"col_heading level0 col0\" >G</th>        <th class=\"col_heading level0 col1\" >AB</th>        <th class=\"col_heading level0 col2\" >R</th>        <th class=\"col_heading level0 col3\" >H</th>        <th class=\"col_heading level0 col4\" >2B</th>        <th class=\"col_heading level0 col5\" >3B</th>        <th class=\"col_heading level0 col6\" >HR</th>        <th class=\"col_heading level0 col7\" >RBI</th>        <th class=\"col_heading level0 col8\" >SB</th>        <th class=\"col_heading level0 col9\" >CS</th>        <th class=\"col_heading level0 col10\" >BB</th>        <th class=\"col_heading level0 col11\" >SO</th>        <th class=\"col_heading level0 col12\" >IBB</th>        <th class=\"col_heading level0 col13\" >HBP</th>        <th class=\"col_heading level0 col14\" >SH</th>        <th class=\"col_heading level0 col15\" >SF</th>        <th class=\"col_heading level0 col16\" >GIDP</th>        <th class=\"col_heading level0 col17\" >salary</th>    </tr></thead><tbody>\n",
              "                <tr>\n",
              "                        <th id=\"T_827502fa_57a9_11ea_b230_0242ac1c0002level0_row0\" class=\"row_heading level0 row0\" >G</th>\n",
              "                        <td id=\"T_827502fa_57a9_11ea_b230_0242ac1c0002row0_col0\" class=\"data row0 col0\" >1</td>\n",
              "                        <td id=\"T_827502fa_57a9_11ea_b230_0242ac1c0002row0_col1\" class=\"data row0 col1\" >0.925</td>\n",
              "                        <td id=\"T_827502fa_57a9_11ea_b230_0242ac1c0002row0_col2\" class=\"data row0 col2\" >0.902</td>\n",
              "                        <td id=\"T_827502fa_57a9_11ea_b230_0242ac1c0002row0_col3\" class=\"data row0 col3\" >0.913</td>\n",
              "                        <td id=\"T_827502fa_57a9_11ea_b230_0242ac1c0002row0_col4\" class=\"data row0 col4\" >0.884</td>\n",
              "                        <td id=\"T_827502fa_57a9_11ea_b230_0242ac1c0002row0_col5\" class=\"data row0 col5\" >0.606</td>\n",
              "                        <td id=\"T_827502fa_57a9_11ea_b230_0242ac1c0002row0_col6\" class=\"data row0 col6\" >0.806</td>\n",
              "                        <td id=\"T_827502fa_57a9_11ea_b230_0242ac1c0002row0_col7\" class=\"data row0 col7\" >0.88</td>\n",
              "                        <td id=\"T_827502fa_57a9_11ea_b230_0242ac1c0002row0_col8\" class=\"data row0 col8\" >0.508</td>\n",
              "                        <td id=\"T_827502fa_57a9_11ea_b230_0242ac1c0002row0_col9\" class=\"data row0 col9\" >0.578</td>\n",
              "                        <td id=\"T_827502fa_57a9_11ea_b230_0242ac1c0002row0_col10\" class=\"data row0 col10\" >0.848</td>\n",
              "                        <td id=\"T_827502fa_57a9_11ea_b230_0242ac1c0002row0_col11\" class=\"data row0 col11\" >0.869</td>\n",
              "                        <td id=\"T_827502fa_57a9_11ea_b230_0242ac1c0002row0_col12\" class=\"data row0 col12\" >0.581</td>\n",
              "                        <td id=\"T_827502fa_57a9_11ea_b230_0242ac1c0002row0_col13\" class=\"data row0 col13\" >0.688</td>\n",
              "                        <td id=\"T_827502fa_57a9_11ea_b230_0242ac1c0002row0_col14\" class=\"data row0 col14\" >0.0928</td>\n",
              "                        <td id=\"T_827502fa_57a9_11ea_b230_0242ac1c0002row0_col15\" class=\"data row0 col15\" >0.744</td>\n",
              "                        <td id=\"T_827502fa_57a9_11ea_b230_0242ac1c0002row0_col16\" class=\"data row0 col16\" >0.822</td>\n",
              "                        <td id=\"T_827502fa_57a9_11ea_b230_0242ac1c0002row0_col17\" class=\"data row0 col17\" >0.15</td>\n",
              "            </tr>\n",
              "            <tr>\n",
              "                        <th id=\"T_827502fa_57a9_11ea_b230_0242ac1c0002level0_row1\" class=\"row_heading level0 row1\" >AB</th>\n",
              "                        <td id=\"T_827502fa_57a9_11ea_b230_0242ac1c0002row1_col0\" class=\"data row1 col0\" >0.925</td>\n",
              "                        <td id=\"T_827502fa_57a9_11ea_b230_0242ac1c0002row1_col1\" class=\"data row1 col1\" >1</td>\n",
              "                        <td id=\"T_827502fa_57a9_11ea_b230_0242ac1c0002row1_col2\" class=\"data row1 col2\" >0.974</td>\n",
              "                        <td id=\"T_827502fa_57a9_11ea_b230_0242ac1c0002row1_col3\" class=\"data row1 col3\" >0.99</td>\n",
              "                        <td id=\"T_827502fa_57a9_11ea_b230_0242ac1c0002row1_col4\" class=\"data row1 col4\" >0.959</td>\n",
              "                        <td id=\"T_827502fa_57a9_11ea_b230_0242ac1c0002row1_col5\" class=\"data row1 col5\" >0.65</td>\n",
              "                        <td id=\"T_827502fa_57a9_11ea_b230_0242ac1c0002row1_col6\" class=\"data row1 col6\" >0.868</td>\n",
              "                        <td id=\"T_827502fa_57a9_11ea_b230_0242ac1c0002row1_col7\" class=\"data row1 col7\" >0.951</td>\n",
              "                        <td id=\"T_827502fa_57a9_11ea_b230_0242ac1c0002row1_col8\" class=\"data row1 col8\" >0.552</td>\n",
              "                        <td id=\"T_827502fa_57a9_11ea_b230_0242ac1c0002row1_col9\" class=\"data row1 col9\" >0.627</td>\n",
              "                        <td id=\"T_827502fa_57a9_11ea_b230_0242ac1c0002row1_col10\" class=\"data row1 col10\" >0.897</td>\n",
              "                        <td id=\"T_827502fa_57a9_11ea_b230_0242ac1c0002row1_col11\" class=\"data row1 col11\" >0.93</td>\n",
              "                        <td id=\"T_827502fa_57a9_11ea_b230_0242ac1c0002row1_col12\" class=\"data row1 col12\" >0.614</td>\n",
              "                        <td id=\"T_827502fa_57a9_11ea_b230_0242ac1c0002row1_col13\" class=\"data row1 col13\" >0.725</td>\n",
              "                        <td id=\"T_827502fa_57a9_11ea_b230_0242ac1c0002row1_col14\" class=\"data row1 col14\" >0.131</td>\n",
              "                        <td id=\"T_827502fa_57a9_11ea_b230_0242ac1c0002row1_col15\" class=\"data row1 col15\" >0.802</td>\n",
              "                        <td id=\"T_827502fa_57a9_11ea_b230_0242ac1c0002row1_col16\" class=\"data row1 col16\" >0.886</td>\n",
              "                        <td id=\"T_827502fa_57a9_11ea_b230_0242ac1c0002row1_col17\" class=\"data row1 col17\" >0.214</td>\n",
              "            </tr>\n",
              "            <tr>\n",
              "                        <th id=\"T_827502fa_57a9_11ea_b230_0242ac1c0002level0_row2\" class=\"row_heading level0 row2\" >R</th>\n",
              "                        <td id=\"T_827502fa_57a9_11ea_b230_0242ac1c0002row2_col0\" class=\"data row2 col0\" >0.902</td>\n",
              "                        <td id=\"T_827502fa_57a9_11ea_b230_0242ac1c0002row2_col1\" class=\"data row2 col1\" >0.974</td>\n",
              "                        <td id=\"T_827502fa_57a9_11ea_b230_0242ac1c0002row2_col2\" class=\"data row2 col2\" >1</td>\n",
              "                        <td id=\"T_827502fa_57a9_11ea_b230_0242ac1c0002row2_col3\" class=\"data row2 col3\" >0.978</td>\n",
              "                        <td id=\"T_827502fa_57a9_11ea_b230_0242ac1c0002row2_col4\" class=\"data row2 col4\" >0.947</td>\n",
              "                        <td id=\"T_827502fa_57a9_11ea_b230_0242ac1c0002row2_col5\" class=\"data row2 col5\" >0.671</td>\n",
              "                        <td id=\"T_827502fa_57a9_11ea_b230_0242ac1c0002row2_col6\" class=\"data row2 col6\" >0.892</td>\n",
              "                        <td id=\"T_827502fa_57a9_11ea_b230_0242ac1c0002row2_col7\" class=\"data row2 col7\" >0.95</td>\n",
              "                        <td id=\"T_827502fa_57a9_11ea_b230_0242ac1c0002row2_col8\" class=\"data row2 col8\" >0.589</td>\n",
              "                        <td id=\"T_827502fa_57a9_11ea_b230_0242ac1c0002row2_col9\" class=\"data row2 col9\" >0.655</td>\n",
              "                        <td id=\"T_827502fa_57a9_11ea_b230_0242ac1c0002row2_col10\" class=\"data row2 col10\" >0.92</td>\n",
              "                        <td id=\"T_827502fa_57a9_11ea_b230_0242ac1c0002row2_col11\" class=\"data row2 col11\" >0.909</td>\n",
              "                        <td id=\"T_827502fa_57a9_11ea_b230_0242ac1c0002row2_col12\" class=\"data row2 col12\" >0.631</td>\n",
              "                        <td id=\"T_827502fa_57a9_11ea_b230_0242ac1c0002row2_col13\" class=\"data row2 col13\" >0.732</td>\n",
              "                        <td id=\"T_827502fa_57a9_11ea_b230_0242ac1c0002row2_col14\" class=\"data row2 col14\" >0.0952</td>\n",
              "                        <td id=\"T_827502fa_57a9_11ea_b230_0242ac1c0002row2_col15\" class=\"data row2 col15\" >0.791</td>\n",
              "                        <td id=\"T_827502fa_57a9_11ea_b230_0242ac1c0002row2_col16\" class=\"data row2 col16\" >0.841</td>\n",
              "                        <td id=\"T_827502fa_57a9_11ea_b230_0242ac1c0002row2_col17\" class=\"data row2 col17\" >0.216</td>\n",
              "            </tr>\n",
              "            <tr>\n",
              "                        <th id=\"T_827502fa_57a9_11ea_b230_0242ac1c0002level0_row3\" class=\"row_heading level0 row3\" >H</th>\n",
              "                        <td id=\"T_827502fa_57a9_11ea_b230_0242ac1c0002row3_col0\" class=\"data row3 col0\" >0.913</td>\n",
              "                        <td id=\"T_827502fa_57a9_11ea_b230_0242ac1c0002row3_col1\" class=\"data row3 col1\" >0.99</td>\n",
              "                        <td id=\"T_827502fa_57a9_11ea_b230_0242ac1c0002row3_col2\" class=\"data row3 col2\" >0.978</td>\n",
              "                        <td id=\"T_827502fa_57a9_11ea_b230_0242ac1c0002row3_col3\" class=\"data row3 col3\" >1</td>\n",
              "                        <td id=\"T_827502fa_57a9_11ea_b230_0242ac1c0002row3_col4\" class=\"data row3 col4\" >0.969</td>\n",
              "                        <td id=\"T_827502fa_57a9_11ea_b230_0242ac1c0002row3_col5\" class=\"data row3 col5\" >0.665</td>\n",
              "                        <td id=\"T_827502fa_57a9_11ea_b230_0242ac1c0002row3_col6\" class=\"data row3 col6\" >0.858</td>\n",
              "                        <td id=\"T_827502fa_57a9_11ea_b230_0242ac1c0002row3_col7\" class=\"data row3 col7\" >0.951</td>\n",
              "                        <td id=\"T_827502fa_57a9_11ea_b230_0242ac1c0002row3_col8\" class=\"data row3 col8\" >0.566</td>\n",
              "                        <td id=\"T_827502fa_57a9_11ea_b230_0242ac1c0002row3_col9\" class=\"data row3 col9\" >0.64</td>\n",
              "                        <td id=\"T_827502fa_57a9_11ea_b230_0242ac1c0002row3_col10\" class=\"data row3 col10\" >0.886</td>\n",
              "                        <td id=\"T_827502fa_57a9_11ea_b230_0242ac1c0002row3_col11\" class=\"data row3 col11\" >0.893</td>\n",
              "                        <td id=\"T_827502fa_57a9_11ea_b230_0242ac1c0002row3_col12\" class=\"data row3 col12\" >0.632</td>\n",
              "                        <td id=\"T_827502fa_57a9_11ea_b230_0242ac1c0002row3_col13\" class=\"data row3 col13\" >0.72</td>\n",
              "                        <td id=\"T_827502fa_57a9_11ea_b230_0242ac1c0002row3_col14\" class=\"data row3 col14\" >0.115</td>\n",
              "                        <td id=\"T_827502fa_57a9_11ea_b230_0242ac1c0002row3_col15\" class=\"data row3 col15\" >0.802</td>\n",
              "                        <td id=\"T_827502fa_57a9_11ea_b230_0242ac1c0002row3_col16\" class=\"data row3 col16\" >0.881</td>\n",
              "                        <td id=\"T_827502fa_57a9_11ea_b230_0242ac1c0002row3_col17\" class=\"data row3 col17\" >0.219</td>\n",
              "            </tr>\n",
              "            <tr>\n",
              "                        <th id=\"T_827502fa_57a9_11ea_b230_0242ac1c0002level0_row4\" class=\"row_heading level0 row4\" >2B</th>\n",
              "                        <td id=\"T_827502fa_57a9_11ea_b230_0242ac1c0002row4_col0\" class=\"data row4 col0\" >0.884</td>\n",
              "                        <td id=\"T_827502fa_57a9_11ea_b230_0242ac1c0002row4_col1\" class=\"data row4 col1\" >0.959</td>\n",
              "                        <td id=\"T_827502fa_57a9_11ea_b230_0242ac1c0002row4_col2\" class=\"data row4 col2\" >0.947</td>\n",
              "                        <td id=\"T_827502fa_57a9_11ea_b230_0242ac1c0002row4_col3\" class=\"data row4 col3\" >0.969</td>\n",
              "                        <td id=\"T_827502fa_57a9_11ea_b230_0242ac1c0002row4_col4\" class=\"data row4 col4\" >1</td>\n",
              "                        <td id=\"T_827502fa_57a9_11ea_b230_0242ac1c0002row4_col5\" class=\"data row4 col5\" >0.634</td>\n",
              "                        <td id=\"T_827502fa_57a9_11ea_b230_0242ac1c0002row4_col6\" class=\"data row4 col6\" >0.836</td>\n",
              "                        <td id=\"T_827502fa_57a9_11ea_b230_0242ac1c0002row4_col7\" class=\"data row4 col7\" >0.934</td>\n",
              "                        <td id=\"T_827502fa_57a9_11ea_b230_0242ac1c0002row4_col8\" class=\"data row4 col8\" >0.525</td>\n",
              "                        <td id=\"T_827502fa_57a9_11ea_b230_0242ac1c0002row4_col9\" class=\"data row4 col9\" >0.606</td>\n",
              "                        <td id=\"T_827502fa_57a9_11ea_b230_0242ac1c0002row4_col10\" class=\"data row4 col10\" >0.861</td>\n",
              "                        <td id=\"T_827502fa_57a9_11ea_b230_0242ac1c0002row4_col11\" class=\"data row4 col11\" >0.87</td>\n",
              "                        <td id=\"T_827502fa_57a9_11ea_b230_0242ac1c0002row4_col12\" class=\"data row4 col12\" >0.616</td>\n",
              "                        <td id=\"T_827502fa_57a9_11ea_b230_0242ac1c0002row4_col13\" class=\"data row4 col13\" >0.699</td>\n",
              "                        <td id=\"T_827502fa_57a9_11ea_b230_0242ac1c0002row4_col14\" class=\"data row4 col14\" >0.086</td>\n",
              "                        <td id=\"T_827502fa_57a9_11ea_b230_0242ac1c0002row4_col15\" class=\"data row4 col15\" >0.781</td>\n",
              "                        <td id=\"T_827502fa_57a9_11ea_b230_0242ac1c0002row4_col16\" class=\"data row4 col16\" >0.852</td>\n",
              "                        <td id=\"T_827502fa_57a9_11ea_b230_0242ac1c0002row4_col17\" class=\"data row4 col17\" >0.191</td>\n",
              "            </tr>\n",
              "            <tr>\n",
              "                        <th id=\"T_827502fa_57a9_11ea_b230_0242ac1c0002level0_row5\" class=\"row_heading level0 row5\" >3B</th>\n",
              "                        <td id=\"T_827502fa_57a9_11ea_b230_0242ac1c0002row5_col0\" class=\"data row5 col0\" >0.606</td>\n",
              "                        <td id=\"T_827502fa_57a9_11ea_b230_0242ac1c0002row5_col1\" class=\"data row5 col1\" >0.65</td>\n",
              "                        <td id=\"T_827502fa_57a9_11ea_b230_0242ac1c0002row5_col2\" class=\"data row5 col2\" >0.671</td>\n",
              "                        <td id=\"T_827502fa_57a9_11ea_b230_0242ac1c0002row5_col3\" class=\"data row5 col3\" >0.665</td>\n",
              "                        <td id=\"T_827502fa_57a9_11ea_b230_0242ac1c0002row5_col4\" class=\"data row5 col4\" >0.634</td>\n",
              "                        <td id=\"T_827502fa_57a9_11ea_b230_0242ac1c0002row5_col5\" class=\"data row5 col5\" >1</td>\n",
              "                        <td id=\"T_827502fa_57a9_11ea_b230_0242ac1c0002row5_col6\" class=\"data row5 col6\" >0.457</td>\n",
              "                        <td id=\"T_827502fa_57a9_11ea_b230_0242ac1c0002row5_col7\" class=\"data row5 col7\" >0.564</td>\n",
              "                        <td id=\"T_827502fa_57a9_11ea_b230_0242ac1c0002row5_col8\" class=\"data row5 col8\" >0.574</td>\n",
              "                        <td id=\"T_827502fa_57a9_11ea_b230_0242ac1c0002row5_col9\" class=\"data row5 col9\" >0.611</td>\n",
              "                        <td id=\"T_827502fa_57a9_11ea_b230_0242ac1c0002row5_col10\" class=\"data row5 col10\" >0.597</td>\n",
              "                        <td id=\"T_827502fa_57a9_11ea_b230_0242ac1c0002row5_col11\" class=\"data row5 col11\" >0.566</td>\n",
              "                        <td id=\"T_827502fa_57a9_11ea_b230_0242ac1c0002row5_col12\" class=\"data row5 col12\" >0.419</td>\n",
              "                        <td id=\"T_827502fa_57a9_11ea_b230_0242ac1c0002row5_col13\" class=\"data row5 col13\" >0.498</td>\n",
              "                        <td id=\"T_827502fa_57a9_11ea_b230_0242ac1c0002row5_col14\" class=\"data row5 col14\" >0.23</td>\n",
              "                        <td id=\"T_827502fa_57a9_11ea_b230_0242ac1c0002row5_col15\" class=\"data row5 col15\" >0.514</td>\n",
              "                        <td id=\"T_827502fa_57a9_11ea_b230_0242ac1c0002row5_col16\" class=\"data row5 col16\" >0.461</td>\n",
              "                        <td id=\"T_827502fa_57a9_11ea_b230_0242ac1c0002row5_col17\" class=\"data row5 col17\" >0.0154</td>\n",
              "            </tr>\n",
              "            <tr>\n",
              "                        <th id=\"T_827502fa_57a9_11ea_b230_0242ac1c0002level0_row6\" class=\"row_heading level0 row6\" >HR</th>\n",
              "                        <td id=\"T_827502fa_57a9_11ea_b230_0242ac1c0002row6_col0\" class=\"data row6 col0\" >0.806</td>\n",
              "                        <td id=\"T_827502fa_57a9_11ea_b230_0242ac1c0002row6_col1\" class=\"data row6 col1\" >0.868</td>\n",
              "                        <td id=\"T_827502fa_57a9_11ea_b230_0242ac1c0002row6_col2\" class=\"data row6 col2\" >0.892</td>\n",
              "                        <td id=\"T_827502fa_57a9_11ea_b230_0242ac1c0002row6_col3\" class=\"data row6 col3\" >0.858</td>\n",
              "                        <td id=\"T_827502fa_57a9_11ea_b230_0242ac1c0002row6_col4\" class=\"data row6 col4\" >0.836</td>\n",
              "                        <td id=\"T_827502fa_57a9_11ea_b230_0242ac1c0002row6_col5\" class=\"data row6 col5\" >0.457</td>\n",
              "                        <td id=\"T_827502fa_57a9_11ea_b230_0242ac1c0002row6_col6\" class=\"data row6 col6\" >1</td>\n",
              "                        <td id=\"T_827502fa_57a9_11ea_b230_0242ac1c0002row6_col7\" class=\"data row6 col7\" >0.946</td>\n",
              "                        <td id=\"T_827502fa_57a9_11ea_b230_0242ac1c0002row6_col8\" class=\"data row6 col8\" >0.355</td>\n",
              "                        <td id=\"T_827502fa_57a9_11ea_b230_0242ac1c0002row6_col9\" class=\"data row6 col9\" >0.426</td>\n",
              "                        <td id=\"T_827502fa_57a9_11ea_b230_0242ac1c0002row6_col10\" class=\"data row6 col10\" >0.845</td>\n",
              "                        <td id=\"T_827502fa_57a9_11ea_b230_0242ac1c0002row6_col11\" class=\"data row6 col11\" >0.883</td>\n",
              "                        <td id=\"T_827502fa_57a9_11ea_b230_0242ac1c0002row6_col12\" class=\"data row6 col12\" >0.633</td>\n",
              "                        <td id=\"T_827502fa_57a9_11ea_b230_0242ac1c0002row6_col13\" class=\"data row6 col13\" >0.657</td>\n",
              "                        <td id=\"T_827502fa_57a9_11ea_b230_0242ac1c0002row6_col14\" class=\"data row6 col14\" >-0.0587</td>\n",
              "                        <td id=\"T_827502fa_57a9_11ea_b230_0242ac1c0002row6_col15\" class=\"data row6 col15\" >0.725</td>\n",
              "                        <td id=\"T_827502fa_57a9_11ea_b230_0242ac1c0002row6_col16\" class=\"data row6 col16\" >0.775</td>\n",
              "                        <td id=\"T_827502fa_57a9_11ea_b230_0242ac1c0002row6_col17\" class=\"data row6 col17\" >0.247</td>\n",
              "            </tr>\n",
              "            <tr>\n",
              "                        <th id=\"T_827502fa_57a9_11ea_b230_0242ac1c0002level0_row7\" class=\"row_heading level0 row7\" >RBI</th>\n",
              "                        <td id=\"T_827502fa_57a9_11ea_b230_0242ac1c0002row7_col0\" class=\"data row7 col0\" >0.88</td>\n",
              "                        <td id=\"T_827502fa_57a9_11ea_b230_0242ac1c0002row7_col1\" class=\"data row7 col1\" >0.951</td>\n",
              "                        <td id=\"T_827502fa_57a9_11ea_b230_0242ac1c0002row7_col2\" class=\"data row7 col2\" >0.95</td>\n",
              "                        <td id=\"T_827502fa_57a9_11ea_b230_0242ac1c0002row7_col3\" class=\"data row7 col3\" >0.951</td>\n",
              "                        <td id=\"T_827502fa_57a9_11ea_b230_0242ac1c0002row7_col4\" class=\"data row7 col4\" >0.934</td>\n",
              "                        <td id=\"T_827502fa_57a9_11ea_b230_0242ac1c0002row7_col5\" class=\"data row7 col5\" >0.564</td>\n",
              "                        <td id=\"T_827502fa_57a9_11ea_b230_0242ac1c0002row7_col6\" class=\"data row7 col6\" >0.946</td>\n",
              "                        <td id=\"T_827502fa_57a9_11ea_b230_0242ac1c0002row7_col7\" class=\"data row7 col7\" >1</td>\n",
              "                        <td id=\"T_827502fa_57a9_11ea_b230_0242ac1c0002row7_col8\" class=\"data row7 col8\" >0.444</td>\n",
              "                        <td id=\"T_827502fa_57a9_11ea_b230_0242ac1c0002row7_col9\" class=\"data row7 col9\" >0.513</td>\n",
              "                        <td id=\"T_827502fa_57a9_11ea_b230_0242ac1c0002row7_col10\" class=\"data row7 col10\" >0.893</td>\n",
              "                        <td id=\"T_827502fa_57a9_11ea_b230_0242ac1c0002row7_col11\" class=\"data row7 col11\" >0.9</td>\n",
              "                        <td id=\"T_827502fa_57a9_11ea_b230_0242ac1c0002row7_col12\" class=\"data row7 col12\" >0.676</td>\n",
              "                        <td id=\"T_827502fa_57a9_11ea_b230_0242ac1c0002row7_col13\" class=\"data row7 col13\" >0.698</td>\n",
              "                        <td id=\"T_827502fa_57a9_11ea_b230_0242ac1c0002row7_col14\" class=\"data row7 col14\" >0.0164</td>\n",
              "                        <td id=\"T_827502fa_57a9_11ea_b230_0242ac1c0002row7_col15\" class=\"data row7 col15\" >0.822</td>\n",
              "                        <td id=\"T_827502fa_57a9_11ea_b230_0242ac1c0002row7_col16\" class=\"data row7 col16\" >0.871</td>\n",
              "                        <td id=\"T_827502fa_57a9_11ea_b230_0242ac1c0002row7_col17\" class=\"data row7 col17\" >0.255</td>\n",
              "            </tr>\n",
              "            <tr>\n",
              "                        <th id=\"T_827502fa_57a9_11ea_b230_0242ac1c0002level0_row8\" class=\"row_heading level0 row8\" >SB</th>\n",
              "                        <td id=\"T_827502fa_57a9_11ea_b230_0242ac1c0002row8_col0\" class=\"data row8 col0\" >0.508</td>\n",
              "                        <td id=\"T_827502fa_57a9_11ea_b230_0242ac1c0002row8_col1\" class=\"data row8 col1\" >0.552</td>\n",
              "                        <td id=\"T_827502fa_57a9_11ea_b230_0242ac1c0002row8_col2\" class=\"data row8 col2\" >0.589</td>\n",
              "                        <td id=\"T_827502fa_57a9_11ea_b230_0242ac1c0002row8_col3\" class=\"data row8 col3\" >0.566</td>\n",
              "                        <td id=\"T_827502fa_57a9_11ea_b230_0242ac1c0002row8_col4\" class=\"data row8 col4\" >0.525</td>\n",
              "                        <td id=\"T_827502fa_57a9_11ea_b230_0242ac1c0002row8_col5\" class=\"data row8 col5\" >0.574</td>\n",
              "                        <td id=\"T_827502fa_57a9_11ea_b230_0242ac1c0002row8_col6\" class=\"data row8 col6\" >0.355</td>\n",
              "                        <td id=\"T_827502fa_57a9_11ea_b230_0242ac1c0002row8_col7\" class=\"data row8 col7\" >0.444</td>\n",
              "                        <td id=\"T_827502fa_57a9_11ea_b230_0242ac1c0002row8_col8\" class=\"data row8 col8\" >1</td>\n",
              "                        <td id=\"T_827502fa_57a9_11ea_b230_0242ac1c0002row8_col9\" class=\"data row8 col9\" >0.817</td>\n",
              "                        <td id=\"T_827502fa_57a9_11ea_b230_0242ac1c0002row8_col10\" class=\"data row8 col10\" >0.496</td>\n",
              "                        <td id=\"T_827502fa_57a9_11ea_b230_0242ac1c0002row8_col11\" class=\"data row8 col11\" >0.5</td>\n",
              "                        <td id=\"T_827502fa_57a9_11ea_b230_0242ac1c0002row8_col12\" class=\"data row8 col12\" >0.308</td>\n",
              "                        <td id=\"T_827502fa_57a9_11ea_b230_0242ac1c0002row8_col13\" class=\"data row8 col13\" >0.409</td>\n",
              "                        <td id=\"T_827502fa_57a9_11ea_b230_0242ac1c0002row8_col14\" class=\"data row8 col14\" >0.259</td>\n",
              "                        <td id=\"T_827502fa_57a9_11ea_b230_0242ac1c0002row8_col15\" class=\"data row8 col15\" >0.411</td>\n",
              "                        <td id=\"T_827502fa_57a9_11ea_b230_0242ac1c0002row8_col16\" class=\"data row8 col16\" >0.382</td>\n",
              "                        <td id=\"T_827502fa_57a9_11ea_b230_0242ac1c0002row8_col17\" class=\"data row8 col17\" >0.0142</td>\n",
              "            </tr>\n",
              "            <tr>\n",
              "                        <th id=\"T_827502fa_57a9_11ea_b230_0242ac1c0002level0_row9\" class=\"row_heading level0 row9\" >CS</th>\n",
              "                        <td id=\"T_827502fa_57a9_11ea_b230_0242ac1c0002row9_col0\" class=\"data row9 col0\" >0.578</td>\n",
              "                        <td id=\"T_827502fa_57a9_11ea_b230_0242ac1c0002row9_col1\" class=\"data row9 col1\" >0.627</td>\n",
              "                        <td id=\"T_827502fa_57a9_11ea_b230_0242ac1c0002row9_col2\" class=\"data row9 col2\" >0.655</td>\n",
              "                        <td id=\"T_827502fa_57a9_11ea_b230_0242ac1c0002row9_col3\" class=\"data row9 col3\" >0.64</td>\n",
              "                        <td id=\"T_827502fa_57a9_11ea_b230_0242ac1c0002row9_col4\" class=\"data row9 col4\" >0.606</td>\n",
              "                        <td id=\"T_827502fa_57a9_11ea_b230_0242ac1c0002row9_col5\" class=\"data row9 col5\" >0.611</td>\n",
              "                        <td id=\"T_827502fa_57a9_11ea_b230_0242ac1c0002row9_col6\" class=\"data row9 col6\" >0.426</td>\n",
              "                        <td id=\"T_827502fa_57a9_11ea_b230_0242ac1c0002row9_col7\" class=\"data row9 col7\" >0.513</td>\n",
              "                        <td id=\"T_827502fa_57a9_11ea_b230_0242ac1c0002row9_col8\" class=\"data row9 col8\" >0.817</td>\n",
              "                        <td id=\"T_827502fa_57a9_11ea_b230_0242ac1c0002row9_col9\" class=\"data row9 col9\" >1</td>\n",
              "                        <td id=\"T_827502fa_57a9_11ea_b230_0242ac1c0002row9_col10\" class=\"data row9 col10\" >0.564</td>\n",
              "                        <td id=\"T_827502fa_57a9_11ea_b230_0242ac1c0002row9_col11\" class=\"data row9 col11\" >0.569</td>\n",
              "                        <td id=\"T_827502fa_57a9_11ea_b230_0242ac1c0002row9_col12\" class=\"data row9 col12\" >0.32</td>\n",
              "                        <td id=\"T_827502fa_57a9_11ea_b230_0242ac1c0002row9_col13\" class=\"data row9 col13\" >0.469</td>\n",
              "                        <td id=\"T_827502fa_57a9_11ea_b230_0242ac1c0002row9_col14\" class=\"data row9 col14\" >0.24</td>\n",
              "                        <td id=\"T_827502fa_57a9_11ea_b230_0242ac1c0002row9_col15\" class=\"data row9 col15\" >0.424</td>\n",
              "                        <td id=\"T_827502fa_57a9_11ea_b230_0242ac1c0002row9_col16\" class=\"data row9 col16\" >0.446</td>\n",
              "                        <td id=\"T_827502fa_57a9_11ea_b230_0242ac1c0002row9_col17\" class=\"data row9 col17\" >-0.0026</td>\n",
              "            </tr>\n",
              "            <tr>\n",
              "                        <th id=\"T_827502fa_57a9_11ea_b230_0242ac1c0002level0_row10\" class=\"row_heading level0 row10\" >BB</th>\n",
              "                        <td id=\"T_827502fa_57a9_11ea_b230_0242ac1c0002row10_col0\" class=\"data row10 col0\" >0.848</td>\n",
              "                        <td id=\"T_827502fa_57a9_11ea_b230_0242ac1c0002row10_col1\" class=\"data row10 col1\" >0.897</td>\n",
              "                        <td id=\"T_827502fa_57a9_11ea_b230_0242ac1c0002row10_col2\" class=\"data row10 col2\" >0.92</td>\n",
              "                        <td id=\"T_827502fa_57a9_11ea_b230_0242ac1c0002row10_col3\" class=\"data row10 col3\" >0.886</td>\n",
              "                        <td id=\"T_827502fa_57a9_11ea_b230_0242ac1c0002row10_col4\" class=\"data row10 col4\" >0.861</td>\n",
              "                        <td id=\"T_827502fa_57a9_11ea_b230_0242ac1c0002row10_col5\" class=\"data row10 col5\" >0.597</td>\n",
              "                        <td id=\"T_827502fa_57a9_11ea_b230_0242ac1c0002row10_col6\" class=\"data row10 col6\" >0.845</td>\n",
              "                        <td id=\"T_827502fa_57a9_11ea_b230_0242ac1c0002row10_col7\" class=\"data row10 col7\" >0.893</td>\n",
              "                        <td id=\"T_827502fa_57a9_11ea_b230_0242ac1c0002row10_col8\" class=\"data row10 col8\" >0.496</td>\n",
              "                        <td id=\"T_827502fa_57a9_11ea_b230_0242ac1c0002row10_col9\" class=\"data row10 col9\" >0.564</td>\n",
              "                        <td id=\"T_827502fa_57a9_11ea_b230_0242ac1c0002row10_col10\" class=\"data row10 col10\" >1</td>\n",
              "                        <td id=\"T_827502fa_57a9_11ea_b230_0242ac1c0002row10_col11\" class=\"data row10 col11\" >0.882</td>\n",
              "                        <td id=\"T_827502fa_57a9_11ea_b230_0242ac1c0002row10_col12\" class=\"data row10 col12\" >0.692</td>\n",
              "                        <td id=\"T_827502fa_57a9_11ea_b230_0242ac1c0002row10_col13\" class=\"data row10 col13\" >0.672</td>\n",
              "                        <td id=\"T_827502fa_57a9_11ea_b230_0242ac1c0002row10_col14\" class=\"data row10 col14\" >0.0488</td>\n",
              "                        <td id=\"T_827502fa_57a9_11ea_b230_0242ac1c0002row10_col15\" class=\"data row10 col15\" >0.762</td>\n",
              "                        <td id=\"T_827502fa_57a9_11ea_b230_0242ac1c0002row10_col16\" class=\"data row10 col16\" >0.794</td>\n",
              "                        <td id=\"T_827502fa_57a9_11ea_b230_0242ac1c0002row10_col17\" class=\"data row10 col17\" >0.249</td>\n",
              "            </tr>\n",
              "            <tr>\n",
              "                        <th id=\"T_827502fa_57a9_11ea_b230_0242ac1c0002level0_row11\" class=\"row_heading level0 row11\" >SO</th>\n",
              "                        <td id=\"T_827502fa_57a9_11ea_b230_0242ac1c0002row11_col0\" class=\"data row11 col0\" >0.869</td>\n",
              "                        <td id=\"T_827502fa_57a9_11ea_b230_0242ac1c0002row11_col1\" class=\"data row11 col1\" >0.93</td>\n",
              "                        <td id=\"T_827502fa_57a9_11ea_b230_0242ac1c0002row11_col2\" class=\"data row11 col2\" >0.909</td>\n",
              "                        <td id=\"T_827502fa_57a9_11ea_b230_0242ac1c0002row11_col3\" class=\"data row11 col3\" >0.893</td>\n",
              "                        <td id=\"T_827502fa_57a9_11ea_b230_0242ac1c0002row11_col4\" class=\"data row11 col4\" >0.87</td>\n",
              "                        <td id=\"T_827502fa_57a9_11ea_b230_0242ac1c0002row11_col5\" class=\"data row11 col5\" >0.566</td>\n",
              "                        <td id=\"T_827502fa_57a9_11ea_b230_0242ac1c0002row11_col6\" class=\"data row11 col6\" >0.883</td>\n",
              "                        <td id=\"T_827502fa_57a9_11ea_b230_0242ac1c0002row11_col7\" class=\"data row11 col7\" >0.9</td>\n",
              "                        <td id=\"T_827502fa_57a9_11ea_b230_0242ac1c0002row11_col8\" class=\"data row11 col8\" >0.5</td>\n",
              "                        <td id=\"T_827502fa_57a9_11ea_b230_0242ac1c0002row11_col9\" class=\"data row11 col9\" >0.569</td>\n",
              "                        <td id=\"T_827502fa_57a9_11ea_b230_0242ac1c0002row11_col10\" class=\"data row11 col10\" >0.882</td>\n",
              "                        <td id=\"T_827502fa_57a9_11ea_b230_0242ac1c0002row11_col11\" class=\"data row11 col11\" >1</td>\n",
              "                        <td id=\"T_827502fa_57a9_11ea_b230_0242ac1c0002row11_col12\" class=\"data row11 col12\" >0.556</td>\n",
              "                        <td id=\"T_827502fa_57a9_11ea_b230_0242ac1c0002row11_col13\" class=\"data row11 col13\" >0.708</td>\n",
              "                        <td id=\"T_827502fa_57a9_11ea_b230_0242ac1c0002row11_col14\" class=\"data row11 col14\" >0.104</td>\n",
              "                        <td id=\"T_827502fa_57a9_11ea_b230_0242ac1c0002row11_col15\" class=\"data row11 col15\" >0.722</td>\n",
              "                        <td id=\"T_827502fa_57a9_11ea_b230_0242ac1c0002row11_col16\" class=\"data row11 col16\" >0.783</td>\n",
              "                        <td id=\"T_827502fa_57a9_11ea_b230_0242ac1c0002row11_col17\" class=\"data row11 col17\" >0.168</td>\n",
              "            </tr>\n",
              "            <tr>\n",
              "                        <th id=\"T_827502fa_57a9_11ea_b230_0242ac1c0002level0_row12\" class=\"row_heading level0 row12\" >IBB</th>\n",
              "                        <td id=\"T_827502fa_57a9_11ea_b230_0242ac1c0002row12_col0\" class=\"data row12 col0\" >0.581</td>\n",
              "                        <td id=\"T_827502fa_57a9_11ea_b230_0242ac1c0002row12_col1\" class=\"data row12 col1\" >0.614</td>\n",
              "                        <td id=\"T_827502fa_57a9_11ea_b230_0242ac1c0002row12_col2\" class=\"data row12 col2\" >0.631</td>\n",
              "                        <td id=\"T_827502fa_57a9_11ea_b230_0242ac1c0002row12_col3\" class=\"data row12 col3\" >0.632</td>\n",
              "                        <td id=\"T_827502fa_57a9_11ea_b230_0242ac1c0002row12_col4\" class=\"data row12 col4\" >0.616</td>\n",
              "                        <td id=\"T_827502fa_57a9_11ea_b230_0242ac1c0002row12_col5\" class=\"data row12 col5\" >0.419</td>\n",
              "                        <td id=\"T_827502fa_57a9_11ea_b230_0242ac1c0002row12_col6\" class=\"data row12 col6\" >0.633</td>\n",
              "                        <td id=\"T_827502fa_57a9_11ea_b230_0242ac1c0002row12_col7\" class=\"data row12 col7\" >0.676</td>\n",
              "                        <td id=\"T_827502fa_57a9_11ea_b230_0242ac1c0002row12_col8\" class=\"data row12 col8\" >0.308</td>\n",
              "                        <td id=\"T_827502fa_57a9_11ea_b230_0242ac1c0002row12_col9\" class=\"data row12 col9\" >0.32</td>\n",
              "                        <td id=\"T_827502fa_57a9_11ea_b230_0242ac1c0002row12_col10\" class=\"data row12 col10\" >0.692</td>\n",
              "                        <td id=\"T_827502fa_57a9_11ea_b230_0242ac1c0002row12_col11\" class=\"data row12 col11\" >0.556</td>\n",
              "                        <td id=\"T_827502fa_57a9_11ea_b230_0242ac1c0002row12_col12\" class=\"data row12 col12\" >1</td>\n",
              "                        <td id=\"T_827502fa_57a9_11ea_b230_0242ac1c0002row12_col13\" class=\"data row12 col13\" >0.48</td>\n",
              "                        <td id=\"T_827502fa_57a9_11ea_b230_0242ac1c0002row12_col14\" class=\"data row12 col14\" >0.00702</td>\n",
              "                        <td id=\"T_827502fa_57a9_11ea_b230_0242ac1c0002row12_col15\" class=\"data row12 col15\" >0.593</td>\n",
              "                        <td id=\"T_827502fa_57a9_11ea_b230_0242ac1c0002row12_col16\" class=\"data row12 col16\" >0.574</td>\n",
              "                        <td id=\"T_827502fa_57a9_11ea_b230_0242ac1c0002row12_col17\" class=\"data row12 col17\" >0.244</td>\n",
              "            </tr>\n",
              "            <tr>\n",
              "                        <th id=\"T_827502fa_57a9_11ea_b230_0242ac1c0002level0_row13\" class=\"row_heading level0 row13\" >HBP</th>\n",
              "                        <td id=\"T_827502fa_57a9_11ea_b230_0242ac1c0002row13_col0\" class=\"data row13 col0\" >0.688</td>\n",
              "                        <td id=\"T_827502fa_57a9_11ea_b230_0242ac1c0002row13_col1\" class=\"data row13 col1\" >0.725</td>\n",
              "                        <td id=\"T_827502fa_57a9_11ea_b230_0242ac1c0002row13_col2\" class=\"data row13 col2\" >0.732</td>\n",
              "                        <td id=\"T_827502fa_57a9_11ea_b230_0242ac1c0002row13_col3\" class=\"data row13 col3\" >0.72</td>\n",
              "                        <td id=\"T_827502fa_57a9_11ea_b230_0242ac1c0002row13_col4\" class=\"data row13 col4\" >0.699</td>\n",
              "                        <td id=\"T_827502fa_57a9_11ea_b230_0242ac1c0002row13_col5\" class=\"data row13 col5\" >0.498</td>\n",
              "                        <td id=\"T_827502fa_57a9_11ea_b230_0242ac1c0002row13_col6\" class=\"data row13 col6\" >0.657</td>\n",
              "                        <td id=\"T_827502fa_57a9_11ea_b230_0242ac1c0002row13_col7\" class=\"data row13 col7\" >0.698</td>\n",
              "                        <td id=\"T_827502fa_57a9_11ea_b230_0242ac1c0002row13_col8\" class=\"data row13 col8\" >0.409</td>\n",
              "                        <td id=\"T_827502fa_57a9_11ea_b230_0242ac1c0002row13_col9\" class=\"data row13 col9\" >0.469</td>\n",
              "                        <td id=\"T_827502fa_57a9_11ea_b230_0242ac1c0002row13_col10\" class=\"data row13 col10\" >0.672</td>\n",
              "                        <td id=\"T_827502fa_57a9_11ea_b230_0242ac1c0002row13_col11\" class=\"data row13 col11\" >0.708</td>\n",
              "                        <td id=\"T_827502fa_57a9_11ea_b230_0242ac1c0002row13_col12\" class=\"data row13 col12\" >0.48</td>\n",
              "                        <td id=\"T_827502fa_57a9_11ea_b230_0242ac1c0002row13_col13\" class=\"data row13 col13\" >1</td>\n",
              "                        <td id=\"T_827502fa_57a9_11ea_b230_0242ac1c0002row13_col14\" class=\"data row13 col14\" >0.0553</td>\n",
              "                        <td id=\"T_827502fa_57a9_11ea_b230_0242ac1c0002row13_col15\" class=\"data row13 col15\" >0.573</td>\n",
              "                        <td id=\"T_827502fa_57a9_11ea_b230_0242ac1c0002row13_col16\" class=\"data row13 col16\" >0.573</td>\n",
              "                        <td id=\"T_827502fa_57a9_11ea_b230_0242ac1c0002row13_col17\" class=\"data row13 col17\" >0.114</td>\n",
              "            </tr>\n",
              "            <tr>\n",
              "                        <th id=\"T_827502fa_57a9_11ea_b230_0242ac1c0002level0_row14\" class=\"row_heading level0 row14\" >SH</th>\n",
              "                        <td id=\"T_827502fa_57a9_11ea_b230_0242ac1c0002row14_col0\" class=\"data row14 col0\" >0.0928</td>\n",
              "                        <td id=\"T_827502fa_57a9_11ea_b230_0242ac1c0002row14_col1\" class=\"data row14 col1\" >0.131</td>\n",
              "                        <td id=\"T_827502fa_57a9_11ea_b230_0242ac1c0002row14_col2\" class=\"data row14 col2\" >0.0952</td>\n",
              "                        <td id=\"T_827502fa_57a9_11ea_b230_0242ac1c0002row14_col3\" class=\"data row14 col3\" >0.115</td>\n",
              "                        <td id=\"T_827502fa_57a9_11ea_b230_0242ac1c0002row14_col4\" class=\"data row14 col4\" >0.086</td>\n",
              "                        <td id=\"T_827502fa_57a9_11ea_b230_0242ac1c0002row14_col5\" class=\"data row14 col5\" >0.23</td>\n",
              "                        <td id=\"T_827502fa_57a9_11ea_b230_0242ac1c0002row14_col6\" class=\"data row14 col6\" >-0.0587</td>\n",
              "                        <td id=\"T_827502fa_57a9_11ea_b230_0242ac1c0002row14_col7\" class=\"data row14 col7\" >0.0164</td>\n",
              "                        <td id=\"T_827502fa_57a9_11ea_b230_0242ac1c0002row14_col8\" class=\"data row14 col8\" >0.259</td>\n",
              "                        <td id=\"T_827502fa_57a9_11ea_b230_0242ac1c0002row14_col9\" class=\"data row14 col9\" >0.24</td>\n",
              "                        <td id=\"T_827502fa_57a9_11ea_b230_0242ac1c0002row14_col10\" class=\"data row14 col10\" >0.0488</td>\n",
              "                        <td id=\"T_827502fa_57a9_11ea_b230_0242ac1c0002row14_col11\" class=\"data row14 col11\" >0.104</td>\n",
              "                        <td id=\"T_827502fa_57a9_11ea_b230_0242ac1c0002row14_col12\" class=\"data row14 col12\" >0.00702</td>\n",
              "                        <td id=\"T_827502fa_57a9_11ea_b230_0242ac1c0002row14_col13\" class=\"data row14 col13\" >0.0553</td>\n",
              "                        <td id=\"T_827502fa_57a9_11ea_b230_0242ac1c0002row14_col14\" class=\"data row14 col14\" >1</td>\n",
              "                        <td id=\"T_827502fa_57a9_11ea_b230_0242ac1c0002row14_col15\" class=\"data row14 col15\" >0.0695</td>\n",
              "                        <td id=\"T_827502fa_57a9_11ea_b230_0242ac1c0002row14_col16\" class=\"data row14 col16\" >0.0785</td>\n",
              "                        <td id=\"T_827502fa_57a9_11ea_b230_0242ac1c0002row14_col17\" class=\"data row14 col17\" >0.0156</td>\n",
              "            </tr>\n",
              "            <tr>\n",
              "                        <th id=\"T_827502fa_57a9_11ea_b230_0242ac1c0002level0_row15\" class=\"row_heading level0 row15\" >SF</th>\n",
              "                        <td id=\"T_827502fa_57a9_11ea_b230_0242ac1c0002row15_col0\" class=\"data row15 col0\" >0.744</td>\n",
              "                        <td id=\"T_827502fa_57a9_11ea_b230_0242ac1c0002row15_col1\" class=\"data row15 col1\" >0.802</td>\n",
              "                        <td id=\"T_827502fa_57a9_11ea_b230_0242ac1c0002row15_col2\" class=\"data row15 col2\" >0.791</td>\n",
              "                        <td id=\"T_827502fa_57a9_11ea_b230_0242ac1c0002row15_col3\" class=\"data row15 col3\" >0.802</td>\n",
              "                        <td id=\"T_827502fa_57a9_11ea_b230_0242ac1c0002row15_col4\" class=\"data row15 col4\" >0.781</td>\n",
              "                        <td id=\"T_827502fa_57a9_11ea_b230_0242ac1c0002row15_col5\" class=\"data row15 col5\" >0.514</td>\n",
              "                        <td id=\"T_827502fa_57a9_11ea_b230_0242ac1c0002row15_col6\" class=\"data row15 col6\" >0.725</td>\n",
              "                        <td id=\"T_827502fa_57a9_11ea_b230_0242ac1c0002row15_col7\" class=\"data row15 col7\" >0.822</td>\n",
              "                        <td id=\"T_827502fa_57a9_11ea_b230_0242ac1c0002row15_col8\" class=\"data row15 col8\" >0.411</td>\n",
              "                        <td id=\"T_827502fa_57a9_11ea_b230_0242ac1c0002row15_col9\" class=\"data row15 col9\" >0.424</td>\n",
              "                        <td id=\"T_827502fa_57a9_11ea_b230_0242ac1c0002row15_col10\" class=\"data row15 col10\" >0.762</td>\n",
              "                        <td id=\"T_827502fa_57a9_11ea_b230_0242ac1c0002row15_col11\" class=\"data row15 col11\" >0.722</td>\n",
              "                        <td id=\"T_827502fa_57a9_11ea_b230_0242ac1c0002row15_col12\" class=\"data row15 col12\" >0.593</td>\n",
              "                        <td id=\"T_827502fa_57a9_11ea_b230_0242ac1c0002row15_col13\" class=\"data row15 col13\" >0.573</td>\n",
              "                        <td id=\"T_827502fa_57a9_11ea_b230_0242ac1c0002row15_col14\" class=\"data row15 col14\" >0.0695</td>\n",
              "                        <td id=\"T_827502fa_57a9_11ea_b230_0242ac1c0002row15_col15\" class=\"data row15 col15\" >1</td>\n",
              "                        <td id=\"T_827502fa_57a9_11ea_b230_0242ac1c0002row15_col16\" class=\"data row15 col16\" >0.762</td>\n",
              "                        <td id=\"T_827502fa_57a9_11ea_b230_0242ac1c0002row15_col17\" class=\"data row15 col17\" >0.228</td>\n",
              "            </tr>\n",
              "            <tr>\n",
              "                        <th id=\"T_827502fa_57a9_11ea_b230_0242ac1c0002level0_row16\" class=\"row_heading level0 row16\" >GIDP</th>\n",
              "                        <td id=\"T_827502fa_57a9_11ea_b230_0242ac1c0002row16_col0\" class=\"data row16 col0\" >0.822</td>\n",
              "                        <td id=\"T_827502fa_57a9_11ea_b230_0242ac1c0002row16_col1\" class=\"data row16 col1\" >0.886</td>\n",
              "                        <td id=\"T_827502fa_57a9_11ea_b230_0242ac1c0002row16_col2\" class=\"data row16 col2\" >0.841</td>\n",
              "                        <td id=\"T_827502fa_57a9_11ea_b230_0242ac1c0002row16_col3\" class=\"data row16 col3\" >0.881</td>\n",
              "                        <td id=\"T_827502fa_57a9_11ea_b230_0242ac1c0002row16_col4\" class=\"data row16 col4\" >0.852</td>\n",
              "                        <td id=\"T_827502fa_57a9_11ea_b230_0242ac1c0002row16_col5\" class=\"data row16 col5\" >0.461</td>\n",
              "                        <td id=\"T_827502fa_57a9_11ea_b230_0242ac1c0002row16_col6\" class=\"data row16 col6\" >0.775</td>\n",
              "                        <td id=\"T_827502fa_57a9_11ea_b230_0242ac1c0002row16_col7\" class=\"data row16 col7\" >0.871</td>\n",
              "                        <td id=\"T_827502fa_57a9_11ea_b230_0242ac1c0002row16_col8\" class=\"data row16 col8\" >0.382</td>\n",
              "                        <td id=\"T_827502fa_57a9_11ea_b230_0242ac1c0002row16_col9\" class=\"data row16 col9\" >0.446</td>\n",
              "                        <td id=\"T_827502fa_57a9_11ea_b230_0242ac1c0002row16_col10\" class=\"data row16 col10\" >0.794</td>\n",
              "                        <td id=\"T_827502fa_57a9_11ea_b230_0242ac1c0002row16_col11\" class=\"data row16 col11\" >0.783</td>\n",
              "                        <td id=\"T_827502fa_57a9_11ea_b230_0242ac1c0002row16_col12\" class=\"data row16 col12\" >0.574</td>\n",
              "                        <td id=\"T_827502fa_57a9_11ea_b230_0242ac1c0002row16_col13\" class=\"data row16 col13\" >0.573</td>\n",
              "                        <td id=\"T_827502fa_57a9_11ea_b230_0242ac1c0002row16_col14\" class=\"data row16 col14\" >0.0785</td>\n",
              "                        <td id=\"T_827502fa_57a9_11ea_b230_0242ac1c0002row16_col15\" class=\"data row16 col15\" >0.762</td>\n",
              "                        <td id=\"T_827502fa_57a9_11ea_b230_0242ac1c0002row16_col16\" class=\"data row16 col16\" >1</td>\n",
              "                        <td id=\"T_827502fa_57a9_11ea_b230_0242ac1c0002row16_col17\" class=\"data row16 col17\" >0.271</td>\n",
              "            </tr>\n",
              "            <tr>\n",
              "                        <th id=\"T_827502fa_57a9_11ea_b230_0242ac1c0002level0_row17\" class=\"row_heading level0 row17\" >salary</th>\n",
              "                        <td id=\"T_827502fa_57a9_11ea_b230_0242ac1c0002row17_col0\" class=\"data row17 col0\" >0.15</td>\n",
              "                        <td id=\"T_827502fa_57a9_11ea_b230_0242ac1c0002row17_col1\" class=\"data row17 col1\" >0.214</td>\n",
              "                        <td id=\"T_827502fa_57a9_11ea_b230_0242ac1c0002row17_col2\" class=\"data row17 col2\" >0.216</td>\n",
              "                        <td id=\"T_827502fa_57a9_11ea_b230_0242ac1c0002row17_col3\" class=\"data row17 col3\" >0.219</td>\n",
              "                        <td id=\"T_827502fa_57a9_11ea_b230_0242ac1c0002row17_col4\" class=\"data row17 col4\" >0.191</td>\n",
              "                        <td id=\"T_827502fa_57a9_11ea_b230_0242ac1c0002row17_col5\" class=\"data row17 col5\" >0.0154</td>\n",
              "                        <td id=\"T_827502fa_57a9_11ea_b230_0242ac1c0002row17_col6\" class=\"data row17 col6\" >0.247</td>\n",
              "                        <td id=\"T_827502fa_57a9_11ea_b230_0242ac1c0002row17_col7\" class=\"data row17 col7\" >0.255</td>\n",
              "                        <td id=\"T_827502fa_57a9_11ea_b230_0242ac1c0002row17_col8\" class=\"data row17 col8\" >0.0142</td>\n",
              "                        <td id=\"T_827502fa_57a9_11ea_b230_0242ac1c0002row17_col9\" class=\"data row17 col9\" >-0.0026</td>\n",
              "                        <td id=\"T_827502fa_57a9_11ea_b230_0242ac1c0002row17_col10\" class=\"data row17 col10\" >0.249</td>\n",
              "                        <td id=\"T_827502fa_57a9_11ea_b230_0242ac1c0002row17_col11\" class=\"data row17 col11\" >0.168</td>\n",
              "                        <td id=\"T_827502fa_57a9_11ea_b230_0242ac1c0002row17_col12\" class=\"data row17 col12\" >0.244</td>\n",
              "                        <td id=\"T_827502fa_57a9_11ea_b230_0242ac1c0002row17_col13\" class=\"data row17 col13\" >0.114</td>\n",
              "                        <td id=\"T_827502fa_57a9_11ea_b230_0242ac1c0002row17_col14\" class=\"data row17 col14\" >0.0156</td>\n",
              "                        <td id=\"T_827502fa_57a9_11ea_b230_0242ac1c0002row17_col15\" class=\"data row17 col15\" >0.228</td>\n",
              "                        <td id=\"T_827502fa_57a9_11ea_b230_0242ac1c0002row17_col16\" class=\"data row17 col16\" >0.271</td>\n",
              "                        <td id=\"T_827502fa_57a9_11ea_b230_0242ac1c0002row17_col17\" class=\"data row17 col17\" >1</td>\n",
              "            </tr>\n",
              "    </tbody></table>"
            ],
            "text/plain": [
              "<pandas.io.formats.style.Styler at 0x7f8533df88d0>"
            ]
          },
          "metadata": {
            "tags": []
          },
          "execution_count": 98
        }
      ]
    },
    {
      "cell_type": "code",
      "metadata": {
        "id": "7ecRxcy3gLJb",
        "colab_type": "code",
        "colab": {
          "base_uri": "https://localhost:8080/",
          "height": 233
        },
        "outputId": "7e9d6be4-6690-467f-b7ec-4a2c0ab7c009"
      },
      "source": [
        "cor_target = abs(df_cor['salary'])\n",
        "relevant_features = cor_target[cor_target>0.22].index.values.tolist()\n",
        "df_fin = df0[relevant_features]\n",
        "df_fin.head()"
      ],
      "execution_count": 107,
      "outputs": [
        {
          "output_type": "execute_result",
          "data": {
            "text/html": [
              "<div>\n",
              "<style scoped>\n",
              "    .dataframe tbody tr th:only-of-type {\n",
              "        vertical-align: middle;\n",
              "    }\n",
              "\n",
              "    .dataframe tbody tr th {\n",
              "        vertical-align: top;\n",
              "    }\n",
              "\n",
              "    .dataframe thead th {\n",
              "        text-align: right;\n",
              "    }\n",
              "</style>\n",
              "<table border=\"1\" class=\"dataframe\">\n",
              "  <thead>\n",
              "    <tr style=\"text-align: right;\">\n",
              "      <th></th>\n",
              "      <th>HR</th>\n",
              "      <th>RBI</th>\n",
              "      <th>BB</th>\n",
              "      <th>IBB</th>\n",
              "      <th>SF</th>\n",
              "      <th>GIDP</th>\n",
              "      <th>salary</th>\n",
              "    </tr>\n",
              "    <tr>\n",
              "      <th>playerID</th>\n",
              "      <th></th>\n",
              "      <th></th>\n",
              "      <th></th>\n",
              "      <th></th>\n",
              "      <th></th>\n",
              "      <th></th>\n",
              "      <th></th>\n",
              "    </tr>\n",
              "  </thead>\n",
              "  <tbody>\n",
              "    <tr>\n",
              "      <th>zychto01</th>\n",
              "      <td>0</td>\n",
              "      <td>0.0</td>\n",
              "      <td>0</td>\n",
              "      <td>0.0</td>\n",
              "      <td>0.0</td>\n",
              "      <td>0.0</td>\n",
              "      <td>511000</td>\n",
              "    </tr>\n",
              "    <tr>\n",
              "      <th>zobribe01</th>\n",
              "      <td>18</td>\n",
              "      <td>76.0</td>\n",
              "      <td>96</td>\n",
              "      <td>6.0</td>\n",
              "      <td>4.0</td>\n",
              "      <td>17.0</td>\n",
              "      <td>10500000</td>\n",
              "    </tr>\n",
              "    <tr>\n",
              "      <th>zimmery01</th>\n",
              "      <td>15</td>\n",
              "      <td>46.0</td>\n",
              "      <td>29</td>\n",
              "      <td>1.0</td>\n",
              "      <td>6.0</td>\n",
              "      <td>12.0</td>\n",
              "      <td>14000000</td>\n",
              "    </tr>\n",
              "    <tr>\n",
              "      <th>zimmejo02</th>\n",
              "      <td>0</td>\n",
              "      <td>0.0</td>\n",
              "      <td>0</td>\n",
              "      <td>0.0</td>\n",
              "      <td>0.0</td>\n",
              "      <td>0.0</td>\n",
              "      <td>18000000</td>\n",
              "    </tr>\n",
              "    <tr>\n",
              "      <th>zieglbr01</th>\n",
              "      <td>0</td>\n",
              "      <td>0.0</td>\n",
              "      <td>0</td>\n",
              "      <td>0.0</td>\n",
              "      <td>0.0</td>\n",
              "      <td>0.0</td>\n",
              "      <td>5500000</td>\n",
              "    </tr>\n",
              "  </tbody>\n",
              "</table>\n",
              "</div>"
            ],
            "text/plain": [
              "           HR   RBI  BB  IBB   SF  GIDP    salary\n",
              "playerID                                         \n",
              "zychto01    0   0.0   0  0.0  0.0   0.0    511000\n",
              "zobribe01  18  76.0  96  6.0  4.0  17.0  10500000\n",
              "zimmery01  15  46.0  29  1.0  6.0  12.0  14000000\n",
              "zimmejo02   0   0.0   0  0.0  0.0   0.0  18000000\n",
              "zieglbr01   0   0.0   0  0.0  0.0   0.0   5500000"
            ]
          },
          "metadata": {
            "tags": []
          },
          "execution_count": 107
        }
      ]
    },
    {
      "cell_type": "code",
      "metadata": {
        "id": "9CjDDVqggLMr",
        "colab_type": "code",
        "colab": {
          "base_uri": "https://localhost:8080/",
          "height": 1000
        },
        "outputId": "2c1d114c-fb5a-4523-9c11-1192ee324137"
      },
      "source": [
        "sns.set(style=\"ticks\")\n",
        "sns.pairplot(df_fin, kind='reg')"
      ],
      "execution_count": 108,
      "outputs": [
        {
          "output_type": "execute_result",
          "data": {
            "text/plain": [
              "<seaborn.axisgrid.PairGrid at 0x7f8533239908>"
            ]
          },
          "metadata": {
            "tags": []
          },
          "execution_count": 108
        },
        {
          "output_type": "display_data",
          "data": {
            "image/png": "[encoded data removed]",
            "text/plain": [
              "<Figure size 1260x1260 with 56 Axes>"
            ]
          },
          "metadata": {
            "tags": []
          }
        }
      ]
    },
    {
      "cell_type": "code",
      "metadata": {
        "id": "t1L00JEVgLPk",
        "colab_type": "code",
        "colab": {}
      },
      "source": [
        "# 다중공선성 해결 : 차원축소(pca,svd) 보다는 centering "
      ],
      "execution_count": 0,
      "outputs": []
    },
    {
      "cell_type": "code",
      "metadata": {
        "id": "JaZDTp0UnQ4m",
        "colab_type": "code",
        "colab": {
          "base_uri": "https://localhost:8080/",
          "height": 253
        },
        "outputId": "237866d8-c3d6-49b5-d675-7ef41aed10dc"
      },
      "source": [
        "df1.head()"
      ],
      "execution_count": 120,
      "outputs": [
        {
          "output_type": "execute_result",
          "data": {
            "text/html": [
              "<div>\n",
              "<style scoped>\n",
              "    .dataframe tbody tr th:only-of-type {\n",
              "        vertical-align: middle;\n",
              "    }\n",
              "\n",
              "    .dataframe tbody tr th {\n",
              "        vertical-align: top;\n",
              "    }\n",
              "\n",
              "    .dataframe thead th {\n",
              "        text-align: right;\n",
              "    }\n",
              "</style>\n",
              "<table border=\"1\" class=\"dataframe\">\n",
              "  <thead>\n",
              "    <tr style=\"text-align: right;\">\n",
              "      <th></th>\n",
              "      <th>teamID_x</th>\n",
              "      <th>lgID_x</th>\n",
              "      <th>G</th>\n",
              "      <th>AB</th>\n",
              "      <th>R</th>\n",
              "      <th>H</th>\n",
              "      <th>2B</th>\n",
              "      <th>3B</th>\n",
              "      <th>HR</th>\n",
              "      <th>RBI</th>\n",
              "      <th>SB</th>\n",
              "      <th>CS</th>\n",
              "      <th>BB</th>\n",
              "      <th>SO</th>\n",
              "      <th>IBB</th>\n",
              "      <th>HBP</th>\n",
              "      <th>SH</th>\n",
              "      <th>SF</th>\n",
              "      <th>GIDP</th>\n",
              "      <th>salary</th>\n",
              "    </tr>\n",
              "    <tr>\n",
              "      <th>playerID</th>\n",
              "      <th></th>\n",
              "      <th></th>\n",
              "      <th></th>\n",
              "      <th></th>\n",
              "      <th></th>\n",
              "      <th></th>\n",
              "      <th></th>\n",
              "      <th></th>\n",
              "      <th></th>\n",
              "      <th></th>\n",
              "      <th></th>\n",
              "      <th></th>\n",
              "      <th></th>\n",
              "      <th></th>\n",
              "      <th></th>\n",
              "      <th></th>\n",
              "      <th></th>\n",
              "      <th></th>\n",
              "      <th></th>\n",
              "      <th></th>\n",
              "    </tr>\n",
              "  </thead>\n",
              "  <tbody>\n",
              "    <tr>\n",
              "      <th>zychto01</th>\n",
              "      <td>SEA</td>\n",
              "      <td>AL</td>\n",
              "      <td>12</td>\n",
              "      <td>0</td>\n",
              "      <td>0</td>\n",
              "      <td>0</td>\n",
              "      <td>0</td>\n",
              "      <td>0</td>\n",
              "      <td>0</td>\n",
              "      <td>0.0</td>\n",
              "      <td>0.0</td>\n",
              "      <td>0.0</td>\n",
              "      <td>0</td>\n",
              "      <td>0.0</td>\n",
              "      <td>0.0</td>\n",
              "      <td>0.0</td>\n",
              "      <td>0.0</td>\n",
              "      <td>0.0</td>\n",
              "      <td>0.0</td>\n",
              "      <td>511000</td>\n",
              "    </tr>\n",
              "    <tr>\n",
              "      <th>zobribe01</th>\n",
              "      <td>CHN</td>\n",
              "      <td>NL</td>\n",
              "      <td>147</td>\n",
              "      <td>523</td>\n",
              "      <td>94</td>\n",
              "      <td>142</td>\n",
              "      <td>31</td>\n",
              "      <td>3</td>\n",
              "      <td>18</td>\n",
              "      <td>76.0</td>\n",
              "      <td>6.0</td>\n",
              "      <td>4.0</td>\n",
              "      <td>96</td>\n",
              "      <td>82.0</td>\n",
              "      <td>6.0</td>\n",
              "      <td>4.0</td>\n",
              "      <td>4.0</td>\n",
              "      <td>4.0</td>\n",
              "      <td>17.0</td>\n",
              "      <td>10500000</td>\n",
              "    </tr>\n",
              "    <tr>\n",
              "      <th>zimmery01</th>\n",
              "      <td>WAS</td>\n",
              "      <td>NL</td>\n",
              "      <td>115</td>\n",
              "      <td>427</td>\n",
              "      <td>60</td>\n",
              "      <td>93</td>\n",
              "      <td>18</td>\n",
              "      <td>1</td>\n",
              "      <td>15</td>\n",
              "      <td>46.0</td>\n",
              "      <td>4.0</td>\n",
              "      <td>1.0</td>\n",
              "      <td>29</td>\n",
              "      <td>104.0</td>\n",
              "      <td>1.0</td>\n",
              "      <td>5.0</td>\n",
              "      <td>0.0</td>\n",
              "      <td>6.0</td>\n",
              "      <td>12.0</td>\n",
              "      <td>14000000</td>\n",
              "    </tr>\n",
              "    <tr>\n",
              "      <th>zimmejo02</th>\n",
              "      <td>DET</td>\n",
              "      <td>AL</td>\n",
              "      <td>19</td>\n",
              "      <td>4</td>\n",
              "      <td>0</td>\n",
              "      <td>1</td>\n",
              "      <td>0</td>\n",
              "      <td>0</td>\n",
              "      <td>0</td>\n",
              "      <td>0.0</td>\n",
              "      <td>0.0</td>\n",
              "      <td>0.0</td>\n",
              "      <td>0</td>\n",
              "      <td>2.0</td>\n",
              "      <td>0.0</td>\n",
              "      <td>0.0</td>\n",
              "      <td>1.0</td>\n",
              "      <td>0.0</td>\n",
              "      <td>0.0</td>\n",
              "      <td>18000000</td>\n",
              "    </tr>\n",
              "    <tr>\n",
              "      <th>zieglbr01</th>\n",
              "      <td>BOS</td>\n",
              "      <td>AL</td>\n",
              "      <td>33</td>\n",
              "      <td>0</td>\n",
              "      <td>0</td>\n",
              "      <td>0</td>\n",
              "      <td>0</td>\n",
              "      <td>0</td>\n",
              "      <td>0</td>\n",
              "      <td>0.0</td>\n",
              "      <td>0.0</td>\n",
              "      <td>0.0</td>\n",
              "      <td>0</td>\n",
              "      <td>0.0</td>\n",
              "      <td>0.0</td>\n",
              "      <td>0.0</td>\n",
              "      <td>0.0</td>\n",
              "      <td>0.0</td>\n",
              "      <td>0.0</td>\n",
              "      <td>5500000</td>\n",
              "    </tr>\n",
              "  </tbody>\n",
              "</table>\n",
              "</div>"
            ],
            "text/plain": [
              "          teamID_x lgID_x    G   AB   R  ...  HBP   SH   SF  GIDP    salary\n",
              "playerID                                 ...                               \n",
              "zychto01       SEA     AL   12    0   0  ...  0.0  0.0  0.0   0.0    511000\n",
              "zobribe01      CHN     NL  147  523  94  ...  4.0  4.0  4.0  17.0  10500000\n",
              "zimmery01      WAS     NL  115  427  60  ...  5.0  0.0  6.0  12.0  14000000\n",
              "zimmejo02      DET     AL   19    4   0  ...  0.0  1.0  0.0   0.0  18000000\n",
              "zieglbr01      BOS     AL   33    0   0  ...  0.0  0.0  0.0   0.0   5500000\n",
              "\n",
              "[5 rows x 20 columns]"
            ]
          },
          "metadata": {
            "tags": []
          },
          "execution_count": 120
        }
      ]
    },
    {
      "cell_type": "code",
      "metadata": {
        "id": "iEkf_24EmlIX",
        "colab_type": "code",
        "colab": {}
      },
      "source": [
        "df1 = df0[['G',\t'AB',\t'R']].copy()\n",
        "df1.reset_index( inplace=True)"
      ],
      "execution_count": 0,
      "outputs": []
    },
    {
      "cell_type": "code",
      "metadata": {
        "id": "1OHRZrJ6gLSt",
        "colab_type": "code",
        "colab": {
          "base_uri": "https://localhost:8080/",
          "height": 425
        },
        "outputId": "3a8c2d0e-11df-4f59-e38e-aef1dab3cf3a"
      },
      "source": [
        "# pca\n",
        "from sklearn.preprocessing import StandardScaler\n",
        "X=StandardScaler().fit_transform(df1) # with_std=False, with_mean=False 옵션 지우면 표준화됨, 공분산 : 둘다 False, 상관 : std만 False\n",
        "from sklearn.decomposition import PCA\n",
        "pca= PCA(0.8) # PCA(0.8) rule 80%확률 , n_components=2\n",
        "df_pca=pca.fit_transform(X)\n",
        "pd.DataFrame(df_pca)\n"
      ],
      "execution_count": 130,
      "outputs": [
        {
          "output_type": "error",
          "ename": "ValueError",
          "evalue": "ignored",
          "traceback": [
            "\u001b[0;31m---------------------------------------------------------------------------\u001b[0m",
            "\u001b[0;31mValueError\u001b[0m                                Traceback (most recent call last)",
            "\u001b[0;32m<ipython-input-130-be98ed4cd02e>\u001b[0m in \u001b[0;36m<module>\u001b[0;34m()\u001b[0m\n\u001b[1;32m      1\u001b[0m \u001b[0;32mfrom\u001b[0m \u001b[0msklearn\u001b[0m\u001b[0;34m.\u001b[0m\u001b[0mpreprocessing\u001b[0m \u001b[0;32mimport\u001b[0m \u001b[0mStandardScaler\u001b[0m\u001b[0;34m\u001b[0m\u001b[0;34m\u001b[0m\u001b[0m\n\u001b[0;32m----> 2\u001b[0;31m \u001b[0mX\u001b[0m\u001b[0;34m=\u001b[0m\u001b[0mStandardScaler\u001b[0m\u001b[0;34m(\u001b[0m\u001b[0;34m)\u001b[0m\u001b[0;34m.\u001b[0m\u001b[0mfit_transform\u001b[0m\u001b[0;34m(\u001b[0m\u001b[0mdf1\u001b[0m\u001b[0;34m)\u001b[0m \u001b[0;31m# with_std=False, with_mean=False 옵션 지우면 표준화됨, 공분산 : 둘다 False, 상관 : std만 False\u001b[0m\u001b[0;34m\u001b[0m\u001b[0;34m\u001b[0m\u001b[0m\n\u001b[0m\u001b[1;32m      3\u001b[0m \u001b[0;32mfrom\u001b[0m \u001b[0msklearn\u001b[0m\u001b[0;34m.\u001b[0m\u001b[0mdecomposition\u001b[0m \u001b[0;32mimport\u001b[0m \u001b[0mPCA\u001b[0m\u001b[0;34m\u001b[0m\u001b[0;34m\u001b[0m\u001b[0m\n\u001b[1;32m      4\u001b[0m \u001b[0mpca\u001b[0m\u001b[0;34m=\u001b[0m \u001b[0mPCA\u001b[0m\u001b[0;34m(\u001b[0m\u001b[0;36m0.8\u001b[0m\u001b[0;34m)\u001b[0m \u001b[0;31m# PCA(0.8) rule 80%확률 , n_components=2\u001b[0m\u001b[0;34m\u001b[0m\u001b[0;34m\u001b[0m\u001b[0m\n\u001b[1;32m      5\u001b[0m \u001b[0mdf_pca\u001b[0m\u001b[0;34m=\u001b[0m\u001b[0mpca\u001b[0m\u001b[0;34m.\u001b[0m\u001b[0mfit_transform\u001b[0m\u001b[0;34m(\u001b[0m\u001b[0mX\u001b[0m\u001b[0;34m)\u001b[0m\u001b[0;34m\u001b[0m\u001b[0;34m\u001b[0m\u001b[0m\n",
            "\u001b[0;32m/usr/local/lib/python3.6/dist-packages/sklearn/base.py\u001b[0m in \u001b[0;36mfit_transform\u001b[0;34m(self, X, y, **fit_params)\u001b[0m\n\u001b[1;32m    569\u001b[0m         \u001b[0;32mif\u001b[0m \u001b[0my\u001b[0m \u001b[0;32mis\u001b[0m \u001b[0;32mNone\u001b[0m\u001b[0;34m:\u001b[0m\u001b[0;34m\u001b[0m\u001b[0;34m\u001b[0m\u001b[0m\n\u001b[1;32m    570\u001b[0m             \u001b[0;31m# fit method of arity 1 (unsupervised transformation)\u001b[0m\u001b[0;34m\u001b[0m\u001b[0;34m\u001b[0m\u001b[0;34m\u001b[0m\u001b[0m\n\u001b[0;32m--> 571\u001b[0;31m             \u001b[0;32mreturn\u001b[0m \u001b[0mself\u001b[0m\u001b[0;34m.\u001b[0m\u001b[0mfit\u001b[0m\u001b[0;34m(\u001b[0m\u001b[0mX\u001b[0m\u001b[0;34m,\u001b[0m \u001b[0;34m**\u001b[0m\u001b[0mfit_params\u001b[0m\u001b[0;34m)\u001b[0m\u001b[0;34m.\u001b[0m\u001b[0mtransform\u001b[0m\u001b[0;34m(\u001b[0m\u001b[0mX\u001b[0m\u001b[0;34m)\u001b[0m\u001b[0;34m\u001b[0m\u001b[0;34m\u001b[0m\u001b[0m\n\u001b[0m\u001b[1;32m    572\u001b[0m         \u001b[0;32melse\u001b[0m\u001b[0;34m:\u001b[0m\u001b[0;34m\u001b[0m\u001b[0;34m\u001b[0m\u001b[0m\n\u001b[1;32m    573\u001b[0m             \u001b[0;31m# fit method of arity 2 (supervised transformation)\u001b[0m\u001b[0;34m\u001b[0m\u001b[0;34m\u001b[0m\u001b[0;34m\u001b[0m\u001b[0m\n",
            "\u001b[0;32m/usr/local/lib/python3.6/dist-packages/sklearn/preprocessing/_data.py\u001b[0m in \u001b[0;36mfit\u001b[0;34m(self, X, y)\u001b[0m\n\u001b[1;32m    667\u001b[0m         \u001b[0;31m# Reset internal state before fitting\u001b[0m\u001b[0;34m\u001b[0m\u001b[0;34m\u001b[0m\u001b[0;34m\u001b[0m\u001b[0m\n\u001b[1;32m    668\u001b[0m         \u001b[0mself\u001b[0m\u001b[0;34m.\u001b[0m\u001b[0m_reset\u001b[0m\u001b[0;34m(\u001b[0m\u001b[0;34m)\u001b[0m\u001b[0;34m\u001b[0m\u001b[0;34m\u001b[0m\u001b[0m\n\u001b[0;32m--> 669\u001b[0;31m         \u001b[0;32mreturn\u001b[0m \u001b[0mself\u001b[0m\u001b[0;34m.\u001b[0m\u001b[0mpartial_fit\u001b[0m\u001b[0;34m(\u001b[0m\u001b[0mX\u001b[0m\u001b[0;34m,\u001b[0m \u001b[0my\u001b[0m\u001b[0;34m)\u001b[0m\u001b[0;34m\u001b[0m\u001b[0;34m\u001b[0m\u001b[0m\n\u001b[0m\u001b[1;32m    670\u001b[0m \u001b[0;34m\u001b[0m\u001b[0m\n\u001b[1;32m    671\u001b[0m     \u001b[0;32mdef\u001b[0m \u001b[0mpartial_fit\u001b[0m\u001b[0;34m(\u001b[0m\u001b[0mself\u001b[0m\u001b[0;34m,\u001b[0m \u001b[0mX\u001b[0m\u001b[0;34m,\u001b[0m \u001b[0my\u001b[0m\u001b[0;34m=\u001b[0m\u001b[0;32mNone\u001b[0m\u001b[0;34m)\u001b[0m\u001b[0;34m:\u001b[0m\u001b[0;34m\u001b[0m\u001b[0;34m\u001b[0m\u001b[0m\n",
            "\u001b[0;32m/usr/local/lib/python3.6/dist-packages/sklearn/preprocessing/_data.py\u001b[0m in \u001b[0;36mpartial_fit\u001b[0;34m(self, X, y)\u001b[0m\n\u001b[1;32m    698\u001b[0m         X = check_array(X, accept_sparse=('csr', 'csc'),\n\u001b[1;32m    699\u001b[0m                         \u001b[0mestimator\u001b[0m\u001b[0;34m=\u001b[0m\u001b[0mself\u001b[0m\u001b[0;34m,\u001b[0m \u001b[0mdtype\u001b[0m\u001b[0;34m=\u001b[0m\u001b[0mFLOAT_DTYPES\u001b[0m\u001b[0;34m,\u001b[0m\u001b[0;34m\u001b[0m\u001b[0;34m\u001b[0m\u001b[0m\n\u001b[0;32m--> 700\u001b[0;31m                         force_all_finite='allow-nan')\n\u001b[0m\u001b[1;32m    701\u001b[0m \u001b[0;34m\u001b[0m\u001b[0m\n\u001b[1;32m    702\u001b[0m         \u001b[0;31m# Even in the case of `with_mean=False`, we update the mean anyway\u001b[0m\u001b[0;34m\u001b[0m\u001b[0;34m\u001b[0m\u001b[0;34m\u001b[0m\u001b[0m\n",
            "\u001b[0;32m/usr/local/lib/python3.6/dist-packages/sklearn/utils/validation.py\u001b[0m in \u001b[0;36mcheck_array\u001b[0;34m(array, accept_sparse, accept_large_sparse, dtype, order, copy, force_all_finite, ensure_2d, allow_nd, ensure_min_samples, ensure_min_features, warn_on_dtype, estimator)\u001b[0m\n\u001b[1;32m    529\u001b[0m                     \u001b[0marray\u001b[0m \u001b[0;34m=\u001b[0m \u001b[0marray\u001b[0m\u001b[0;34m.\u001b[0m\u001b[0mastype\u001b[0m\u001b[0;34m(\u001b[0m\u001b[0mdtype\u001b[0m\u001b[0;34m,\u001b[0m \u001b[0mcasting\u001b[0m\u001b[0;34m=\u001b[0m\u001b[0;34m\"unsafe\"\u001b[0m\u001b[0;34m,\u001b[0m \u001b[0mcopy\u001b[0m\u001b[0;34m=\u001b[0m\u001b[0;32mFalse\u001b[0m\u001b[0;34m)\u001b[0m\u001b[0;34m\u001b[0m\u001b[0;34m\u001b[0m\u001b[0m\n\u001b[1;32m    530\u001b[0m                 \u001b[0;32melse\u001b[0m\u001b[0;34m:\u001b[0m\u001b[0;34m\u001b[0m\u001b[0;34m\u001b[0m\u001b[0m\n\u001b[0;32m--> 531\u001b[0;31m                     \u001b[0marray\u001b[0m \u001b[0;34m=\u001b[0m \u001b[0mnp\u001b[0m\u001b[0;34m.\u001b[0m\u001b[0masarray\u001b[0m\u001b[0;34m(\u001b[0m\u001b[0marray\u001b[0m\u001b[0;34m,\u001b[0m \u001b[0morder\u001b[0m\u001b[0;34m=\u001b[0m\u001b[0morder\u001b[0m\u001b[0;34m,\u001b[0m \u001b[0mdtype\u001b[0m\u001b[0;34m=\u001b[0m\u001b[0mdtype\u001b[0m\u001b[0;34m)\u001b[0m\u001b[0;34m\u001b[0m\u001b[0;34m\u001b[0m\u001b[0m\n\u001b[0m\u001b[1;32m    532\u001b[0m             \u001b[0;32mexcept\u001b[0m \u001b[0mComplexWarning\u001b[0m\u001b[0;34m:\u001b[0m\u001b[0;34m\u001b[0m\u001b[0;34m\u001b[0m\u001b[0m\n\u001b[1;32m    533\u001b[0m                 raise ValueError(\"Complex data not supported\\n\"\n",
            "\u001b[0;32m/usr/local/lib/python3.6/dist-packages/numpy/core/_asarray.py\u001b[0m in \u001b[0;36masarray\u001b[0;34m(a, dtype, order)\u001b[0m\n\u001b[1;32m     83\u001b[0m \u001b[0;34m\u001b[0m\u001b[0m\n\u001b[1;32m     84\u001b[0m     \"\"\"\n\u001b[0;32m---> 85\u001b[0;31m     \u001b[0;32mreturn\u001b[0m \u001b[0marray\u001b[0m\u001b[0;34m(\u001b[0m\u001b[0ma\u001b[0m\u001b[0;34m,\u001b[0m \u001b[0mdtype\u001b[0m\u001b[0;34m,\u001b[0m \u001b[0mcopy\u001b[0m\u001b[0;34m=\u001b[0m\u001b[0;32mFalse\u001b[0m\u001b[0;34m,\u001b[0m \u001b[0morder\u001b[0m\u001b[0;34m=\u001b[0m\u001b[0morder\u001b[0m\u001b[0;34m)\u001b[0m\u001b[0;34m\u001b[0m\u001b[0;34m\u001b[0m\u001b[0m\n\u001b[0m\u001b[1;32m     86\u001b[0m \u001b[0;34m\u001b[0m\u001b[0m\n\u001b[1;32m     87\u001b[0m \u001b[0;34m\u001b[0m\u001b[0m\n",
            "\u001b[0;31mValueError\u001b[0m: could not convert string to float: 'zychto01'"
          ]
        }
      ]
    },
    {
      "cell_type": "code",
      "metadata": {
        "id": "jIyxwwU5gLWO",
        "colab_type": "code",
        "colab": {}
      },
      "source": [
        "pd.DataFrame(df_pca).corr()\n"
      ],
      "execution_count": 0,
      "outputs": []
    },
    {
      "cell_type": "code",
      "metadata": {
        "id": "_zjmHLVOgLZX",
        "colab_type": "code",
        "colab": {}
      },
      "source": [
        "plt.plot(df_pca)\n",
        "plt.title('pca')\n",
        "plt.show()"
      ],
      "execution_count": 0,
      "outputs": []
    },
    {
      "cell_type": "code",
      "metadata": {
        "id": "rfetXnVOqNe0",
        "colab_type": "code",
        "colab": {}
      },
      "source": [
        "# 변수영향도 : 이름붙이기 힘들지만 많이 영향도 있는 변수들을 보고 판단 \n",
        "df_loading = pd.DataFrame(pca.components_.T)\n",
        "df_loading.set_index(df1.columns)"
      ],
      "execution_count": 0,
      "outputs": []
    },
    {
      "cell_type": "code",
      "metadata": {
        "id": "1pWrK8wBrNaT",
        "colab_type": "code",
        "colab": {}
      },
      "source": [
        "# id별 주성분 수치\n",
        "pca_df = pd.DataFrame(df_pca.columns=['주성분1','주성분2'])\n",
        "pca_df.set_index(df1.index, inplace=True)\n",
        "pca_df.reset_index(inplace=True)\n",
        "pca_df.head()"
      ],
      "execution_count": 0,
      "outputs": []
    },
    {
      "cell_type": "code",
      "metadata": {
        "id": "HKHgpRjprNdn",
        "colab_type": "code",
        "colab": {}
      },
      "source": [
        "# 2차원 시각화 \n",
        "fig = px.scatter(pca_df, x='주성분1', y='주성분2', text='playerID')\n",
        "fig.show()"
      ],
      "execution_count": 0,
      "outputs": []
    },
    {
      "cell_type": "code",
      "metadata": {
        "id": "EYuoxUZls0ea",
        "colab_type": "code",
        "colab": {}
      },
      "source": [
        "# 주성분 분석으로 변수 차원 축소해놓고 그걸로 회귀분석진행"
      ],
      "execution_count": 0,
      "outputs": []
    },
    {
      "cell_type": "code",
      "metadata": {
        "id": "pvBHeCF-rNhJ",
        "colab_type": "code",
        "colab": {}
      },
      "source": [
        "# SVD : singular value decomposition \n",
        "# pca는 공분산 이용, svd는 직교행렬로 분해(변수 영향도 파악 어려움)\n"
      ],
      "execution_count": 0,
      "outputs": []
    },
    {
      "cell_type": "code",
      "metadata": {
        "id": "GMxSTKZKrNkZ",
        "colab_type": "code",
        "colab": {}
      },
      "source": [
        "# 판별분석 : 다변량 분석, 어떤 분류기준으로 나눌수 있는지 logistic regression\n",
        "# R :공분산 같으면 linear, 공분산 틀리면 쿼드네틱 써라?? python에는 지원안되서 ROC Curve로 판단 해야됨 \n",
        "# 군집 분석(y값없음) vs 판별분석(정답있음: 예)타이타닉 생존) "
      ],
      "execution_count": 0,
      "outputs": []
    },
    {
      "cell_type": "code",
      "metadata": {
        "id": "H8lOJO5OrNov",
        "colab_type": "code",
        "colab": {}
      },
      "source": [
        "# 50% 상위 분류값 추가\n",
        "# df1['gr'] = ['up' if x>=df.salary.quantile(0.5) else 'dn' for x in df1['salary']]\n",
        "df1['gr'] = [1 if x>=df.salary.quantile(0.5) else 0 for x in df1['salary']]"
      ],
      "execution_count": 0,
      "outputs": []
    },
    {
      "cell_type": "code",
      "metadata": {
        "id": "JyxbJ2p_zveF",
        "colab_type": "code",
        "colab": {}
      },
      "source": [
        "from sklearn.discriminant_analysis import QuadraticDiscriminantAnalysis as QDA\n",
        "qda = QDA()\n",
        "\n",
        "X=df1.iloc[:,3:20].values\n",
        "y=df0.iloc[:,20].values\n",
        "X_qda = qda.fit(X,y)\n",
        "\n",
        "qda.predict_proba(X)[0:3]\n",
        "#pd.crosstab"
      ],
      "execution_count": 0,
      "outputs": []
    },
    {
      "cell_type": "code",
      "metadata": {
        "id": "XlY0cVKYzvhq",
        "colab_type": "code",
        "colab": {}
      },
      "source": [
        "# logistic regression\n",
        "\n",
        "from sklearn.linear_model import LogisticRegression\n",
        "logit_fit = LogisticRegression(fit_intercept=True).fit(X,y)\n",
        "y_pred = logit_fit.predict(X)\n",
        "print('Accuracy:{:.2f}'.format(logit_fit.score(X,y)))"
      ],
      "execution_count": 0,
      "outputs": []
    },
    {
      "cell_type": "code",
      "metadata": {
        "id": "p3hSUNtzzvk4",
        "colab_type": "code",
        "colab": {}
      },
      "source": [
        "from sklearn.metrics import classification_report\n",
        "print(classification_report(y,y_pred))"
      ],
      "execution_count": 0,
      "outputs": []
    },
    {
      "cell_type": "code",
      "metadata": {
        "id": "o_ng6ENUzvno",
        "colab_type": "code",
        "colab": {}
      },
      "source": [
        ""
      ],
      "execution_count": 0,
      "outputs": []
    },
    {
      "cell_type": "code",
      "metadata": {
        "id": "tcvqmU4rzvrN",
        "colab_type": "code",
        "colab": {}
      },
      "source": [
        "table = pd.crosstab(df1,group,y_pred)\n",
        "table.apply(lamda r:r/r.sum(),axis=1)"
      ],
      "execution_count": 0,
      "outputs": []
    },
    {
      "cell_type": "code",
      "metadata": {
        "id": "l4hZ1tEp22oz",
        "colab_type": "code",
        "colab": {}
      },
      "source": [
        "# 유의성 report\n",
        "import statsmodels.api as sm \n",
        "model = sm.Logit(y,X)\n",
        "result = model.fit()\n",
        "result.summary()"
      ],
      "execution_count": 0,
      "outputs": []
    },
    {
      "cell_type": "code",
      "metadata": {
        "id": "_c-SA0ts23Dl",
        "colab_type": "code",
        "colab": {}
      },
      "source": [
        "# 대응분석 in R\n",
        "# 빈도별 거리, multidimension \n",
        "\n",
        "# e.g. 총선 후 지도자별 지역별 확률\n",
        "import rpy2\n",
        "%load_ext rpy2.ipython\n",
        "\n"
      ],
      "execution_count": 0,
      "outputs": []
    },
    {
      "cell_type": "code",
      "metadata": {
        "id": "vJhN5vzl5Yqc",
        "colab_type": "code",
        "colab": {
          "base_uri": "https://localhost:8080/",
          "height": 185
        },
        "outputId": "ee67e75e-94b7-47ca-e5e7-86eed61fede5"
      },
      "source": [
        "%%R\n",
        "install.packages(C(\"FactoMineR\",\"factoextra\",\"gplots\"))"
      ],
      "execution_count": 132,
      "outputs": [
        {
          "output_type": "stream",
          "text": [
            "\n",
            "Error in C(\"FactoMineR\", \"factoextra\", \"gplots\") : \n",
            "  object not interpretable as a factor\n"
          ],
          "name": "stdout"
        },
        {
          "output_type": "stream",
          "text": [
            "/usr/local/lib/python3.6/dist-packages/rpy2/rinterface/__init__.py:146: RRuntimeWarning:\n",
            "\n",
            "Error in C(\"FactoMineR\", \"factoextra\", \"gplots\") : \n",
            "  object not interpretable as a factor\n",
            "\n",
            "\n"
          ],
          "name": "stderr"
        }
      ]
    },
    {
      "cell_type": "code",
      "metadata": {
        "id": "msv3ZERh5Yte",
        "colab_type": "code",
        "colab": {}
      },
      "source": [
        "%%R\n",
        "library('FactoMineR');library(\"factoextra\");library(\"gplots\")\n",
        "data(housetasks)\n",
        "dt <- as.table(as.matrix(housetasks)) \n",
        "balloonplot(t(dt), main=\"housetasks\", xlab=\"by whom\", ylab=\"House Works\")"
      ],
      "execution_count": 0,
      "outputs": []
    },
    {
      "cell_type": "code",
      "metadata": {
        "id": "eV_LDapz6EaT",
        "colab_type": "code",
        "colab": {}
      },
      "source": [
        "%%R\n",
        "chisq.test(housetasks)"
      ],
      "execution_count": 0,
      "outputs": []
    },
    {
      "cell_type": "code",
      "metadata": {
        "id": "HYmYPt3b6ZRR",
        "colab_type": "code",
        "colab": {}
      },
      "source": [
        "%%R\n",
        "res.ca <-CA(housetasks, graph=FALSE)\n",
        "fvix_ca_biplot(res.ca)"
      ],
      "execution_count": 0,
      "outputs": []
    },
    {
      "cell_type": "code",
      "metadata": {
        "id": "35iPUZQ76ZUv",
        "colab_type": "code",
        "colab": {}
      },
      "source": [
        ""
      ],
      "execution_count": 0,
      "outputs": []
    },
    {
      "cell_type": "code",
      "metadata": {
        "id": "lVZcZsdr6Za0",
        "colab_type": "code",
        "colab": {}
      },
      "source": [
        ""
      ],
      "execution_count": 0,
      "outputs": []
    },
    {
      "cell_type": "code",
      "metadata": {
        "id": "Q1K1ogL36ZkX",
        "colab_type": "code",
        "colab": {}
      },
      "source": [
        ""
      ],
      "execution_count": 0,
      "outputs": []
    },
    {
      "cell_type": "code",
      "metadata": {
        "id": "n5qjLB6x6ZXj",
        "colab_type": "code",
        "colab": {}
      },
      "source": [
        ""
      ],
      "execution_count": 0,
      "outputs": []
    },
    {
      "cell_type": "code",
      "metadata": {
        "id": "pR3ahEdl5YxJ",
        "colab_type": "code",
        "colab": {}
      },
      "source": [
        ""
      ],
      "execution_count": 0,
      "outputs": []
    },
    {
      "cell_type": "code",
      "metadata": {
        "id": "rLLgQKNX5Y0x",
        "colab_type": "code",
        "colab": {}
      },
      "source": [
        ""
      ],
      "execution_count": 0,
      "outputs": []
    },
    {
      "cell_type": "markdown",
      "metadata": {
        "id": "KSWYSdRSvyji",
        "colab_type": "text"
      },
      "source": [
        "95% 1.96(약 2 이상) \n",
        "outlier : IQr 1.5배 벗어나면 mild outlier (3iqr넘어가면 servere outlier \n",
        "\n",
        "influential  \n"
      ]
    },
    {
      "cell_type": "code",
      "metadata": {
        "id": "BroAg8nW5T1q",
        "colab_type": "code",
        "colab": {}
      },
      "source": [
        ""
      ],
      "execution_count": 0,
      "outputs": []
    }
  ]
}